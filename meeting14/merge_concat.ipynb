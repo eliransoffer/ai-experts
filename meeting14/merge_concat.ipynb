{
  "nbformat": 4,
  "nbformat_minor": 0,
  "metadata": {
    "colab": {
      "provenance": [],
      "authorship_tag": "ABX9TyOTU2rxxE4dCPfAHLgpbTpt",
      "include_colab_link": true
    },
    "kernelspec": {
      "name": "python3",
      "display_name": "Python 3"
    },
    "language_info": {
      "name": "python"
    }
  },
  "cells": [
    {
      "cell_type": "markdown",
      "metadata": {
        "id": "view-in-github",
        "colab_type": "text"
      },
      "source": [
        "<a href=\"https://colab.research.google.com/github/valeria-edulabs/ai-experts/blob/main/meeting14/merge_concat.ipynb\" target=\"_parent\"><img src=\"https://colab.research.google.com/assets/colab-badge.svg\" alt=\"Open In Colab\"/></a>"
      ]
    },
    {
      "cell_type": "code",
      "execution_count": null,
      "metadata": {
        "id": "qj_KBvjT8Hg6"
      },
      "outputs": [],
      "source": [
        "import pandas as pd"
      ]
    },
    {
      "cell_type": "markdown",
      "source": [
        "## Merge and concat"
      ],
      "metadata": {
        "id": "HFsg3YR3cBxK"
      }
    },
    {
      "cell_type": "code",
      "source": [
        "fruits = pd.read_csv(\"https://storage.googleapis.com/intel-ai/fruits.csv\")\n",
        "vegetables = pd.read_csv(\"https://storage.googleapis.com/intel-ai/vegetables.csv\")"
      ],
      "metadata": {
        "id": "LlzMSP_iiLZJ"
      },
      "execution_count": null,
      "outputs": []
    },
    {
      "cell_type": "code",
      "source": [
        "fruits"
      ],
      "metadata": {
        "id": "wmUmfXWWbYT_"
      },
      "execution_count": null,
      "outputs": []
    },
    {
      "cell_type": "code",
      "source": [
        "vegetables"
      ],
      "metadata": {
        "id": "kkRFGFLSbdvU"
      },
      "execution_count": null,
      "outputs": []
    },
    {
      "cell_type": "markdown",
      "source": [
        "### Concat\n",
        "Concatenate pandas objects along a particular axis.\n",
        "\n",
        "E.g: Create one huge dataframe holding data from all the sensors"
      ],
      "metadata": {
        "id": "-IViS0YscJ9c"
      }
    },
    {
      "cell_type": "code",
      "source": [
        "pd.concat([fruits, vegetables], axis=0)"
      ],
      "metadata": {
        "id": "Dm-Mf0imcE2M"
      },
      "execution_count": null,
      "outputs": []
    },
    {
      "cell_type": "code",
      "source": [
        "pd.concat([fruits, vegetables], axis=1)"
      ],
      "metadata": {
        "id": "I_WEyBlhdWbi"
      },
      "execution_count": null,
      "outputs": []
    },
    {
      "cell_type": "markdown",
      "source": [
        "### Merge\n",
        "(Merge DataFrame or named Series objects with a database-style join)\n",
        "\n",
        "Merge dataframes w.r.t columns(s)"
      ],
      "metadata": {
        "id": "blccDyDncStn"
      }
    },
    {
      "cell_type": "code",
      "source": [
        "# Sample data with null values\n",
        "movies = pd.DataFrame({\n",
        "    'title': ['The Shawshank Redemption', 'Pulp Fiction', 'The Dark Knight', 'Forrest Gump', 'Inception'],\n",
        "    'year': [1994, 1994, 2008, 1994, 2010]\n",
        "})\n",
        "\n",
        "actors = pd.DataFrame({\n",
        "    'actor_name': ['Tim Robbins', 'Morgan Freeman', 'John Travolta', 'Christian Bale', np.nan],  # Null actor\n",
        "    'title': ['The Shawshank Redemption', 'The Shawshank Redemption', 'Pulp Fiction', 'The Dark Knight', 'The Godfather']  # Movie not in `movies`\n",
        "})"
      ],
      "metadata": {
        "id": "lmkP1Xd6b9xV"
      },
      "execution_count": null,
      "outputs": []
    },
    {
      "cell_type": "code",
      "source": [
        "movies"
      ],
      "metadata": {
        "id": "-1sLhBj0b-yK"
      },
      "execution_count": null,
      "outputs": []
    },
    {
      "cell_type": "code",
      "source": [
        "actors"
      ],
      "metadata": {
        "id": "VQ4uzx8QcATz"
      },
      "execution_count": null,
      "outputs": []
    },
    {
      "cell_type": "code",
      "source": [
        "# Example\n",
        "\n",
        "\n",
        "\n",
        "\n",
        "# Various types of joins\n",
        "inner_join = pd.merge(movies, actors, on='title', how='inner')\n",
        "left_join = pd.merge(movies, actors, on='title', how='left')\n",
        "right_join = pd.merge(movies, actors, on='title', how='right')\n",
        "outer_join = pd.merge(movies, actors, on='title', how='outer')\n",
        "\n",
        "print(\"Inner Join:\")\n",
        "print(inner_join)\n",
        "\n",
        "print(\"\\nLeft Join:\")\n",
        "print(left_join)\n",
        "\n",
        "print(\"\\nRight Join:\")\n",
        "print(right_join)\n",
        "\n",
        "print(\"\\nOuter Join:\")\n",
        "print(outer_join)\n"
      ],
      "metadata": {
        "id": "eTXFoMNQjsFc"
      },
      "execution_count": null,
      "outputs": []
    }
  ]
}
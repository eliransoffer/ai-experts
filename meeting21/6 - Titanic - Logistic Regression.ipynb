{
 "nbformat": 4,
 "nbformat_minor": 0,
 "metadata": {
  "colab": {
   "provenance": [],
   "toc_visible": true,
   "authorship_tag": "ABX9TyN+QjB/7k8ViVaAHzlTnAFM"
  },
  "kernelspec": {
   "name": "python3",
   "display_name": "Python 3"
  },
  "language_info": {
   "name": "python"
  }
 },
 "cells": [
  {
   "cell_type": "markdown",
   "source": [
    "# Imports and Data Loading"
   ],
   "metadata": {
    "id": "neInbEBFwVAy"
   }
  },
  {
   "cell_type": "code",
   "metadata": {
    "id": "cXuy__cCwKEf",
    "executionInfo": {
     "status": "ok",
     "timestamp": 1741529903071,
     "user_tz": -120,
     "elapsed": 10,
     "user": {
      "displayName": "Valeria Aynbinder",
      "userId": "10876993785060579075"
     }
    }
   },
   "source": [
    "# Import necessary libraries\n",
    "import pandas as pd\n",
    "import numpy as np\n",
    "import seaborn as sns\n",
    "import matplotlib.pyplot as plt\n",
    "from sklearn.model_selection import train_test_split\n",
    "from sklearn.preprocessing import StandardScaler, OneHotEncoder\n",
    "from sklearn.impute import SimpleImputer\n",
    "from sklearn.pipeline import Pipeline\n",
    "from sklearn.compose import ColumnTransformer\n",
    "from sklearn.linear_model import LogisticRegression\n",
    "from sklearn import metrics\n",
    "import statsmodels.api as sm\n",
    "#  (high-level, simple to use)\n",
    "import plotly.express as px\n",
    "# (low-level, highly customizable)\n",
    "import plotly.graph_objects as go\n",
    "from sklearn.metrics import roc_curve, auc\n",
    "\n"
   ],
   "outputs": [],
   "execution_count": null
  },
  {
   "cell_type": "code",
   "source": [
    "train_data_path = \"https://storage.googleapis.com/edulabs-public-datasets/titanic/titanic-train.csv\"\n",
    "test_data_path = \"https://storage.googleapis.com/edulabs-public-datasets/titanic/titanic-test.csv\""
   ],
   "metadata": {
    "id": "-YhNIdM7KOew",
    "executionInfo": {
     "status": "ok",
     "timestamp": 1741528071110,
     "user_tz": -120,
     "elapsed": 1,
     "user": {
      "displayName": "Valeria Aynbinder",
      "userId": "10876993785060579075"
     }
    }
   },
   "outputs": [],
   "execution_count": null
  },
  {
   "cell_type": "code",
   "source": [
    "# Load Titanic dataset\n",
    "df = pd.read_csv(train_data_path)\n",
    "\n",
    "df\n",
    "\n",
    "#sibsp. Number of Siblings/Spouses Aboard.\n",
    "#parch. Number of Parents/Children Aboard."
   ],
   "metadata": {
    "colab": {
     "base_uri": "https://localhost:8080/",
     "height": 424
    },
    "id": "tEx61he9KUPp",
    "executionInfo": {
     "status": "ok",
     "timestamp": 1741529613372,
     "user_tz": -120,
     "elapsed": 101,
     "user": {
      "displayName": "Valeria Aynbinder",
      "userId": "10876993785060579075"
     }
    },
    "outputId": "8aa3610c-f0e3-44ba-e030-9b80787dca47"
   },
   "outputs": [],
   "execution_count": null
  },
  {
   "cell_type": "markdown",
   "source": [
    "# Quick data cleaning\n",
    "\n",
    "**Note: this is not optimal data cleaning, we will improve this later.**\n",
    "\n",
    "Now we just want to move directly to Classification with Logistic Regression"
   ],
   "metadata": {
    "id": "vjRKGj5AKdKR"
   }
  },
  {
   "cell_type": "code",
   "source": [
    "# Check missing values\n",
    "df.isnull().sum()"
   ],
   "metadata": {
    "id": "LpwKBBM_wdBI",
    "colab": {
     "base_uri": "https://localhost:8080/",
     "height": 460
    },
    "executionInfo": {
     "status": "ok",
     "timestamp": 1741529614548,
     "user_tz": -120,
     "elapsed": 4,
     "user": {
      "displayName": "Valeria Aynbinder",
      "userId": "10876993785060579075"
     }
    },
    "outputId": "98642316-8945-416a-c803-d1db41557d28"
   },
   "outputs": [],
   "execution_count": null
  },
  {
   "cell_type": "code",
   "source": [
    "# drop Cabin column - too many missing values\n",
    "df.drop(columns=['Cabin'], inplace=True)\n",
    "\n",
    "# fill age with median age by groups\n"
   ],
   "metadata": {
    "id": "VWOlx0hjKx7c",
    "executionInfo": {
     "status": "ok",
     "timestamp": 1741529615549,
     "user_tz": -120,
     "elapsed": 3,
     "user": {
      "displayName": "Valeria Aynbinder",
      "userId": "10876993785060579075"
     }
    }
   },
   "outputs": [],
   "execution_count": null
  },
  {
   "cell_type": "code",
   "source": [
    "df.Age.plot(kind='hist', bins=30)"
   ],
   "metadata": {
    "colab": {
     "base_uri": "https://localhost:8080/",
     "height": 447
    },
    "id": "bDR8K6nCMBbq",
    "executionInfo": {
     "status": "ok",
     "timestamp": 1741529617015,
     "user_tz": -120,
     "elapsed": 223,
     "user": {
      "displayName": "Valeria Aynbinder",
      "userId": "10876993785060579075"
     }
    },
    "outputId": "d6998936-f15d-4018-c6bb-7b96eb3a062a"
   },
   "outputs": [],
   "execution_count": null
  },
  {
   "cell_type": "code",
   "source": [
    "df.groupby(['Sex'])['Age'].median()"
   ],
   "metadata": {
    "colab": {
     "base_uri": "https://localhost:8080/",
     "height": 178
    },
    "id": "_Zrs2zhwL5XN",
    "executionInfo": {
     "status": "ok",
     "timestamp": 1741529617125,
     "user_tz": -120,
     "elapsed": 12,
     "user": {
      "displayName": "Valeria Aynbinder",
      "userId": "10876993785060579075"
     }
    },
    "outputId": "070cd4ef-3147-4eec-9263-9212e6b40590"
   },
   "outputs": [],
   "execution_count": null
  },
  {
   "cell_type": "code",
   "source": [
    "df.groupby(['Pclass'])['Age'].median()"
   ],
   "metadata": {
    "colab": {
     "base_uri": "https://localhost:8080/",
     "height": 210
    },
    "id": "hQx-DO0jLC9t",
    "executionInfo": {
     "status": "ok",
     "timestamp": 1741529617546,
     "user_tz": -120,
     "elapsed": 11,
     "user": {
      "displayName": "Valeria Aynbinder",
      "userId": "10876993785060579075"
     }
    },
    "outputId": "e00055e1-dcaf-41a0-b66f-7dfbd627c8f8"
   },
   "outputs": [],
   "execution_count": null
  },
  {
   "cell_type": "code",
   "source": [
    "df.groupby(['Sex', 'Pclass', 'Parch'])['Age'].median()"
   ],
   "metadata": {
    "colab": {
     "base_uri": "https://localhost:8080/",
     "height": 962
    },
    "id": "5G7a7B5ZL81U",
    "executionInfo": {
     "status": "ok",
     "timestamp": 1741529617739,
     "user_tz": -120,
     "elapsed": 69,
     "user": {
      "displayName": "Valeria Aynbinder",
      "userId": "10876993785060579075"
     }
    },
    "outputId": "3f3508fb-332f-4cd3-fecd-8db3cd6c6495"
   },
   "outputs": [],
   "execution_count": null
  },
  {
   "cell_type": "code",
   "source": [
    "# use groupby transform to fill the age\n",
    "df['Age'] = df.groupby(['Sex', 'Pclass', 'Parch'])['Age'].transform(lambda x: x.fillna(x.median()))"
   ],
   "metadata": {
    "id": "1Lkm_Fm0MIP5",
    "executionInfo": {
     "status": "ok",
     "timestamp": 1741529617883,
     "user_tz": -120,
     "elapsed": 13,
     "user": {
      "displayName": "Valeria Aynbinder",
      "userId": "10876993785060579075"
     }
    }
   },
   "outputs": [],
   "execution_count": null
  },
  {
   "cell_type": "code",
   "source": [
    "df.Age.plot(kind='hist', bins=30)"
   ],
   "metadata": {
    "colab": {
     "base_uri": "https://localhost:8080/",
     "height": 447
    },
    "id": "ytCLPX3mMPCk",
    "executionInfo": {
     "status": "ok",
     "timestamp": 1741529618738,
     "user_tz": -120,
     "elapsed": 247,
     "user": {
      "displayName": "Valeria Aynbinder",
      "userId": "10876993785060579075"
     }
    },
    "outputId": "b57b1aed-1fa2-4d85-f128-20ac3679e590"
   },
   "outputs": [],
   "execution_count": null
  },
  {
   "cell_type": "code",
   "source": [
    "df.isnull().sum()"
   ],
   "metadata": {
    "colab": {
     "base_uri": "https://localhost:8080/",
     "height": 429
    },
    "id": "-GbPALq-NTmL",
    "executionInfo": {
     "status": "ok",
     "timestamp": 1741529619088,
     "user_tz": -120,
     "elapsed": 7,
     "user": {
      "displayName": "Valeria Aynbinder",
      "userId": "10876993785060579075"
     }
    },
    "outputId": "a5e307b4-bb0a-4851-a6c3-bbee6c06dffb"
   },
   "outputs": [],
   "execution_count": null
  },
  {
   "cell_type": "code",
   "source": [
    "# drop left 2 rows with nulls\n",
    "df.dropna(inplace=True)"
   ],
   "metadata": {
    "id": "uZcsNF5gNWOy",
    "executionInfo": {
     "status": "ok",
     "timestamp": 1741529619940,
     "user_tz": -120,
     "elapsed": 30,
     "user": {
      "displayName": "Valeria Aynbinder",
      "userId": "10876993785060579075"
     }
    }
   },
   "outputs": [],
   "execution_count": null
  },
  {
   "cell_type": "code",
   "source": [
    "df.isnull().sum()"
   ],
   "metadata": {
    "colab": {
     "base_uri": "https://localhost:8080/",
     "height": 429
    },
    "id": "Yh6_gaUPNcGg",
    "executionInfo": {
     "status": "ok",
     "timestamp": 1741529620538,
     "user_tz": -120,
     "elapsed": 13,
     "user": {
      "displayName": "Valeria Aynbinder",
      "userId": "10876993785060579075"
     }
    },
    "outputId": "8e7f86d8-a8eb-4f26-d67e-0e69a33d1f6c"
   },
   "outputs": [],
   "execution_count": null
  },
  {
   "cell_type": "markdown",
   "source": [
    "## Remove / transform columns"
   ],
   "metadata": {
    "id": "b_x3grjuNiVW"
   }
  },
  {
   "cell_type": "code",
   "source": [
    "# drop columns\n",
    "df.drop(columns=['PassengerId', 'Name', 'Ticket'], inplace=True)"
   ],
   "metadata": {
    "id": "SzghYrvDNqgw",
    "executionInfo": {
     "status": "ok",
     "timestamp": 1741529621955,
     "user_tz": -120,
     "elapsed": 4,
     "user": {
      "displayName": "Valeria Aynbinder",
      "userId": "10876993785060579075"
     }
    }
   },
   "outputs": [],
   "execution_count": null
  },
  {
   "cell_type": "code",
   "source": [
    "# convert types\n",
    "df.info()"
   ],
   "metadata": {
    "colab": {
     "base_uri": "https://localhost:8080/"
    },
    "id": "lBCgYrgSNtqC",
    "executionInfo": {
     "status": "ok",
     "timestamp": 1741529622552,
     "user_tz": -120,
     "elapsed": 12,
     "user": {
      "displayName": "Valeria Aynbinder",
      "userId": "10876993785060579075"
     }
    },
    "outputId": "887c26fa-d888-40f6-820d-80e719840de8"
   },
   "outputs": [],
   "execution_count": null
  },
  {
   "cell_type": "code",
   "source": [
    "# convert sex to is_male\n",
    "df['is_male'] = df['Sex'].map({'male': 1, 'female': 0})\n",
    "df.drop(columns=['Sex'], inplace=True)"
   ],
   "metadata": {
    "id": "_LA5Q20XN5mG",
    "executionInfo": {
     "status": "ok",
     "timestamp": 1741529623323,
     "user_tz": -120,
     "elapsed": 42,
     "user": {
      "displayName": "Valeria Aynbinder",
      "userId": "10876993785060579075"
     }
    }
   },
   "outputs": [],
   "execution_count": null
  },
  {
   "cell_type": "code",
   "source": [
    "df['Embarked'].unique()"
   ],
   "metadata": {
    "colab": {
     "base_uri": "https://localhost:8080/"
    },
    "id": "_9wXxCaFOBap",
    "executionInfo": {
     "status": "ok",
     "timestamp": 1741529624408,
     "user_tz": -120,
     "elapsed": 8,
     "user": {
      "displayName": "Valeria Aynbinder",
      "userId": "10876993785060579075"
     }
    },
    "outputId": "6aaaf94d-3ecf-43ab-864c-b816667eb546"
   },
   "outputs": [],
   "execution_count": null
  },
  {
   "cell_type": "code",
   "source": [
    "# convert Embarked to numbers\n",
    "df = pd.get_dummies(df, columns=['Embarked'], drop_first=True)"
   ],
   "metadata": {
    "id": "wymjdH21OG_V",
    "executionInfo": {
     "status": "ok",
     "timestamp": 1741529625187,
     "user_tz": -120,
     "elapsed": 5,
     "user": {
      "displayName": "Valeria Aynbinder",
      "userId": "10876993785060579075"
     }
    }
   },
   "outputs": [],
   "execution_count": null
  },
  {
   "cell_type": "code",
   "source": [
    "df"
   ],
   "metadata": {
    "colab": {
     "base_uri": "https://localhost:8080/",
     "height": 424
    },
    "id": "Evmo5SOHNlt9",
    "executionInfo": {
     "status": "ok",
     "timestamp": 1741529625703,
     "user_tz": -120,
     "elapsed": 31,
     "user": {
      "displayName": "Valeria Aynbinder",
      "userId": "10876993785060579075"
     }
    },
    "outputId": "0d6e0f60-a230-4320-e989-db3024597a69"
   },
   "outputs": [],
   "execution_count": null
  },
  {
   "cell_type": "markdown",
   "source": [
    "# Data Exploration"
   ],
   "metadata": {
    "id": "yiqsV8TjOdB9"
   }
  },
  {
   "cell_type": "markdown",
   "source": [
    "## Target distribution"
   ],
   "metadata": {
    "id": "lufEmFeC4GwT"
   }
  },
  {
   "cell_type": "code",
   "source": [
    "fig = px.histogram(\n",
    "    df,\n",
    "    x='Survived',\n",
    "    # histnorm='percent',\n",
    "    width=600\n",
    ")\n",
    "fig.show()"
   ],
   "metadata": {
    "colab": {
     "base_uri": "https://localhost:8080/",
     "height": 542
    },
    "id": "D_1nNjFN4InG",
    "executionInfo": {
     "status": "ok",
     "timestamp": 1741529628071,
     "user_tz": -120,
     "elapsed": 48,
     "user": {
      "displayName": "Valeria Aynbinder",
      "userId": "10876993785060579075"
     }
    },
    "outputId": "0fb00ac7-8463-4ec7-c0ee-5aa63dba69cf"
   },
   "outputs": [],
   "execution_count": null
  },
  {
   "cell_type": "markdown",
   "source": [
    "## Correlations"
   ],
   "metadata": {
    "id": "U0pCHfO9OXw6"
   }
  },
  {
   "cell_type": "code",
   "source": [
    "# get correlation matrix\n",
    "df.corr()"
   ],
   "metadata": {
    "colab": {
     "base_uri": "https://localhost:8080/",
     "height": 332
    },
    "id": "jMBmu43cOf5x",
    "executionInfo": {
     "status": "ok",
     "timestamp": 1741529217581,
     "user_tz": -120,
     "elapsed": 76,
     "user": {
      "displayName": "Valeria Aynbinder",
      "userId": "10876993785060579075"
     }
    },
    "outputId": "5011a27b-438c-42c8-a591-4b01ec0c2687"
   },
   "outputs": [],
   "execution_count": null
  },
  {
   "cell_type": "code",
   "source": [
    "# get features with significant correlation to target variable\n",
    "df.corr()['Survived'].abs().sort_values(ascending=False)"
   ],
   "metadata": {
    "colab": {
     "base_uri": "https://localhost:8080/",
     "height": 366
    },
    "id": "FlWPhdkjOx0c",
    "executionInfo": {
     "status": "ok",
     "timestamp": 1741529250970,
     "user_tz": -120,
     "elapsed": 9,
     "user": {
      "displayName": "Valeria Aynbinder",
      "userId": "10876993785060579075"
     }
    },
    "outputId": "3bf4d039-5c85-4409-bf9f-2d6a680475fc"
   },
   "outputs": [],
   "execution_count": null
  },
  {
   "cell_type": "markdown",
   "source": [
    "# Split dataset"
   ],
   "metadata": {
    "id": "ZPvHTN0bPCv-"
   }
  },
  {
   "cell_type": "code",
   "source": [
    "df.columns"
   ],
   "metadata": {
    "colab": {
     "base_uri": "https://localhost:8080/"
    },
    "id": "wKYzq5vbPLEi",
    "executionInfo": {
     "status": "ok",
     "timestamp": 1741529347697,
     "user_tz": -120,
     "elapsed": 12,
     "user": {
      "displayName": "Valeria Aynbinder",
      "userId": "10876993785060579075"
     }
    },
    "outputId": "82857e38-6d7b-4824-cd29-66cbcf8db0b2"
   },
   "outputs": [],
   "execution_count": null
  },
  {
   "cell_type": "code",
   "source": [
    "X = df.drop(columns=['Survived'])\n",
    "y = df['Survived']"
   ],
   "metadata": {
    "id": "qtQQ0M_PPFeQ",
    "executionInfo": {
     "status": "ok",
     "timestamp": 1741529639023,
     "user_tz": -120,
     "elapsed": 2,
     "user": {
      "displayName": "Valeria Aynbinder",
      "userId": "10876993785060579075"
     }
    }
   },
   "outputs": [],
   "execution_count": null
  },
  {
   "cell_type": "code",
   "source": [
    "# split to train validation\n",
    "# IMPORTANT - add stratify!!!\n",
    "X_train, X_val, y_train, y_val = train_test_split(X, y, test_size=0.15, random_state=101, stratify=y)\n"
   ],
   "metadata": {
    "id": "nYgTvYxaPz38",
    "executionInfo": {
     "status": "ok",
     "timestamp": 1741530307579,
     "user_tz": -120,
     "elapsed": 12,
     "user": {
      "displayName": "Valeria Aynbinder",
      "userId": "10876993785060579075"
     }
    }
   },
   "outputs": [],
   "execution_count": null
  },
  {
   "cell_type": "markdown",
   "source": [
    "# Train Logistic Regression"
   ],
   "metadata": {
    "id": "Fd1eyu_9P-Hd"
   }
  },
  {
   "cell_type": "markdown",
   "source": [
    "Train as is - note convergence fails without normalization"
   ],
   "metadata": {
    "id": "3OenH7NuQl_g"
   }
  },
  {
   "cell_type": "code",
   "source": [
    "model = LogisticRegression()\n",
    "model.fit(X_train, y_train)"
   ],
   "metadata": {
    "colab": {
     "base_uri": "https://localhost:8080/",
     "height": 254
    },
    "id": "GSFtHFDFP_7j",
    "executionInfo": {
     "status": "ok",
     "timestamp": 1741530309646,
     "user_tz": -120,
     "elapsed": 41,
     "user": {
      "displayName": "Valeria Aynbinder",
      "userId": "10876993785060579075"
     }
    },
    "outputId": "3ea8d5d7-a8d1-453a-b93f-ae9068d83884"
   },
   "outputs": [],
   "execution_count": null
  },
  {
   "cell_type": "markdown",
   "source": [
    "**Add normalization**"
   ],
   "metadata": {
    "id": "YA0vf8v1QpkQ"
   }
  },
  {
   "cell_type": "code",
   "source": [
    "# normalize before training\n",
    "scaler = StandardScaler()\n",
    "X_train_scaled = scaler.fit_transform(X_train)\n",
    "X_val_scaled = scaler.transform(X_val)\n",
    "\n",
    "model = LogisticRegression()\n",
    "model.fit(X_train_scaled, y_train)"
   ],
   "metadata": {
    "colab": {
     "base_uri": "https://localhost:8080/",
     "height": 80
    },
    "id": "IltSAd6XQZuL",
    "executionInfo": {
     "status": "ok",
     "timestamp": 1741530311285,
     "user_tz": -120,
     "elapsed": 23,
     "user": {
      "displayName": "Valeria Aynbinder",
      "userId": "10876993785060579075"
     }
    },
    "outputId": "e446cb3d-be8f-4e7e-bde0-7124eae7c32d"
   },
   "outputs": [],
   "execution_count": null
  },
  {
   "cell_type": "markdown",
   "source": [
    "# Explore predictions"
   ],
   "metadata": {
    "id": "mvts0Uv5QtJ7"
   }
  },
  {
   "cell_type": "code",
   "source": [
    "# predict\n",
    "model.predict(X_val_scaled)"
   ],
   "metadata": {
    "colab": {
     "base_uri": "https://localhost:8080/"
    },
    "id": "YSvkQbvkQye4",
    "executionInfo": {
     "status": "ok",
     "timestamp": 1741530312756,
     "user_tz": -120,
     "elapsed": 8,
     "user": {
      "displayName": "Valeria Aynbinder",
      "userId": "10876993785060579075"
     }
    },
    "outputId": "1b61eaca-3a74-4d13-9a43-ac9828b2e0a1"
   },
   "outputs": [],
   "execution_count": null
  },
  {
   "cell_type": "code",
   "source": [
    "# predict_proba\n",
    "model.predict_proba(X_val_scaled)"
   ],
   "metadata": {
    "colab": {
     "base_uri": "https://localhost:8080/"
    },
    "id": "G-fPFHM8RE5u",
    "executionInfo": {
     "status": "ok",
     "timestamp": 1741530313682,
     "user_tz": -120,
     "elapsed": 42,
     "user": {
      "displayName": "Valeria Aynbinder",
      "userId": "10876993785060579075"
     }
    },
    "outputId": "f95d889e-4913-4150-cacd-ea3441b3bb70"
   },
   "outputs": [],
   "execution_count": null
  },
  {
   "cell_type": "markdown",
   "source": [
    "# Explore metrics"
   ],
   "metadata": {
    "id": "65TBVfgvQyIP"
   }
  },
  {
   "cell_type": "code",
   "source": [
    "metrics.accuracy_score(y_val, model.predict(X_val_scaled))"
   ],
   "metadata": {
    "colab": {
     "base_uri": "https://localhost:8080/"
    },
    "id": "QalMVQpTRNAc",
    "executionInfo": {
     "status": "ok",
     "timestamp": 1741530315221,
     "user_tz": -120,
     "elapsed": 4,
     "user": {
      "displayName": "Valeria Aynbinder",
      "userId": "10876993785060579075"
     }
    },
    "outputId": "862d8f4b-3a97-4218-94c0-241d4e2524de"
   },
   "outputs": [],
   "execution_count": null
  },
  {
   "cell_type": "code",
   "source": [
    "model.score(X_val_scaled, y_val)"
   ],
   "metadata": {
    "colab": {
     "base_uri": "https://localhost:8080/"
    },
    "id": "wHhVIKZqRYsx",
    "executionInfo": {
     "status": "ok",
     "timestamp": 1741530315893,
     "user_tz": -120,
     "elapsed": 5,
     "user": {
      "displayName": "Valeria Aynbinder",
      "userId": "10876993785060579075"
     }
    },
    "outputId": "f89c58fa-06bb-4276-a78a-d630aa48a62c"
   },
   "outputs": [],
   "execution_count": null
  },
  {
   "cell_type": "code",
   "source": [],
   "metadata": {
    "id": "0ocxkUmNRelk",
    "executionInfo": {
     "status": "ok",
     "timestamp": 1741530316553,
     "user_tz": -120,
     "elapsed": 2,
     "user": {
      "displayName": "Valeria Aynbinder",
      "userId": "10876993785060579075"
     }
    }
   },
   "outputs": [],
   "execution_count": null
  },
  {
   "cell_type": "code",
   "source": [
    "metrics.confusion_matrix(y_val, model.predict(X_val_scaled))"
   ],
   "metadata": {
    "colab": {
     "base_uri": "https://localhost:8080/"
    },
    "id": "M3aTC-6bRa2v",
    "executionInfo": {
     "status": "ok",
     "timestamp": 1741530317336,
     "user_tz": -120,
     "elapsed": 4,
     "user": {
      "displayName": "Valeria Aynbinder",
      "userId": "10876993785060579075"
     }
    },
    "outputId": "75c5de6e-b74d-4dae-ce49-d77dd68c1d5c"
   },
   "outputs": [],
   "execution_count": null
  },
  {
   "cell_type": "code",
   "source": [
    "# display confusion metrics as df\n",
    "pd.DataFrame(metrics.confusion_matrix(y_val, model.predict(X_val_scaled)),\n",
    "             columns=['Predicted Not Survived (0)', 'Predicted Survived (1)'],\n",
    "             index=['Actual Not Survived (0)', 'Actual Survived (1)'])"
   ],
   "metadata": {
    "colab": {
     "base_uri": "https://localhost:8080/",
     "height": 112
    },
    "id": "Jegle9ynRhc-",
    "executionInfo": {
     "status": "ok",
     "timestamp": 1741530318145,
     "user_tz": -120,
     "elapsed": 13,
     "user": {
      "displayName": "Valeria Aynbinder",
      "userId": "10876993785060579075"
     }
    },
    "outputId": "fec7e9db-64e9-48d9-ef2a-3d19b0aa060c"
   },
   "outputs": [],
   "execution_count": null
  },
  {
   "cell_type": "code",
   "source": [
    "print(metrics.classification_report(y_val, model.predict(X_val_scaled)))"
   ],
   "metadata": {
    "colab": {
     "base_uri": "https://localhost:8080/"
    },
    "id": "EdKbM6SOSKk_",
    "executionInfo": {
     "status": "ok",
     "timestamp": 1741530318918,
     "user_tz": -120,
     "elapsed": 17,
     "user": {
      "displayName": "Valeria Aynbinder",
      "userId": "10876993785060579075"
     }
    },
    "outputId": "bb350f81-582b-4b99-d721-da9ed105c654"
   },
   "outputs": [],
   "execution_count": null
  },
  {
   "cell_type": "code",
   "source": [
    "metrics.recall_score(y_val, model.predict(X_val_scaled))"
   ],
   "metadata": {
    "colab": {
     "base_uri": "https://localhost:8080/"
    },
    "id": "saHOocAwSjR8",
    "executionInfo": {
     "status": "ok",
     "timestamp": 1741530321668,
     "user_tz": -120,
     "elapsed": 8,
     "user": {
      "displayName": "Valeria Aynbinder",
      "userId": "10876993785060579075"
     }
    },
    "outputId": "ffc7da62-5a72-40ed-9b40-55e3c62ef236"
   },
   "outputs": [],
   "execution_count": null
  },
  {
   "cell_type": "code",
   "source": [
    "metrics.precision_score(y_val, model.predict(X_val_scaled))"
   ],
   "metadata": {
    "colab": {
     "base_uri": "https://localhost:8080/"
    },
    "id": "v6NMOMHlSnj9",
    "executionInfo": {
     "status": "ok",
     "timestamp": 1741530322610,
     "user_tz": -120,
     "elapsed": 12,
     "user": {
      "displayName": "Valeria Aynbinder",
      "userId": "10876993785060579075"
     }
    },
    "outputId": "ba9b6069-e48f-4478-e618-4a26bed13042"
   },
   "outputs": [],
   "execution_count": null
  },
  {
   "cell_type": "code",
   "source": [
    "# double-check overfit\n",
    "print(metrics.classification_report(y_train, model.predict(X_train_scaled)))"
   ],
   "metadata": {
    "colab": {
     "base_uri": "https://localhost:8080/"
    },
    "id": "4nlVqdyuSvFo",
    "executionInfo": {
     "status": "ok",
     "timestamp": 1741530324479,
     "user_tz": -120,
     "elapsed": 14,
     "user": {
      "displayName": "Valeria Aynbinder",
      "userId": "10876993785060579075"
     }
    },
    "outputId": "994da39b-d786-4375-a087-25ba15ac9922"
   },
   "outputs": [],
   "execution_count": null
  },
  {
   "cell_type": "markdown",
   "source": [
    "# Decision boundary - THRESHOLD"
   ],
   "metadata": {
    "id": "fxj4knJeTBpd"
   }
  },
  {
   "cell_type": "code",
   "source": [
    "model.predict(X_val_scaled[:5])"
   ],
   "metadata": {
    "colab": {
     "base_uri": "https://localhost:8080/"
    },
    "id": "5SUh-zB_TEBS",
    "executionInfo": {
     "status": "ok",
     "timestamp": 1741530392796,
     "user_tz": -120,
     "elapsed": 5,
     "user": {
      "displayName": "Valeria Aynbinder",
      "userId": "10876993785060579075"
     }
    },
    "outputId": "fd448a67-d069-48c1-c5b1-93cf335d52c3"
   },
   "outputs": [],
   "execution_count": null
  },
  {
   "cell_type": "code",
   "source": [
    "model.predict_proba(X_val_scaled[:5])"
   ],
   "metadata": {
    "colab": {
     "base_uri": "https://localhost:8080/"
    },
    "id": "__ZmH_xJTO5S",
    "executionInfo": {
     "status": "ok",
     "timestamp": 1741530399334,
     "user_tz": -120,
     "elapsed": 14,
     "user": {
      "displayName": "Valeria Aynbinder",
      "userId": "10876993785060579075"
     }
    },
    "outputId": "13c48f83-3470-4d9e-b1d2-fe4a2ba06e3c"
   },
   "outputs": [],
   "execution_count": null
  },
  {
   "cell_type": "code",
   "source": [
    "# default threshold is 0.5\n",
    "model.predict_proba(X_val_scaled[:5])[:,1] > 0.5"
   ],
   "metadata": {
    "colab": {
     "base_uri": "https://localhost:8080/"
    },
    "id": "QoBmpHCjTQlF",
    "executionInfo": {
     "status": "ok",
     "timestamp": 1741530418621,
     "user_tz": -120,
     "elapsed": 13,
     "user": {
      "displayName": "Valeria Aynbinder",
      "userId": "10876993785060579075"
     }
    },
    "outputId": "1721acae-efe8-4001-8d22-65de6c176b6f"
   },
   "outputs": [],
   "execution_count": null
  },
  {
   "cell_type": "code",
   "source": [
    "# lets try changing threshold"
   ],
   "metadata": {
    "id": "aLylbcEzTWlZ",
    "executionInfo": {
     "status": "ok",
     "timestamp": 1741530435437,
     "user_tz": -120,
     "elapsed": 3,
     "user": {
      "displayName": "Valeria Aynbinder",
      "userId": "10876993785060579075"
     }
    }
   },
   "outputs": [],
   "execution_count": null
  },
  {
   "cell_type": "markdown",
   "source": [
    "# ROC-AUC"
   ],
   "metadata": {
    "id": "Qb3UyEJiTFVq"
   }
  },
  {
   "cell_type": "code",
   "source": [
    "probabilities = model.predict_proba(X_val_scaled)[:,1]"
   ],
   "metadata": {
    "id": "5VTVJ1EJTttF",
    "executionInfo": {
     "status": "ok",
     "timestamp": 1741530542839,
     "user_tz": -120,
     "elapsed": 10,
     "user": {
      "displayName": "Valeria Aynbinder",
      "userId": "10876993785060579075"
     }
    }
   },
   "outputs": [],
   "execution_count": null
  },
  {
   "cell_type": "code",
   "source": [
    "# Compute ROC curve values\n",
    "fpr, tpr, thresholds = roc_curve(y_val, probabilities)\n",
    "roc_auc = auc(fpr, tpr)  # Compute AUC"
   ],
   "metadata": {
    "id": "BqGtUnNOUHrm",
    "executionInfo": {
     "status": "ok",
     "timestamp": 1741530668589,
     "user_tz": -120,
     "elapsed": 9,
     "user": {
      "displayName": "Valeria Aynbinder",
      "userId": "10876993785060579075"
     }
    }
   },
   "outputs": [],
   "execution_count": null
  },
  {
   "cell_type": "code",
   "source": [
    "# prompt: display roc curve using plotly with threshold values as tooltips\n",
    "\n",
    "fig = go.Figure()\n",
    "\n",
    "# Add the ROC curve\n",
    "fig.add_trace(go.Scatter(\n",
    "    x=fpr,\n",
    "    y=tpr,\n",
    "    mode='lines',\n",
    "    name=f'ROC Curve (AUC = {roc_auc:.2f})',\n",
    "    hovertemplate = 'False Positive Rate: %{x:.3f}<br>True Positive Rate: %{y:.3f}<br>Threshold: %{text:.3f}<extra></extra>',\n",
    "    text = thresholds\n",
    "))\n",
    "\n",
    "# Add a diagonal line for random guessing\n",
    "fig.add_trace(go.Scatter(\n",
    "    x=[0, 1],\n",
    "    y=[0, 1],\n",
    "    mode='lines',\n",
    "    line=dict(dash='dash'),\n",
    "    name='Random Guessing'\n",
    "))\n",
    "\n",
    "\n",
    "fig.update_layout(\n",
    "    title='Receiver Operating Characteristic (ROC) Curve',\n",
    "    xaxis_title='False Positive Rate',\n",
    "    yaxis_title='True Positive Rate',\n",
    "    width=800,\n",
    "    height=600\n",
    ")\n",
    "\n",
    "fig.show()\n"
   ],
   "metadata": {
    "colab": {
     "base_uri": "https://localhost:8080/",
     "height": 617
    },
    "id": "47xutjSVUICE",
    "executionInfo": {
     "status": "ok",
     "timestamp": 1741530740513,
     "user_tz": -120,
     "elapsed": 26,
     "user": {
      "displayName": "Valeria Aynbinder",
      "userId": "10876993785060579075"
     }
    },
    "outputId": "1611d404-732d-473c-f64a-5c50e0aee939"
   },
   "outputs": [],
   "execution_count": null
  },
  {
   "cell_type": "code",
   "source": [
    "# calc auc\n",
    "# Note - AUC is an ultimate metrics that measures the performance of the model, it's not related to the\n",
    "# selection of the threshold!\n",
    "fpr, tpr, thresholds = metrics.roc_curve(y_val, model.predict_proba(X_val_scaled)[:,1])\n",
    "metrics.auc(fpr, tpr)"
   ],
   "metadata": {
    "id": "Q_nTF1xZizQn",
    "colab": {
     "base_uri": "https://localhost:8080/"
    },
    "executionInfo": {
     "status": "ok",
     "timestamp": 1741530859727,
     "user_tz": -120,
     "elapsed": 5,
     "user": {
      "displayName": "Valeria Aynbinder",
      "userId": "10876993785060579075"
     }
    },
    "outputId": "df82bf18-2a4b-42bd-9dc1-adbb77d4f5fc"
   },
   "outputs": [],
   "execution_count": null
  },
  {
   "cell_type": "code",
   "source": [
    "fpr, tpr, thresholds = metrics.roc_curve(y_train, model.predict_proba(X_train_scaled)[:,1])\n",
    "metrics.auc(fpr, tpr)"
   ],
   "metadata": {
    "colab": {
     "base_uri": "https://localhost:8080/"
    },
    "id": "uSutM-lCVL5b",
    "executionInfo": {
     "status": "ok",
     "timestamp": 1741530918689,
     "user_tz": -120,
     "elapsed": 22,
     "user": {
      "displayName": "Valeria Aynbinder",
      "userId": "10876993785060579075"
     }
    },
    "outputId": "d674c9ae-130b-4c76-9523-781f83026f3d"
   },
   "outputs": [],
   "execution_count": null
  },
  {
   "cell_type": "code",
   "source": [],
   "metadata": {
    "id": "fBEM55UOU3tg"
   },
   "outputs": [],
   "execution_count": null
  },
  {
   "cell_type": "markdown",
   "source": [
    "# More"
   ],
   "metadata": {
    "id": "8MvRVQ8EVmwg"
   }
  },
  {
   "cell_type": "code",
   "source": [
    "model.predict_proba(X_val_scaled[:2])"
   ],
   "metadata": {
    "colab": {
     "base_uri": "https://localhost:8080/"
    },
    "id": "mc24VTUIWEO3",
    "executionInfo": {
     "status": "ok",
     "timestamp": 1741531143035,
     "user_tz": -120,
     "elapsed": 11,
     "user": {
      "displayName": "Valeria Aynbinder",
      "userId": "10876993785060579075"
     }
    },
    "outputId": "e0d4478f-1c01-42a9-a4cf-29476e92512d"
   },
   "outputs": [],
   "execution_count": null
  },
  {
   "cell_type": "code",
   "source": [
    "model.decision_function(X_val_scaled[:2])"
   ],
   "metadata": {
    "colab": {
     "base_uri": "https://localhost:8080/"
    },
    "id": "xgQApBQxVncQ",
    "executionInfo": {
     "status": "ok",
     "timestamp": 1741531039373,
     "user_tz": -120,
     "elapsed": 10,
     "user": {
      "displayName": "Valeria Aynbinder",
      "userId": "10876993785060579075"
     }
    },
    "outputId": "c1dc086a-2e33-4103-96fb-e5c7fde46457"
   },
   "outputs": [],
   "execution_count": null
  },
  {
   "cell_type": "code",
   "source": [
    "# calc sigmoid of decision funciton\n",
    "def sigmoid(x):\n",
    "    return 1 / (1 + np.exp(-x))"
   ],
   "metadata": {
    "id": "wCv1SNPIVrsT",
    "executionInfo": {
     "status": "ok",
     "timestamp": 1741531121768,
     "user_tz": -120,
     "elapsed": 6,
     "user": {
      "displayName": "Valeria Aynbinder",
      "userId": "10876993785060579075"
     }
    }
   },
   "outputs": [],
   "execution_count": null
  },
  {
   "cell_type": "code",
   "source": [
    "sigmoid(model.decision_function(X_val_scaled[:2]))"
   ],
   "metadata": {
    "colab": {
     "base_uri": "https://localhost:8080/"
    },
    "id": "F3HIsOnWV26g",
    "executionInfo": {
     "status": "ok",
     "timestamp": 1741531134918,
     "user_tz": -120,
     "elapsed": 12,
     "user": {
      "displayName": "Valeria Aynbinder",
      "userId": "10876993785060579075"
     }
    },
    "outputId": "30642ba3-82ef-4044-8870-e92eaebdda32"
   },
   "outputs": [],
   "execution_count": null
  },
  {
   "cell_type": "code",
   "source": [
    "model.coef_"
   ],
   "metadata": {
    "colab": {
     "base_uri": "https://localhost:8080/"
    },
    "id": "x8DRfWMfWDrc",
    "executionInfo": {
     "status": "ok",
     "timestamp": 1741531203500,
     "user_tz": -120,
     "elapsed": 8,
     "user": {
      "displayName": "Valeria Aynbinder",
      "userId": "10876993785060579075"
     }
    },
    "outputId": "b0a635b8-fae0-401f-f39b-40575305748f"
   },
   "outputs": [],
   "execution_count": null
  },
  {
   "cell_type": "code",
   "source": [
    "model.intercept_"
   ],
   "metadata": {
    "id": "ucecpUqmWUbJ",
    "executionInfo": {
     "status": "ok",
     "timestamp": 1741531213807,
     "user_tz": -120,
     "elapsed": 45,
     "user": {
      "displayName": "Valeria Aynbinder",
      "userId": "10876993785060579075"
     }
    },
    "outputId": "729402a4-2506-4015-8d2b-49bf4f9cc481",
    "colab": {
     "base_uri": "https://localhost:8080/"
    }
   },
   "outputs": [],
   "execution_count": null
  },
  {
   "cell_type": "code",
   "source": [],
   "metadata": {
    "id": "lvzcKe83WW7n"
   },
   "outputs": [],
   "execution_count": null
  }
 ]
}

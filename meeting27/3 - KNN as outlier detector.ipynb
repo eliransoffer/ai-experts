{
 "cells": [
  {
   "cell_type": "code",
   "id": "initial_id",
   "metadata": {
    "collapsed": true
   },
   "source": [
    "import pandas as pd\n",
    "import numpy as np\n",
    "from sklearn.model_selection import train_test_split, GridSearchCV\n",
    "from sklearn.neighbors import KNeighborsClassifier\n",
    "from sklearn.preprocessing import StandardScaler\n",
    "from sklearn import metrics\n",
    "import plotly.graph_objects as go\n",
    "import plotly.express as px\n",
    "import plotly.figure_factory as ff\n",
    "from sklearn.neighbors import NearestNeighbors\n",
    "import numpy as np"
   ],
   "outputs": [],
   "execution_count": null
  },
  {
   "metadata": {},
   "cell_type": "code",
   "source": [
    "data_url = \"https://storage.googleapis.com/ai-experts/diabetes.csv\"\n",
    "\n",
    "# Load data\n",
    "df = pd.read_csv(data_url)\n",
    "df = df.drop(df[(df['BMI'] < 15) | (df['Insulin'] == 0) | (df['SkinThickness'] == 0)].index)"
   ],
   "id": "78e4fa70d67ed82",
   "outputs": [],
   "execution_count": null
  },
  {
   "metadata": {},
   "cell_type": "code",
   "source": [
    "\n",
    "\n",
    "# Fit KNN on your (scaled) data\n",
    "knn = NearestNeighbors(n_neighbors=5)\n",
    "knn.fit(df)\n",
    "\n",
    "\n"
   ],
   "id": "dc44927b65550eb7",
   "outputs": [],
   "execution_count": null
  },
  {
   "metadata": {},
   "cell_type": "code",
   "source": "",
   "id": "5118c88ed9f13c8",
   "outputs": [],
   "execution_count": null
  },
  {
   "metadata": {},
   "cell_type": "code",
   "source": [
    "# Get distances to the 5 nearest neighbors\n",
    "distances, _ = knn.kneighbors(df)\n",
    "distances"
   ],
   "id": "56c7997878d81e48",
   "outputs": [],
   "execution_count": null
  },
  {
   "metadata": {},
   "cell_type": "code",
   "source": [
    "# Use mean distance to neighbors as anomaly score\n",
    "anomaly_scores = distances.mean(axis=1)\n",
    "anomaly_scores"
   ],
   "id": "170941bd65e192ea",
   "outputs": [],
   "execution_count": null
  },
  {
   "metadata": {},
   "cell_type": "code",
   "source": [
    "\n",
    "# Define a threshold (e.g., top 5% as outliers)\n",
    "threshold = np.percentile(anomaly_scores, 95)\n",
    "threshold"
   ],
   "id": "a87717c5aff308e9",
   "outputs": [],
   "execution_count": null
  },
  {
   "metadata": {},
   "cell_type": "code",
   "source": "outliers = anomaly_scores > threshold",
   "id": "c646a40e1ce6ad39",
   "outputs": [],
   "execution_count": null
  },
  {
   "metadata": {},
   "cell_type": "code",
   "source": "outliers",
   "id": "c8d507bb5f71aed9",
   "outputs": [],
   "execution_count": null
  },
  {
   "metadata": {},
   "cell_type": "code",
   "source": "df[outliers]",
   "id": "d148948cc16bab04",
   "outputs": [],
   "execution_count": null
  },
  {
   "metadata": {},
   "cell_type": "markdown",
   "source": "",
   "id": "baaf30fb9d5409f5"
  },
  {
   "metadata": {},
   "cell_type": "markdown",
   "source": [
    "# Don't forget the Scaling!!!\n",
    "\n",
    "Note, after scaling we get totally different results"
   ],
   "id": "8512b0d06c219351"
  },
  {
   "metadata": {},
   "cell_type": "code",
   "source": [
    "scaler = StandardScaler()\n",
    "df_scaled = scaler.fit_transform(df)"
   ],
   "id": "305b09ffe522a4a",
   "outputs": [],
   "execution_count": null
  },
  {
   "metadata": {},
   "cell_type": "code",
   "source": [
    "knn_scaled = NearestNeighbors(n_neighbors=5)\n",
    "knn_scaled.fit(df_scaled)"
   ],
   "id": "419c557388048573",
   "outputs": [],
   "execution_count": null
  },
  {
   "metadata": {},
   "cell_type": "code",
   "source": [
    "distances_scaled, _ = knn_scaled.kneighbors(df_scaled)\n",
    "distances_scaled"
   ],
   "id": "8d42865764d1e667",
   "outputs": [],
   "execution_count": null
  },
  {
   "metadata": {},
   "cell_type": "code",
   "source": [
    "anomaly_scores_scaled = distances_scaled.mean(axis=1)\n",
    "anomaly_scores_scaled"
   ],
   "id": "1357876f5f24297f",
   "outputs": [],
   "execution_count": null
  },
  {
   "metadata": {},
   "cell_type": "code",
   "source": [
    "threshold_scaled = np.percentile(anomaly_scores_scaled, 95)\n",
    "threshold_scaled"
   ],
   "id": "bc7a8aaf90b40e58",
   "outputs": [],
   "execution_count": null
  },
  {
   "metadata": {},
   "cell_type": "code",
   "source": "outliers_scaled = anomaly_scores_scaled > threshold_scaled",
   "id": "b73af437c3fba9eb",
   "outputs": [],
   "execution_count": null
  },
  {
   "metadata": {},
   "cell_type": "code",
   "source": "df[outliers_scaled]",
   "id": "bfc8d250de9da2bb",
   "outputs": [],
   "execution_count": null
  },
  {
   "metadata": {},
   "cell_type": "code",
   "source": "",
   "id": "7a6f7f86c7895b4",
   "outputs": [],
   "execution_count": null
  }
 ],
 "metadata": {
  "kernelspec": {
   "display_name": "Python 3",
   "language": "python",
   "name": "python3"
  },
  "language_info": {
   "codemirror_mode": {
    "name": "ipython",
    "version": 2
   },
   "file_extension": ".py",
   "mimetype": "text/x-python",
   "name": "python",
   "nbconvert_exporter": "python",
   "pygments_lexer": "ipython2",
   "version": "2.7.6"
  }
 },
 "nbformat": 4,
 "nbformat_minor": 5
}

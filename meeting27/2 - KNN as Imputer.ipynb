{
 "cells": [
  {
   "cell_type": "code",
   "id": "initial_id",
   "metadata": {
    "collapsed": true
   },
   "source": [
    "import pandas as pd\n",
    "import numpy as np\n",
    "from sklearn.model_selection import train_test_split, GridSearchCV\n",
    "from sklearn.neighbors import KNeighborsClassifier\n",
    "from sklearn.preprocessing import StandardScaler\n",
    "from sklearn import metrics\n",
    "import plotly.graph_objects as go\n",
    "import plotly.express as px\n",
    "import plotly.figure_factory as ff\n",
    "from sklearn.impute import KNNImputer"
   ],
   "outputs": [],
   "execution_count": null
  },
  {
   "metadata": {},
   "cell_type": "markdown",
   "source": "# Numeric Imputer",
   "id": "ba46c98eef9b2e9d"
  },
  {
   "metadata": {},
   "cell_type": "code",
   "source": [
    "data_url = \"https://storage.googleapis.com/ai-experts/diabetes.csv\"\n",
    "\n",
    "# Load data\n",
    "df = pd.read_csv(data_url)"
   ],
   "id": "9c8c33337bb5c66",
   "outputs": [],
   "execution_count": null
  },
  {
   "metadata": {},
   "cell_type": "code",
   "source": [
    "# Columns where 0 indicates missing data\n",
    "cols_with_missing = ['BMI', 'Insulin', 'SkinThickness']"
   ],
   "id": "ceb0a075f4dbbca",
   "outputs": [],
   "execution_count": null
  },
  {
   "metadata": {},
   "cell_type": "code",
   "source": [
    "# Replace zeros with np.nan in the specified columns\n",
    "df[cols_with_missing] = df[cols_with_missing].replace(0, np.nan)\n",
    "\n",
    "# check how many missing values per column\n",
    "print(\"Missing values before imputation:\")\n",
    "print(df[cols_with_missing].isna().sum())"
   ],
   "id": "da90ecb8f473d121",
   "outputs": [],
   "execution_count": null
  },
  {
   "metadata": {},
   "cell_type": "code",
   "source": "df['Insulin'].plot(kind='hist', bins=50)",
   "id": "1abcdd82e981755b",
   "outputs": [],
   "execution_count": null
  },
  {
   "metadata": {},
   "cell_type": "code",
   "source": [
    "# Normalize features before KNN (important!)\n",
    "scaler = StandardScaler()\n",
    "X_scaled = scaler.fit_transform(df.drop('Outcome', axis=1))"
   ],
   "id": "b46684250eded09e",
   "outputs": [],
   "execution_count": null
  },
  {
   "metadata": {},
   "cell_type": "code",
   "source": [
    "# Impute using KNN\n",
    "imputer = KNNImputer(n_neighbors=5)\n",
    "X_imputed = imputer.fit_transform(X_scaled)\n",
    "\n"
   ],
   "id": "6d1b9836b31fb2ca",
   "outputs": [],
   "execution_count": null
  },
  {
   "metadata": {},
   "cell_type": "code",
   "source": [
    "# Replace imputed values back into a DataFrame\n",
    "X_imputed_df = pd.DataFrame(X_imputed, columns=df.columns.drop('Outcome'))"
   ],
   "id": "88965f9503708d47",
   "outputs": [],
   "execution_count": null
  },
  {
   "metadata": {},
   "cell_type": "code",
   "source": [
    "# Re-attach target column\n",
    "df_imputed = X_imputed_df.copy()\n",
    "df_imputed['Outcome'] = df['Outcome'].values\n",
    "\n",
    "# Check if missing values remain\n",
    "print(\"\\nMissing values after imputation:\")\n",
    "print(df_imputed.isna().sum())"
   ],
   "id": "19b9c1030e68e367",
   "outputs": [],
   "execution_count": null
  },
  {
   "metadata": {},
   "cell_type": "code",
   "source": "df_imputed['Insulin'].plot(kind='hist', bins=50)",
   "id": "242fc992c50f6d6d",
   "outputs": [],
   "execution_count": null
  },
  {
   "metadata": {},
   "cell_type": "code",
   "source": "",
   "id": "d5af0fccdcd2f667",
   "outputs": [],
   "execution_count": null
  },
  {
   "metadata": {},
   "cell_type": "markdown",
   "source": "# Categorical Imputer",
   "id": "f2826751677f5aea"
  },
  {
   "metadata": {},
   "cell_type": "markdown",
   "source": [
    "**Exercise**\n",
    "- Use KNNImputer to impute missing values in Titanic Dataset\n",
    "- Use KNNClassifier to run classification task on Titanic dataset\n",
    "- Try different params, you can use GridSearch\n",
    "- Detect the best performing model\n",
    "-"
   ],
   "id": "2669b9bcb0f4b54"
  },
  {
   "metadata": {},
   "cell_type": "code",
   "source": [
    "train_data_path = \"https://storage.googleapis.com/edulabs-public-datasets/titanic/titanic-train.csv\"\n",
    "test_data_path = \"https://storage.googleapis.com/edulabs-public-datasets/titanic/titanic-test.csv\"\n",
    "\n",
    "# Load Titanic dataset\n",
    "df = pd.read_csv(train_data_path)\n",
    "\n",
    "df"
   ],
   "id": "839ee927268c00d1",
   "outputs": [],
   "execution_count": null
  }
 ],
 "metadata": {
  "kernelspec": {
   "display_name": "Python 3",
   "language": "python",
   "name": "python3"
  },
  "language_info": {
   "codemirror_mode": {
    "name": "ipython",
    "version": 2
   },
   "file_extension": ".py",
   "mimetype": "text/x-python",
   "name": "python",
   "nbconvert_exporter": "python",
   "pygments_lexer": "ipython2",
   "version": "2.7.6"
  }
 },
 "nbformat": 4,
 "nbformat_minor": 5
}

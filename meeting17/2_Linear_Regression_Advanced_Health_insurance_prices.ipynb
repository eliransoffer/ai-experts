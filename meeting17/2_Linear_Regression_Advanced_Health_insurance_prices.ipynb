{
  "nbformat": 4,
  "nbformat_minor": 0,
  "metadata": {
    "colab": {
      "provenance": [],
      "toc_visible": true,
      "authorship_tag": "ABX9TyPq4qSxNILbNdgN3pjJP5PP",
      "include_colab_link": true
    },
    "kernelspec": {
      "name": "python3",
      "display_name": "Python 3"
    },
    "language_info": {
      "name": "python"
    }
  },
  "cells": [
    {
      "cell_type": "markdown",
      "metadata": {
        "id": "view-in-github",
        "colab_type": "text"
      },
      "source": [
        "<a href=\"https://colab.research.google.com/github/valeria-edulabs/ai-experts/blob/main/meeting17/2_Linear_Regression_Advanced_Health_insurance_prices.ipynb\" target=\"_parent\"><img src=\"https://colab.research.google.com/assets/colab-badge.svg\" alt=\"Open In Colab\"/></a>"
      ]
    },
    {
      "cell_type": "markdown",
      "source": [
        "# Imports and configurations"
      ],
      "metadata": {
        "id": "nRwlfYGNRiAc"
      }
    },
    {
      "cell_type": "code",
      "execution_count": null,
      "metadata": {
        "id": "gwkbQ-fIRL68"
      },
      "outputs": [],
      "source": [
        "import datetime\n",
        "from math import sqrt\n",
        "\n",
        "import numpy as np\n",
        "import pandas as pd\n",
        "\n",
        "import matplotlib.pyplot as plt\n",
        "import seaborn as sns\n",
        "\n",
        "from sklearn import metrics\n",
        "from sklearn.model_selection import train_test_split\n",
        "from sklearn.linear_model import LinearRegression\n",
        "from sklearn.preprocessing import LabelEncoder, OneHotEncoder\n",
        "from sklearn.preprocessing import StandardScaler, MinMaxScaler\n",
        "\n",
        "#  (high-level, simple to use)\n",
        "import plotly.express as px\n",
        "# (low-level, highly customizable)\n",
        "import plotly.graph_objects as go\n",
        "\n",
        "from scipy import stats\n",
        "\n"
      ]
    },
    {
      "cell_type": "code",
      "execution_count": null,
      "metadata": {
        "id": "ZlL8KEEZRPnX"
      },
      "outputs": [],
      "source": [
        "data_path = \"https://storage.googleapis.com/biosense-ml-data/insurance.csv\"\n",
        "data_path_clean = \"https://storage.googleapis.com/biosense-ml-data/insurance_clean.csv\"\n",
        "data_path_clean_no_outliers = \"https://storage.googleapis.com/biosense-ml-data/insurance_clean_no_outliers.csv\""
      ]
    },
    {
      "cell_type": "code",
      "source": [
        "# Set Plotly as Pandas plotting backend\n",
        "\n",
        "pd.options.plotting.backend = \"plotly\""
      ],
      "metadata": {
        "id": "e8YiTxWdNV80"
      },
      "execution_count": null,
      "outputs": []
    },
    {
      "cell_type": "code",
      "source": [],
      "metadata": {
        "id": "eb1AKkxV_C2s"
      },
      "execution_count": null,
      "outputs": []
    },
    {
      "cell_type": "markdown",
      "source": [
        "# Read the data"
      ],
      "metadata": {
        "id": "43OxABDMNn6I"
      }
    },
    {
      "cell_type": "code",
      "source": [
        "column_definitions = {\n",
        "    'age': np.int8,\n",
        "    'sex': 'category',\n",
        "    'bmi': np.float32,\n",
        "    'children': np.int8,\n",
        "    'smoker': bool,\n",
        "    'region': 'category',\n",
        "    'charges': np.float32\n",
        "}"
      ],
      "metadata": {
        "id": "9TwuYDUMNn6I"
      },
      "execution_count": null,
      "outputs": []
    },
    {
      "cell_type": "code",
      "source": [
        "df = pd.read_csv(data_path_clean, dtype=column_definitions)"
      ],
      "metadata": {
        "id": "pfmkwNtJSpke"
      },
      "execution_count": null,
      "outputs": []
    },
    {
      "cell_type": "code",
      "source": [
        "df.columns"
      ],
      "metadata": {
        "id": "46ltmwDD-DtH"
      },
      "execution_count": null,
      "outputs": []
    },
    {
      "cell_type": "markdown",
      "source": [
        "# Train Linear Regression"
      ],
      "metadata": {
        "id": "84wsJmn5B0e6"
      }
    },
    {
      "cell_type": "code",
      "source": [
        "X = df[['age', 'sex', 'bmi', 'smoker', 'region', 'children']]\n",
        "y = df['charges']\n",
        "\n",
        "X = pd.get_dummies(X, columns=['region', 'sex'], drop_first=True)"
      ],
      "metadata": {
        "id": "7CUro6mJe3f8"
      },
      "execution_count": null,
      "outputs": []
    },
    {
      "cell_type": "code",
      "source": [
        "X_train, X_test_val, y_train, y_test_val = train_test_split(X, y, test_size=0.3, random_state=47)\n",
        "X_val, X_test, y_val, y_test = train_test_split(X_test_val, y_test_val, test_size=0.5, random_state=47)\n",
        "\n",
        "model = LinearRegression()\n",
        "model.fit(X_train, y_train)"
      ],
      "metadata": {
        "id": "mwKvJEIXe6Xz"
      },
      "execution_count": null,
      "outputs": []
    },
    {
      "cell_type": "code",
      "source": [
        "model.score(X_train, y_train)"
      ],
      "metadata": {
        "id": "BM8SXF8ge3f9"
      },
      "execution_count": null,
      "outputs": []
    },
    {
      "cell_type": "code",
      "source": [
        "model.score(X_val, y_val)"
      ],
      "metadata": {
        "id": "kGiT_FMbe3f9"
      },
      "execution_count": null,
      "outputs": []
    },
    {
      "cell_type": "markdown",
      "source": [
        "# Correlation between features and target variable vs hypothsis"
      ],
      "metadata": {
        "id": "W4HasSlpez6t"
      }
    },
    {
      "cell_type": "code",
      "source": [
        "weights = pd.DataFrame(model.coef_, index=X_train.columns).transpose()"
      ],
      "metadata": {
        "id": "67kcnVJ7CI7l"
      },
      "execution_count": null,
      "outputs": []
    },
    {
      "cell_type": "code",
      "source": [
        "weights"
      ],
      "metadata": {
        "id": "7NoczvQDCVaa"
      },
      "execution_count": null,
      "outputs": []
    },
    {
      "cell_type": "code",
      "source": [
        "bias = model.intercept_"
      ],
      "metadata": {
        "id": "_iAHMuSnCWyk"
      },
      "execution_count": null,
      "outputs": []
    },
    {
      "cell_type": "code",
      "source": [
        "charges = y_train"
      ],
      "metadata": {
        "id": "YF3yfpQZfJLS"
      },
      "execution_count": null,
      "outputs": []
    },
    {
      "cell_type": "code",
      "source": [
        "age = X_train['age']\n",
        "weight = weights['age'][0]\n",
        "\n",
        "line_x = np.linspace(1, 70, 70)\n",
        "line_y = bias + weight * line_x\n",
        "fig = go.Figure()\n",
        "\n",
        "# Scatter plot\n",
        "fig.add_trace(go.Scatter(\n",
        "    x=age,\n",
        "    y=charges,\n",
        "    mode='markers',\n",
        "    name='Actual'\n",
        "))\n",
        "\n",
        "# Line plot\n",
        "fig.add_trace(go.Scatter(\n",
        "    x=line_x,\n",
        "    y=line_y,\n",
        "    mode='lines',\n",
        "    name='Hypothesis'\n",
        "))\n",
        "\n",
        "fig.update_layout(title=f\"Age vs hypothesis | weight: {weight:.2f} | bias: {bias:.2f}\")\n",
        "fig.show()"
      ],
      "metadata": {
        "id": "h5wrr8b_CcuH"
      },
      "execution_count": null,
      "outputs": []
    },
    {
      "cell_type": "code",
      "source": [
        "bmi = X_train['bmi']\n",
        "weight = weights['bmi'][0]\n",
        "\n",
        "line_x = np.linspace(bmi.min(), bmi.max(), 50)\n",
        "line_y = bias + weight * line_x\n",
        "\n",
        "fig = go.Figure()\n",
        "\n",
        "# Scatter plot\n",
        "fig.add_trace(go.Scatter(\n",
        "    x=bmi,\n",
        "    y=charges,\n",
        "    mode='markers',\n",
        "    name='Actual'\n",
        "))\n",
        "\n",
        "# Line plot\n",
        "fig.add_trace(go.Scatter(\n",
        "    x=line_x,\n",
        "    y=line_y,\n",
        "    mode='lines',\n",
        "    name='Hypothesis'\n",
        "))\n",
        "\n",
        "fig.update_layout(title=f\"BMI vs hypothesis | weight: {weight} | bias: {bias}\")\n",
        "fig.show()"
      ],
      "metadata": {
        "id": "QrHOe5J7DoYr"
      },
      "execution_count": null,
      "outputs": []
    },
    {
      "cell_type": "code",
      "source": [
        "children = X_train['children']\n",
        "weight = weights['children'][0]\n",
        "\n",
        "line_x = np.linspace(0, 50, 50)\n",
        "line_y = bias + weight * line_x\n",
        "\n",
        "fig = go.Figure()\n",
        "\n",
        "# Scatter plot\n",
        "fig.add_trace(go.Scatter(\n",
        "    x=children,\n",
        "    y=charges,\n",
        "    mode='markers',\n",
        "    name='Actual'\n",
        "))\n",
        "\n",
        "# Line plot\n",
        "fig.add_trace(go.Scatter(\n",
        "    x=line_x,\n",
        "    y= line_y,\n",
        "    mode='lines',\n",
        "    name='Hypothesis'\n",
        "))\n",
        "\n",
        "fig.update_layout(title=f\"Children vs hypothesis | weight: {weight} | bias: {bias}\" )\n",
        "fig.show()"
      ],
      "metadata": {
        "id": "-17iDDJiD0PO"
      },
      "execution_count": null,
      "outputs": []
    },
    {
      "cell_type": "code",
      "source": [
        "smoker = X_train['smoker']\n",
        "weight = weights['smoker'][0]\n",
        "\n",
        "line_x = np.linspace(0, 10, 11)\n",
        "line_y = bias + weight * line_x\n",
        "\n",
        "fig = go.Figure()\n",
        "\n",
        "# Scatter plot\n",
        "fig.add_trace(go.Scatter(\n",
        "    x=smoker.astype(int),\n",
        "    y=charges,\n",
        "    mode='markers',\n",
        "    name='Actual'\n",
        "))\n",
        "\n",
        "# Line plot\n",
        "fig.add_trace(go.Scatter(\n",
        "    x=line_x,\n",
        "    y= line_y,\n",
        "    mode='lines',\n",
        "    name='Hypothesis'\n",
        "))\n",
        "\n",
        "fig.update_layout(title=f\"Smoker vs hypothesis | weight: {weight} | bias: {bias}\" )\n",
        "fig.show()"
      ],
      "metadata": {
        "id": "T8_Ti6dmFw2M"
      },
      "execution_count": null,
      "outputs": []
    },
    {
      "cell_type": "markdown",
      "source": [
        "# Linear Regression Assumptions"
      ],
      "metadata": {
        "id": "NY4h_9N9jKt5"
      }
    },
    {
      "cell_type": "markdown",
      "source": [
        "## No or little co-linearity\n",
        "\n",
        "- check features co-linearity\n",
        "- leave only not correlated features and train the model\n",
        "- check the results"
      ],
      "metadata": {
        "id": "H2yWxCmRqWy5"
      }
    },
    {
      "cell_type": "code",
      "source": [],
      "metadata": {
        "id": "6J-wTyCzqVJq"
      },
      "execution_count": null,
      "outputs": []
    },
    {
      "cell_type": "markdown",
      "source": [
        "## Linearity\n",
        "\n",
        "- check whether we have linear relationship between features and target variables\n"
      ],
      "metadata": {
        "id": "9nb_fqypqZ5I"
      }
    },
    {
      "cell_type": "code",
      "source": [],
      "metadata": {
        "id": "dpOC91_GqdI2"
      },
      "execution_count": null,
      "outputs": []
    },
    {
      "cell_type": "markdown",
      "source": [
        "## Normality of errors -  Residuals"
      ],
      "metadata": {
        "id": "KsV18JXSj-YL"
      }
    },
    {
      "cell_type": "code",
      "source": [
        "residuals = model.predict(X_val) - y_val\n",
        "fig = px.histogram(\n",
        "    residuals,\n",
        "    nbins=100,\n",
        ")\n",
        "fig.show()"
      ],
      "metadata": {
        "id": "EPWMJ6jkjN-N"
      },
      "execution_count": null,
      "outputs": []
    },
    {
      "cell_type": "markdown",
      "source": [
        "### Q-Q plot"
      ],
      "metadata": {
        "id": "ZJZmPSjNnB4F"
      }
    },
    {
      "cell_type": "code",
      "source": [
        "residuals"
      ],
      "metadata": {
        "id": "PY8so8Z0n-x2"
      },
      "execution_count": null,
      "outputs": []
    },
    {
      "cell_type": "code",
      "source": [
        "def create_qq_plot(data, dist='norm'):\n",
        "    \"\"\"\n",
        "    Creates a Q-Q plot using scipy.stats.probplot and displays it with Plotly.\n",
        "\n",
        "    Args:\n",
        "        data (array-like): The data to be plotted.\n",
        "        dist (str): The distribution to compare against (e.g., 'norm', 'uniform').\n",
        "    \"\"\"\n",
        "    # Generate the probability plot data\n",
        "    probplot_data = stats.probplot(data, dist=dist)\n",
        "\n",
        "    # Extract the quantiles and best-fit line\n",
        "    quantiles = probplot_data[0][0]\n",
        "    ordered_vals = probplot_data[0][1]\n",
        "    slope, intercept, r = probplot_data[1]\n",
        "    best_fit_line = slope * quantiles + intercept\n",
        "\n",
        "    # Create the Plotly scatter plot\n",
        "    fig = go.Figure()\n",
        "\n",
        "    # Scatter plot of the ordered values against the quantiles\n",
        "    fig.add_trace(go.Scatter(\n",
        "        x=quantiles,\n",
        "        y=ordered_vals,\n",
        "        mode='markers',\n",
        "        name='Data Quantiles'\n",
        "    ))\n",
        "\n",
        "    # Best-fit line\n",
        "    fig.add_trace(go.Scatter(\n",
        "        x=quantiles,\n",
        "        y=best_fit_line,\n",
        "        mode='lines',\n",
        "        name='Best Fit Line',\n",
        "        line=dict(color='red')\n",
        "    ))\n",
        "\n",
        "    # Set plot title and axis labels\n",
        "    fig.update_layout(\n",
        "        title=f'Q-Q Plot ({dist.capitalize()} Distribution)',\n",
        "        xaxis_title='Theoretical Quantiles',\n",
        "        yaxis_title='Ordered Values'\n",
        "    )\n",
        "\n",
        "    fig.show()"
      ],
      "metadata": {
        "id": "4UDbhv7hosuu"
      },
      "execution_count": null,
      "outputs": []
    },
    {
      "cell_type": "code",
      "source": [
        "create_qq_plot(residuals)"
      ],
      "metadata": {
        "id": "8ehVA6lQozI2"
      },
      "execution_count": null,
      "outputs": []
    },
    {
      "cell_type": "markdown",
      "source": [
        "# Feature Selection"
      ],
      "metadata": {
        "id": "EGOKRpk2M3hD"
      }
    },
    {
      "cell_type": "markdown",
      "source": [
        "- Select only features that don't have strong correlation between them, train the model again and see whether results improve\n",
        "- Select only features that have linear correlation to target variable"
      ],
      "metadata": {
        "id": "NL9SdtscM7VT"
      }
    },
    {
      "cell_type": "code",
      "source": [],
      "metadata": {
        "id": "o2VnUC4DM54C"
      },
      "execution_count": null,
      "outputs": []
    },
    {
      "cell_type": "markdown",
      "source": [
        "# Feature Engineering"
      ],
      "metadata": {
        "id": "cvgjCjYKIdyo"
      }
    },
    {
      "cell_type": "markdown",
      "source": [
        "## Applying transformation to target variable"
      ],
      "metadata": {
        "id": "IcNWPSNyIjT9"
      }
    },
    {
      "cell_type": "code",
      "source": [
        "df['charges'].plot(kind='hist', nbins=150)"
      ],
      "metadata": {
        "id": "wy4J7ZDGIC-d"
      },
      "execution_count": null,
      "outputs": []
    },
    {
      "cell_type": "code",
      "source": [
        "transformed_y = np.log(y)\n",
        "transformed_y.plot(kind='hist', nbins=150)"
      ],
      "metadata": {
        "id": "ayMvWApcIl-D"
      },
      "execution_count": null,
      "outputs": []
    },
    {
      "cell_type": "code",
      "source": [
        "# train the model again\n",
        "\n",
        "X_train, X_test_val, y_train, y_test_val = train_test_split(X, transformed_y, test_size=0.3, random_state=47)\n",
        "X_val, X_test, y_val, y_test = train_test_split(X_test_val, y_test_val, test_size=0.5, random_state=47)\n",
        "\n",
        "model = LinearRegression()\n",
        "model.fit(X_train, y_train)"
      ],
      "metadata": {
        "id": "2BOPLr-zIsUX"
      },
      "execution_count": null,
      "outputs": []
    },
    {
      "cell_type": "code",
      "source": [
        "model.score(X_train, y_train)"
      ],
      "metadata": {
        "id": "V6Pwt9dEI9YL"
      },
      "execution_count": null,
      "outputs": []
    },
    {
      "cell_type": "code",
      "source": [
        "model.score(X_val, y_val)"
      ],
      "metadata": {
        "id": "75Lp83d4I9YM"
      },
      "execution_count": null,
      "outputs": []
    },
    {
      "cell_type": "code",
      "source": [
        "residuals = model.predict(X_val) - y_val\n",
        "fig = px.histogram(\n",
        "    residuals,\n",
        "    nbins=100,\n",
        ")\n",
        "fig.show()"
      ],
      "metadata": {
        "id": "k5hZVkWBJD7u"
      },
      "execution_count": null,
      "outputs": []
    },
    {
      "cell_type": "code",
      "source": [
        "create_qq_plot(residuals)"
      ],
      "metadata": {
        "id": "GYqYTVR_JNTB"
      },
      "execution_count": null,
      "outputs": []
    },
    {
      "cell_type": "markdown",
      "source": [
        "### Predictions - don't forget to perform inverse transformation on the predicitons!!!"
      ],
      "metadata": {
        "id": "n5HD_vlOJpNj"
      }
    },
    {
      "cell_type": "code",
      "source": [
        "model.predict(X_val[:2])"
      ],
      "metadata": {
        "id": "4vdCEm18JonN"
      },
      "execution_count": null,
      "outputs": []
    },
    {
      "cell_type": "code",
      "source": [
        "np.exp(model.predict(X_val[:2]))"
      ],
      "metadata": {
        "id": "B2o1c9kiJ-Nz"
      },
      "execution_count": null,
      "outputs": []
    },
    {
      "cell_type": "code",
      "source": [
        "transformed_y, lambda_value = stats.boxcox(y_train)"
      ],
      "metadata": {
        "id": "vwlQgBkbKLH8"
      },
      "execution_count": null,
      "outputs": []
    },
    {
      "cell_type": "markdown",
      "source": [
        "## Applying transformation to features"
      ],
      "metadata": {
        "id": "ny1GLVnxNe8z"
      }
    },
    {
      "cell_type": "markdown",
      "source": [
        "**❓Exercise: adding transformation to a feature**\n",
        "\n",
        "- check whether there are  features that might need to be transformed for improved performance (features that don't show linear correlation with target variable)\n",
        "- try applying transformation to age and see whether model performance improves"
      ],
      "metadata": {
        "id": "NUSg4F5VNrA3"
      }
    },
    {
      "cell_type": "code",
      "source": [],
      "metadata": {
        "id": "WXZUCNIAOU8t"
      },
      "execution_count": null,
      "outputs": []
    }
  ]
}
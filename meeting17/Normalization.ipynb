{
  "nbformat": 4,
  "nbformat_minor": 0,
  "metadata": {
    "colab": {
      "provenance": [],
      "toc_visible": true,
      "authorship_tag": "ABX9TyNo4xqB/zWwS+EF078o3WRH",
      "include_colab_link": true
    },
    "kernelspec": {
      "name": "python3",
      "display_name": "Python 3"
    },
    "language_info": {
      "name": "python"
    }
  },
  "cells": [
    {
      "cell_type": "markdown",
      "metadata": {
        "id": "view-in-github",
        "colab_type": "text"
      },
      "source": [
        "<a href=\"https://colab.research.google.com/github/valeria-edulabs/ai-experts/blob/main/meeting17/Normalization.ipynb\" target=\"_parent\"><img src=\"https://colab.research.google.com/assets/colab-badge.svg\" alt=\"Open In Colab\"/></a>"
      ]
    },
    {
      "cell_type": "markdown",
      "source": [
        "# Imports and configurations"
      ],
      "metadata": {
        "id": "nRwlfYGNRiAc"
      }
    },
    {
      "cell_type": "code",
      "execution_count": null,
      "metadata": {
        "id": "gwkbQ-fIRL68"
      },
      "outputs": [],
      "source": [
        "import datetime\n",
        "from math import sqrt\n",
        "\n",
        "import numpy as np\n",
        "import pandas as pd\n",
        "\n",
        "import matplotlib.pyplot as plt\n",
        "import seaborn as sns\n",
        "\n",
        "from sklearn import metrics\n",
        "from sklearn.model_selection import train_test_split\n",
        "from sklearn.linear_model import LinearRegression\n",
        "from sklearn.preprocessing import LabelEncoder, OneHotEncoder\n",
        "from sklearn.preprocessing import StandardScaler, MinMaxScaler\n",
        "\n",
        "#  (high-level, simple to use)\n",
        "import plotly.express as px\n",
        "# (low-level, highly customizable)\n",
        "import plotly.graph_objects as go\n",
        "\n",
        "from scipy import stats\n",
        "\n"
      ]
    },
    {
      "cell_type": "code",
      "execution_count": null,
      "metadata": {
        "id": "ZlL8KEEZRPnX"
      },
      "outputs": [],
      "source": [
        "data_path = \"https://storage.googleapis.com/biosense-ml-data/insurance.csv\"\n",
        "data_path_clean = \"https://storage.googleapis.com/biosense-ml-data/insurance_clean.csv\"\n",
        "data_path_clean_no_outliers = \"https://storage.googleapis.com/biosense-ml-data/insurance_clean_no_outliers.csv\""
      ]
    },
    {
      "cell_type": "code",
      "source": [
        "# Set Plotly as Pandas plotting backend\n",
        "\n",
        "pd.options.plotting.backend = \"plotly\""
      ],
      "metadata": {
        "id": "e8YiTxWdNV80"
      },
      "execution_count": null,
      "outputs": []
    },
    {
      "cell_type": "code",
      "source": [],
      "metadata": {
        "id": "eb1AKkxV_C2s"
      },
      "execution_count": null,
      "outputs": []
    },
    {
      "cell_type": "markdown",
      "source": [
        "# Read the data"
      ],
      "metadata": {
        "id": "43OxABDMNn6I"
      }
    },
    {
      "cell_type": "code",
      "source": [
        "column_definitions = {\n",
        "    'age': np.int8,\n",
        "    'sex': 'category',\n",
        "    'bmi': np.float32,\n",
        "    'children': np.int8,\n",
        "    'smoker': bool,\n",
        "    'region': 'category',\n",
        "    'charges': np.float32\n",
        "}"
      ],
      "metadata": {
        "id": "9TwuYDUMNn6I"
      },
      "execution_count": null,
      "outputs": []
    },
    {
      "cell_type": "code",
      "source": [
        "df = pd.read_csv(data_path_clean, dtype=column_definitions)"
      ],
      "metadata": {
        "id": "pfmkwNtJSpke"
      },
      "execution_count": null,
      "outputs": []
    },
    {
      "cell_type": "code",
      "source": [
        "df.columns"
      ],
      "metadata": {
        "id": "46ltmwDD-DtH"
      },
      "execution_count": null,
      "outputs": []
    },
    {
      "cell_type": "markdown",
      "source": [
        "# Train Linear Regression"
      ],
      "metadata": {
        "id": "84wsJmn5B0e6"
      }
    },
    {
      "cell_type": "code",
      "source": [
        "X = df[['age', 'sex', 'bmi', 'smoker', 'region', 'children']]\n",
        "y = df['charges']\n",
        "\n",
        "X = pd.get_dummies(X, columns=['region', 'sex'], drop_first=True)"
      ],
      "metadata": {
        "id": "7CUro6mJe3f8"
      },
      "execution_count": null,
      "outputs": []
    },
    {
      "cell_type": "code",
      "source": [
        "X_train, X_test_val, y_train, y_test_val = train_test_split(X, y, test_size=0.3, random_state=47)\n",
        "X_val, X_test, y_val, y_test = train_test_split(X_test_val, y_test_val, test_size=0.5, random_state=47)\n",
        "\n",
        "model = LinearRegression()\n",
        "model.fit(X_train, y_train)"
      ],
      "metadata": {
        "id": "mwKvJEIXe6Xz"
      },
      "execution_count": null,
      "outputs": []
    },
    {
      "cell_type": "code",
      "source": [
        "model.score(X_train, y_train)"
      ],
      "metadata": {
        "id": "BM8SXF8ge3f9"
      },
      "execution_count": null,
      "outputs": []
    },
    {
      "cell_type": "code",
      "source": [
        "model.score(X_val, y_val)"
      ],
      "metadata": {
        "id": "kGiT_FMbe3f9"
      },
      "execution_count": null,
      "outputs": []
    },
    {
      "cell_type": "markdown",
      "source": [
        "# Normalization"
      ],
      "metadata": {
        "id": "8bCsQp5Dq-ym"
      }
    },
    {
      "cell_type": "markdown",
      "source": [
        "### min-max"
      ],
      "metadata": {
        "id": "0yD-xBZtstOM"
      }
    },
    {
      "cell_type": "code",
      "source": [
        "X = df[['age', 'bmi', 'smoker', 'region']]\n",
        "y = df['charges']\n",
        "\n",
        "X = pd.get_dummies(X, columns=['region'], drop_first=True)"
      ],
      "metadata": {
        "id": "vwN0P0nXun8k"
      },
      "execution_count": null,
      "outputs": []
    },
    {
      "cell_type": "code",
      "source": [
        "X_train, X_test_val, y_train, y_test_val = train_test_split(X, y, test_size=0.3, random_state=47)\n",
        "X_val, X_test, y_val, y_test = train_test_split(X_test_val, y_test_val, test_size=0.5, random_state=47)"
      ],
      "metadata": {
        "id": "UfM0JqRMmDu0"
      },
      "execution_count": null,
      "outputs": []
    },
    {
      "cell_type": "code",
      "source": [
        "minmax_scaler = MinMaxScaler()"
      ],
      "metadata": {
        "id": "Ey29D-jTrAnd"
      },
      "execution_count": null,
      "outputs": []
    },
    {
      "cell_type": "code",
      "source": [
        "minmax_scaler.fit(X_train)"
      ],
      "metadata": {
        "id": "JmCFNKBOlz4F"
      },
      "execution_count": null,
      "outputs": []
    },
    {
      "cell_type": "code",
      "source": [
        "minmax_scaler.transform(X_train)"
      ],
      "metadata": {
        "id": "KpW2AUNCmOYI"
      },
      "execution_count": null,
      "outputs": []
    },
    {
      "cell_type": "code",
      "source": [
        "X_train_scaled = pd.DataFrame(minmax_scaler.transform(X_train), columns=X.columns)"
      ],
      "metadata": {
        "id": "q1dc0Vcluc0E"
      },
      "execution_count": null,
      "outputs": []
    },
    {
      "cell_type": "code",
      "source": [
        "model = LinearRegression()\n",
        "model.fit(X_train_scaled, y_train)"
      ],
      "metadata": {
        "id": "L5nD0SBVurqH"
      },
      "execution_count": null,
      "outputs": []
    },
    {
      "cell_type": "code",
      "source": [
        "model.score(X_train_scaled, y_train)"
      ],
      "metadata": {
        "id": "zd9jRujLurqI"
      },
      "execution_count": null,
      "outputs": []
    },
    {
      "cell_type": "code",
      "source": [
        "X_val_scaled = pd.DataFrame(minmax_scaler.transform(X_val), columns=X.columns)"
      ],
      "metadata": {
        "id": "SthdCZOgmp3p"
      },
      "execution_count": null,
      "outputs": []
    },
    {
      "cell_type": "code",
      "source": [
        "model.score(X_val_scaled, y_val)"
      ],
      "metadata": {
        "id": "HtqfyYz8urqI"
      },
      "execution_count": null,
      "outputs": []
    },
    {
      "cell_type": "markdown",
      "source": [
        "### Z-score"
      ],
      "metadata": {
        "id": "lKP0AcMuuvyR"
      }
    },
    {
      "cell_type": "code",
      "source": [
        "X = df[['age', 'bmi', 'smoker', 'region']]\n",
        "y = df['charges']\n",
        "\n",
        "X = pd.get_dummies(X, columns=['region'], drop_first=True)"
      ],
      "metadata": {
        "id": "ZbQSC-DNu0mj"
      },
      "execution_count": null,
      "outputs": []
    },
    {
      "cell_type": "code",
      "source": [
        "X_train, X_test_val, y_train, y_test_val = train_test_split(X, y, test_size=0.3, random_state=47)\n",
        "X_val, X_test, y_val, y_test = train_test_split(X_test_val, y_test_val, test_size=0.5, random_state=47)"
      ],
      "metadata": {
        "id": "_czMBnuKr-1E"
      },
      "execution_count": null,
      "outputs": []
    },
    {
      "cell_type": "code",
      "source": [
        "z_scaler = StandardScaler()"
      ],
      "metadata": {
        "id": "THe3cnxcu0mj"
      },
      "execution_count": null,
      "outputs": []
    },
    {
      "cell_type": "code",
      "source": [
        "z_scaler.fit(X_train)"
      ],
      "metadata": {
        "id": "bPGKYynJsPLE"
      },
      "execution_count": null,
      "outputs": []
    },
    {
      "cell_type": "code",
      "source": [
        "z_scaler.mean_"
      ],
      "metadata": {
        "id": "10SMcXqKsWPM"
      },
      "execution_count": null,
      "outputs": []
    },
    {
      "cell_type": "code",
      "source": [
        "z_scaler.var_"
      ],
      "metadata": {
        "id": "nibI1RmVsZZ5"
      },
      "execution_count": null,
      "outputs": []
    },
    {
      "cell_type": "code",
      "source": [
        "X_train_scaled = pd.DataFrame(z_scaler.transform(X_train),  columns=X_train.columns)"
      ],
      "metadata": {
        "id": "JrBRG3fku0mk"
      },
      "execution_count": null,
      "outputs": []
    },
    {
      "cell_type": "code",
      "source": [
        "model = LinearRegression()\n",
        "model.fit(X_train_scaled, y_train)"
      ],
      "metadata": {
        "id": "encci3xlu0mk"
      },
      "execution_count": null,
      "outputs": []
    },
    {
      "cell_type": "code",
      "source": [
        "model.score(X_train_scaled, y_train)"
      ],
      "metadata": {
        "id": "CfaTgqDFu0mk"
      },
      "execution_count": null,
      "outputs": []
    },
    {
      "cell_type": "code",
      "source": [
        "X_val_scaled = pd.DataFrame(z_scaler.transform(X_val),  columns=X_val.columns)"
      ],
      "metadata": {
        "id": "Nmq4X4Y5s4qD"
      },
      "execution_count": null,
      "outputs": []
    },
    {
      "cell_type": "code",
      "source": [
        "model.score(X_val_scaled, y_val)"
      ],
      "metadata": {
        "id": "NjrKN-L7u0mk"
      },
      "execution_count": null,
      "outputs": []
    }
  ]
}
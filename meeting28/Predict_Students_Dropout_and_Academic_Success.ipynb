{
  "nbformat": 4,
  "nbformat_minor": 0,
  "metadata": {
    "colab": {
      "provenance": []
    },
    "kernelspec": {
      "name": "python3",
      "display_name": "Python 3"
    },
    "language_info": {
      "name": "python"
    }
  },
  "cells": [
    {
      "cell_type": "code",
      "source": [
        "import pandas as pd"
      ],
      "metadata": {
        "id": "fjaVONVAhXxV"
      },
      "execution_count": null,
      "outputs": []
    },
    {
      "cell_type": "markdown",
      "source": [
        "[Information about dataset](https://archive.ics.uci.edu/dataset/697/predict+students+dropout+and+academic+success)"
      ],
      "metadata": {
        "id": "QPkA6WSDhsnI"
      }
    },
    {
      "cell_type": "code",
      "execution_count": null,
      "metadata": {
        "id": "KBnlTgtEf4LC"
      },
      "outputs": [],
      "source": [
        "data_path = \"https://storage.googleapis.com/edulabs-public-datasets/students_dropout_and_academic_success.csv\""
      ]
    },
    {
      "cell_type": "code",
      "source": [
        "df = pd.read_csv(data_path, delimiter=\";\")\n",
        "df"
      ],
      "metadata": {
        "id": "z7DszMExhXPN"
      },
      "execution_count": null,
      "outputs": []
    },
    {
      "cell_type": "code",
      "source": [],
      "metadata": {
        "id": "Akx1g0pJhaey"
      },
      "execution_count": null,
      "outputs": []
    }
  ]
}
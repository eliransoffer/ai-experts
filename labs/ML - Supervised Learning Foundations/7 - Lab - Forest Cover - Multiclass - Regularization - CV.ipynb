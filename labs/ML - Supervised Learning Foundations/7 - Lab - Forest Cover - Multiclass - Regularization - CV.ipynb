{
 "cells": [
  {
   "metadata": {},
   "cell_type": "markdown",
   "source": [
    "# Classify Forest Cover Types with Regularized Logistic Regression\n",
    "\n",
    "---"
   ],
   "id": "f6d8512f0e4967b1"
  },
  {
   "metadata": {},
   "cell_type": "markdown",
   "source": [
    "**Dataset**: *Forest Covertypes* (`sklearn.datasets.fetch_covtype`)\n",
    "- Multi-class target: 7 forest cover types (classes 1–7)\n",
    "- 54 numerical features (cartographic, soil, and wilderness data)\n",
    "- Real-world dataset used in remote sensing & ecology\n",
    "\n",
    "---"
   ],
   "id": "c6cebafc8dddad52"
  },
  {
   "metadata": {},
   "cell_type": "markdown",
   "source": [
    "1. **Load the Forest CoverType Dataset**\n",
    "   - Use `from sklearn.datasets import fetch_covtype`\n",
    "   - Load the data and take a random sample of ~10,000 instances for faster training\n",
    "   - Print the number of samples, features, and target classes"
   ],
   "id": "3be0ddd2e0a4475f"
  },
  {
   "metadata": {
    "ExecuteTime": {
     "end_time": "2025-03-26T17:51:13.776083Z",
     "start_time": "2025-03-26T17:51:13.491708Z"
    }
   },
   "cell_type": "code",
   "source": [
    "from sklearn.datasets import fetch_covtype\n",
    "data = fetch_covtype()\n",
    "X, y = data.data, data.target"
   ],
   "id": "ef6368feac54259",
   "outputs": [],
   "execution_count": 1
  },
  {
   "metadata": {},
   "cell_type": "markdown",
   "source": [
    "2. **Preprocess the Data**\n",
    "   - Standardize features using `StandardScaler`"
   ],
   "id": "d4f265c0e6f28aef"
  },
  {
   "metadata": {},
   "cell_type": "code",
   "outputs": [],
   "execution_count": null,
   "source": "",
   "id": "a17c09ad865b654b"
  },
  {
   "metadata": {},
   "cell_type": "markdown",
   "source": [
    "3. **Train Multi-class Logistic Regression**\n",
    "   - Use `LogisticRegression()`\n",
    "   - Train with 5-fold cross-validation\n",
    "   - Report accuracy and confusion matrix"
   ],
   "id": "3a5d20b6ef9f29e4"
  },
  {
   "metadata": {},
   "cell_type": "code",
   "outputs": [],
   "execution_count": null,
   "source": "",
   "id": "765fa3803543dd7e"
  },
  {
   "metadata": {},
   "cell_type": "markdown",
   "source": [
    "4. **Apply Regularization**\n",
    "   - Try different `C` values (e.g., `[0.01, 0.1, 1, 10]`)\n",
    "   - Compare **L1** vs **L2** penalties\n",
    "   - Review differences in model sparsity and accuracy"
   ],
   "id": "b3a340581cca4cd2"
  },
  {
   "metadata": {},
   "cell_type": "code",
   "outputs": [],
   "execution_count": null,
   "source": "",
   "id": "664641c87d001e21"
  },
  {
   "metadata": {},
   "cell_type": "markdown",
   "source": [
    "5. **Use GridSearchCV**\n",
    "   - Perform grid search over `C` and `penalty` with 5-fold CV\n",
    "   - Output best model and hyperparameters"
   ],
   "id": "9fc9f076e4800ddc"
  },
  {
   "metadata": {},
   "cell_type": "code",
   "outputs": [],
   "execution_count": null,
   "source": "",
   "id": "a5ee3d256a1e69cc"
  },
  {
   "metadata": {},
   "cell_type": "markdown",
   "source": [
    "\n",
    "\n",
    "\n",
    "\n",
    "\n",
    "\n",
    "\n",
    "\n",
    "\n",
    "\n",
    "\n",
    "\n",
    "6. **(Bonus)** Analyze Feature Importance\n",
    "   - For L1-regularized models, which features are selected (non-zero coefficients)?\n",
    "   - What do those features mean?\n",
    "\n",
    "---\n",
    "\n"
   ],
   "id": "576fab42c1897b45"
  }
 ],
 "metadata": {
  "kernelspec": {
   "display_name": "Python 3",
   "language": "python",
   "name": "python3"
  },
  "language_info": {
   "codemirror_mode": {
    "name": "ipython",
    "version": 2
   },
   "file_extension": ".py",
   "mimetype": "text/x-python",
   "name": "python",
   "nbconvert_exporter": "python",
   "pygments_lexer": "ipython2",
   "version": "2.7.6"
  }
 },
 "nbformat": 4,
 "nbformat_minor": 5
}

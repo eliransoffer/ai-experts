{
  "nbformat": 4,
  "nbformat_minor": 0,
  "metadata": {
    "colab": {
      "provenance": [],
      "toc_visible": true,
      "authorship_tag": "ABX9TyNpz1alusZI46sYd08coO0C",
      "include_colab_link": true
    },
    "kernelspec": {
      "name": "python3",
      "display_name": "Python 3"
    },
    "language_info": {
      "name": "python"
    }
  },
  "cells": [
    {
      "cell_type": "markdown",
      "metadata": {
        "id": "view-in-github",
        "colab_type": "text"
      },
      "source": [
        "<a href=\"https://colab.research.google.com/github/valeria-edulabs/ai-experts/blob/main/meeting13/Pandas-EDA-Part-3-distributions-correlations-insights.ipynb\" target=\"_parent\"><img src=\"https://colab.research.google.com/assets/colab-badge.svg\" alt=\"Open In Colab\"/></a>"
      ]
    },
    {
      "cell_type": "markdown",
      "source": [
        "# Imports"
      ],
      "metadata": {
        "id": "t-8_qM0B29iI"
      }
    },
    {
      "cell_type": "code",
      "execution_count": null,
      "metadata": {
        "id": "5MPi8gfG_WYc"
      },
      "outputs": [],
      "source": [
        "import pandas as pd\n",
        "import numpy as np\n",
        "import matplotlib.pyplot as plt\n",
        "import seaborn as sns"
      ]
    },
    {
      "cell_type": "code",
      "source": [
        "import seaborn as sns\n",
        "\n",
        "sns.set(rc={'figure.figsize':(15,7)})"
      ],
      "metadata": {
        "id": "qX9r8HQUPobv"
      },
      "execution_count": null,
      "outputs": []
    },
    {
      "cell_type": "code",
      "source": [
        "from matplotlib import rcParams\n",
        "\n",
        "# figure size in inches\n",
        "rcParams['figure.figsize'] = 11.7,8.27"
      ],
      "metadata": {
        "id": "Mdvm61tCPo85"
      },
      "execution_count": null,
      "outputs": []
    },
    {
      "cell_type": "markdown",
      "source": [
        "# Load the data"
      ],
      "metadata": {
        "id": "EbsCbTFIIKDP"
      }
    },
    {
      "cell_type": "code",
      "metadata": {
        "id": "5xd4MVPCRSGG"
      },
      "source": [
        "url = 'https://storage.googleapis.com/edulabs-public-datasets/athlete_events.zip'\n",
        "\n",
        "converters = {\n",
        "    \"Sex\": lambda s: s == 'M', # return True if Male, false if Female\n",
        "    \"Season\": lambda s: s == 'Summer'  # return True if Summer, false if Winter\n",
        "}\n",
        "dtypes = {\n",
        "    \"ID\": \"int32\",\n",
        "    \"Age\": \"Int8\",\n",
        "    \"Height\": \"float32\",\n",
        "    \"Weight\": \"float32\",\n",
        "    \"Year\": \"Int16\",\n",
        "    \"Medal\": \"category\"\n",
        "}\n",
        "usecols = [\n",
        "    'ID', 'Name', 'Sex', 'Age', 'Height', 'Weight', 'Team', 'NOC',\n",
        "       'Year', 'Season', 'City', 'Sport', 'Event', 'Medal'\n",
        "]  # all the columns except for \"Games\" which is redundant\n",
        "\n",
        "df = pd.read_csv(url, usecols=usecols, converters=converters, dtype=dtypes)\n",
        "\n",
        "df.rename(columns={\"Sex\": \"male\", \"Season\": \"summer\"}, inplace=True)\n",
        "df.rename(columns={col: col.lower() for col in df.columns}, inplace=True)\n"
      ],
      "execution_count": null,
      "outputs": []
    },
    {
      "cell_type": "markdown",
      "source": [
        "# Explore ditributions"
      ],
      "metadata": {
        "id": "lV2chz0gJFBj"
      }
    },
    {
      "cell_type": "markdown",
      "source": [
        "## Athlete Physical Attributes\n",
        "\n",
        "For this purpose we are going to drop all the duplicate rows with athletes, and we are going to leave only the first occurence of the same athlete"
      ],
      "metadata": {
        "id": "g4JZJHtqJHwr"
      }
    },
    {
      "cell_type": "code",
      "source": [
        "athletes = df.drop_duplicates(subset=['id'])"
      ],
      "metadata": {
        "id": "_3r7gXuLJMmA"
      },
      "execution_count": null,
      "outputs": []
    },
    {
      "cell_type": "markdown",
      "source": [
        "## Distributions"
      ],
      "metadata": {
        "id": "sR89PybjVSlX"
      }
    },
    {
      "cell_type": "markdown",
      "source": [
        "### Explanation"
      ],
      "metadata": {
        "id": "bXEhgB-6VafT"
      }
    },
    {
      "cell_type": "markdown",
      "source": [
        "\n",
        "**What Does a Distribution Tell Us?**\n",
        "\n",
        "A distribution in data analysis describes how values are spread across a dataset. It helps us understand patterns, central tendencies, variability, and potential outliers.\n",
        "\n",
        "**Key Insights from a Distribution**\n",
        "\n",
        "**1. Central Tendency (Mean, Median, Mode)**\n",
        "\n",
        "- Where do most values cluster?\n",
        "\n",
        "- Example: The average age of medalists in different sports.\n",
        "\n",
        "\n",
        "**2. Spread (Variance, Standard Deviation, Range, IQR)**\n",
        "\n",
        "- How dispersed are the values?\n",
        "\n",
        "- Example: The range of heights in swimming vs. gymnastics—swimmers tend to be taller.\n",
        "\n",
        "\n",
        "**3. Shape of the Distribution (Symmetry, Skewness, Kurtosis)**\n",
        "\n",
        "- Symmetric Distribution → Balanced around the mean.\n",
        "\n",
        "- Right-Skewed (Positive Skew) → More lower values (e.g., ages of young prodigies).\n",
        "\n",
        "- Left-Skewed (Negative Skew) → More higher values (e.g., weight in heavyweight sports).\n",
        "\n",
        "- Kurtosis tells if data has many outliers.\n",
        "\n",
        "\n",
        "**4. Outliers and Anomalies**\n",
        "\n",
        "- Unusual values that may indicate data errors or exceptional cases.\n",
        "\n",
        "- Example: A 14-year-old winning an Olympic gold might be an outlier in most sports but common in gymnastics.\n",
        "\n"
      ],
      "metadata": {
        "id": "6vcsL-KNJury"
      }
    },
    {
      "cell_type": "markdown",
      "source": [
        "### **Standard Deviation (std) vs. Variance (var)**"
      ],
      "metadata": {
        "id": "nnccnDUwVjtn"
      }
    },
    {
      "cell_type": "markdown",
      "source": [
        "\n",
        "Both **variance** and **standard deviation** measure the **spread** or **dispersion** of data, but they differ in interpretation.\n",
        "\n",
        "---\n",
        "\n",
        "#### **1️⃣ Variance (var)**\n",
        "- Measures the **average squared deviation** from the mean.\n",
        "- Formula:  ![image.png](data:image/png;base64,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)\n",
        "\n",
        "- **Interpretation:**  \n",
        "  - Higher variance → Data points are more spread out.  \n",
        "  - Lower variance → Data points are closer to the mean.  \n",
        "  - **Unit:** Squared units of the original data (e.g., cm² for height).  \n",
        "\n",
        "---\n",
        "\n",
        "#### **2️⃣ Standard Deviation (std)**\n",
        "- Square root of the variance.  \n",
        "- Formula:  \n",
        "\n",
        "![image.png](data:image/png;base64,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)\n",
        "\n",
        "- **Interpretation:**  \n",
        "  - Expressed in **same units** as the data, making it easier to interpret.  \n",
        "  - Represents the typical distance of data points from the mean.  \n",
        "\n",
        "---\n",
        "\n",
        "### **Variance vs. Standard Deviation: Key Differences**\n",
        "| Feature | Variance (var) | Standard Deviation (std) |\n",
        "|---------|--------------|--------------------|\n",
        "| **Definition** | Average squared deviations from the mean | Square root of variance |\n",
        "| **Unit** | Squared units of original data | Same as original data |\n",
        "| **Interpretability** | Less intuitive (e.g., cm² for height) | More intuitive (e.g., cm for height) |\n",
        "| **Effect of Outliers** | Higher impact | Also affected but easier to compare |\n",
        "\n",
        "---"
      ],
      "metadata": {
        "id": "ImuA-Xv1QFet"
      }
    },
    {
      "cell_type": "markdown",
      "source": [
        "### Normal distribution"
      ],
      "metadata": {
        "id": "UWUTBwx_W5Q0"
      }
    },
    {
      "cell_type": "markdown",
      "source": [
        "**📌 What is a Normal Distribution?**  \n",
        "A **normal distribution** (also called a **Gaussian distribution** or **bell curve**) is a **continuous probability distribution** that is symmetric around its mean. It appears naturally in many real-world scenarios, such as **heights, IQ scores, measurement errors, and stock returns**.\n",
        "\n",
        "---\n",
        "\n",
        "**🔹 Key Properties of Normal Distribution**\n",
        "1. **Symmetric** around the mean (center).\n",
        "2. **Mean (μ), median, and mode are equal**.\n",
        "3. **Bell-shaped curve**.\n",
        "4. **68-95-99.7 Rule** (Empirical Rule):\n",
        "   - **68%** of the data falls within **1 standard deviation (σ)** of the mean.\n",
        "   - **95%** falls within **2σ**.\n",
        "   - **99.7%** falls within **3σ**.\n",
        "5. **Defined by only two parameters**:  \n",
        "   - **Mean (μ)** → Determines the center.  \n",
        "   - **Standard Deviation (σ)** → Determines the spread.\n",
        "\n",
        "---\n",
        "\n",
        "\n",
        "**🔹 Real-World Examples**\n",
        "- **Heights of people** → Most are near the average, fewer are very short or very tall.\n",
        "- **IQ scores** → The majority are near 100, fewer people have very high or very low IQs.\n",
        "- **Measurement errors** → Small errors are more common than large errors.\n",
        "\n"
      ],
      "metadata": {
        "id": "qyGrDXvoW9rn"
      }
    },
    {
      "cell_type": "markdown",
      "source": [
        "### IQR"
      ],
      "metadata": {
        "id": "JLi9UWIOUwlH"
      }
    },
    {
      "cell_type": "markdown",
      "source": [
        "### **📌 How to Calculate IQR and Detect Anomalies in Pandas?**  \n",
        "\n",
        "#### **🔹 Step 1: Understanding IQR (Interquartile Range)**  \n",
        "The **IQR (Interquartile Range)** measures the **middle 50%** of the data and is calculated as:\n",
        "\\[\n",
        "IQR = Q3 - Q1\n",
        "\\]\n",
        "- **Q1 (25th percentile)** → Lower quartile  \n",
        "- **Q3 (75th percentile)** → Upper quartile  \n",
        "- **Outliers (Anomalies)** are usually defined as values **below** `Q1 - 1.5*IQR` or **above** `Q3 + 1.5*IQR`\n",
        "\n",
        "---\n",
        "\n",
        "### **🔹 Step 2: Calculate IQR & Detect Anomalies in Pandas**\n",
        "#### ✅ **Example: Detecting Anomalies in \"Age\" Column**\n",
        "```python\n",
        "\n",
        "```\n",
        "\n",
        "---\n",
        "\n",
        "### **🔹 Step 3: Handling Anomalies**\n",
        "#### ✅ **Option 1: Remove Anomalies**\n",
        "```python\n",
        "df_no_outliers = df[~df[\"is_anomaly\"]]\n",
        "```\n",
        "#### ✅ **Option 2: Replace Anomalies with Median**\n",
        "```python\n",
        "median_value = df[\"age\"].median()\n",
        "df.loc[df[\"is_anomaly\"], \"age\"] = median_value\n",
        "```\n",
        "\n",
        "---\n",
        "\n",
        "### **📊 Bonus: Visualizing Anomalies**\n",
        "```python\n",
        "import seaborn as sns\n",
        "import matplotlib.pyplot as plt\n",
        "\n",
        "sns.boxplot(x=df[\"age\"])\n",
        "plt.title(\"Boxplot for Age (Outliers Detection)\")\n",
        "plt.show()\n",
        "```\n",
        "\n",
        "---\n",
        "\n",
        "### **📌 Summary**\n",
        "| **Step** | **Method** |\n",
        "|----------|-----------|\n",
        "| Calculate **IQR** | `IQR = Q3 - Q1` |\n",
        "| Define **outlier thresholds** | `Q1 - 1.5*IQR` (lower), `Q3 + 1.5*IQR` (upper) |\n",
        "| Detect anomalies | `df[\"is_anomaly\"] = (df[\"col\"] < lower) | (df[\"col\"] > upper)` |\n",
        "| Remove outliers | `df_no_outliers = df[~df[\"is_anomaly\"]]` |\n",
        "| Replace anomalies with median | `df.loc[df[\"is_anomaly\"], \"col\"] = df[\"col\"].median()` |\n",
        "| Visualize outliers | `seaborn.boxplot()` |\n",
        "\n",
        "Would you like help analyzing anomalies in your **Olympic dataset**? 🚀"
      ],
      "metadata": {
        "id": "q3MYXqwvZSPy"
      }
    },
    {
      "cell_type": "markdown",
      "source": [
        "![image.png](data:image/png;base64,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)"
      ],
      "metadata": {
        "id": "wzbSY528UuS4"
      }
    },
    {
      "cell_type": "code",
      "source": [
        "\n",
        "# Calculate Q1 (25th percentile) and Q3 (75th percentile)\n",
        "Q1 = athletes[\"age\"].quantile(0.25)\n",
        "Q3 = athletes[\"age\"].quantile(0.75)\n",
        "\n",
        "# Calculate IQR\n",
        "IQR = Q3 - Q1\n",
        "\n",
        "# Define lower and upper bounds for anomalies\n",
        "lower_bound = Q1 - 1.5 * IQR\n",
        "upper_bound = Q3 + 1.5 * IQR\n",
        "\n",
        "# Detect anomalies\n",
        "anomalies = (athletes[\"age\"] < lower_bound) | (athletes[\"age\"] > upper_bound)\n",
        "\n",
        "# Show anomalies\n",
        "athletes[anomalies]"
      ],
      "metadata": {
        "id": "eFvDiFdbZZQo"
      },
      "execution_count": null,
      "outputs": []
    },
    {
      "cell_type": "markdown",
      "source": [
        "**❓Exercise: Find amount of anomalies (in terms of age) per sport**"
      ],
      "metadata": {
        "id": "HQcuUyKvZuNl"
      }
    },
    {
      "cell_type": "markdown",
      "source": [
        "### Code examples"
      ],
      "metadata": {
        "id": "wMn8JBGSV3Eg"
      }
    },
    {
      "cell_type": "code",
      "source": [
        "# distribution over all the athletes\n",
        "sns.histplot(athletes['height'])"
      ],
      "metadata": {
        "id": "r6RGRBgKJzNy"
      },
      "execution_count": null,
      "outputs": []
    },
    {
      "cell_type": "code",
      "source": [
        "# distribution in various sports\n",
        "df['sport'].unique()"
      ],
      "metadata": {
        "id": "m6wz00LfOKPu"
      },
      "execution_count": null,
      "outputs": []
    },
    {
      "cell_type": "code",
      "source": [
        "sns.set(rc={'figure.figsize':(10,7)})"
      ],
      "metadata": {
        "id": "h_nzWFQjO8Ae"
      },
      "execution_count": null,
      "outputs": []
    },
    {
      "cell_type": "code",
      "source": [
        "basketball_heights = athletes[athletes['sport'] == 'Basketball']['height']\n",
        "basketball_heights.agg(['min', 'max', 'mean', 'median', 'var', 'std'])"
      ],
      "metadata": {
        "id": "QWZnjN8IPP4W"
      },
      "execution_count": null,
      "outputs": []
    },
    {
      "cell_type": "code",
      "source": [
        "sns.histplot(basketball_heights)"
      ],
      "metadata": {
        "id": "xBy5lW6uOfs8"
      },
      "execution_count": null,
      "outputs": []
    },
    {
      "cell_type": "code",
      "source": [
        "sns.histplot(basketball_heights, kde=True)"
      ],
      "metadata": {
        "id": "VvevMrt1Ttnr"
      },
      "execution_count": null,
      "outputs": []
    },
    {
      "cell_type": "code",
      "source": [
        "sns.boxplot(basketball_heights)"
      ],
      "metadata": {
        "id": "1xlTvBC2XDZH"
      },
      "execution_count": null,
      "outputs": []
    },
    {
      "cell_type": "code",
      "source": [
        "curling_heights = athletes[athletes['sport'] == 'Curling']['height']"
      ],
      "metadata": {
        "id": "xxp4Riv-V-TY"
      },
      "execution_count": null,
      "outputs": []
    },
    {
      "cell_type": "code",
      "source": [
        "curling_heights.agg(['min', 'max', 'mean', 'median', 'var', 'std'])"
      ],
      "metadata": {
        "id": "g1jK06htXnKG"
      },
      "execution_count": null,
      "outputs": []
    },
    {
      "cell_type": "code",
      "source": [
        "sns.histplot(curling_heights, kde=True)"
      ],
      "metadata": {
        "id": "v8glhHZ6PKue"
      },
      "execution_count": null,
      "outputs": []
    },
    {
      "cell_type": "code",
      "source": [
        "sns.boxplot(curling_heights)"
      ],
      "metadata": {
        "id": "doWWeBP6XOAU"
      },
      "execution_count": null,
      "outputs": []
    },
    {
      "cell_type": "markdown",
      "source": [
        "### Skewed distribution"
      ],
      "metadata": {
        "id": "wsHmreQ2Wzl9"
      }
    },
    {
      "cell_type": "markdown",
      "source": [
        "#### **Is There a Problem with Using Std, IQR, and Other Measures on Skewed Data?**  \n",
        "\n",
        "Yes! If the **distribution is skewed**, some statistical measures (like the **mean** and **standard deviation**) may **misrepresent** the data. However, other measures (like **median** and **IQR**) are more **robust to skewness**.  \n",
        "\n",
        "---\n",
        "\n",
        "#### **1️⃣ Standard Deviation (std) and Skewness**\n",
        "- **Problem:** Standard deviation assumes **data is symmetrically spread around the mean**.  \n",
        "- In a **right-skewed** distribution (long tail on the right), **std can be large**, even though most values are on the lower side.  \n",
        "- In a **left-skewed** distribution (long tail on the left), **std may not reflect the real spread** of most data points.  \n",
        "- **Sensitive to outliers**: Extreme values inflate std.  \n",
        "\n",
        "✔ **When to Use?**  \n",
        "- Works well **if data is symmetric (normal distribution)**.  \n",
        "- **Not ideal for skewed distributions** because extreme values distort it.  \n",
        "\n",
        "---\n",
        "\n",
        "#### **2️⃣ IQR and Skewness**\n",
        "✔ **IQR is robust to skewness** because it focuses on the **middle 50%** of the data.  \n",
        "✔ IQR is not affected by **outliers or extreme values**, making it a better measure of spread in skewed data.  \n",
        "\n",
        "\n",
        "\n",
        "#### **Observations from the Example**\n",
        "- **Mean is pulled to the right** because of the skewness.  \n",
        "- **Median is more representative of the data's center.**  \n",
        "- **IQR is stable**, while **std is inflated** by the long right tail.  \n",
        "\n",
        "---\n",
        "\n",
        "#### **Key Takeaways**\n",
        "| Measure | Works Well If... | Problem in Skewed Data? |\n",
        "|---------|----------------|-------------------------|\n",
        "| **Mean** | Symmetric distribution | **Yes** (pulled by outliers) |\n",
        "| **Median** | Any distribution | No (robust to skewness) |\n",
        "| **Std Dev** | Symmetric, normal data | **Yes** (inflated by extreme values) |\n",
        "| **IQR** | Any distribution | No (robust to skewness) |\n",
        "\n",
        "---\n",
        "\n",
        "#### **📌 When Data is Skewed, Use:**\n",
        "✔ **Median instead of Mean** for central tendency.  \n",
        "✔ **IQR instead of Std** for spread.  \n",
        "✔ **Box Plots** to visualize skewness and outliers.  \n",
        "\n",
        "Would you like help analyzing skewness in your dataset? 🚀"
      ],
      "metadata": {
        "id": "bJtVzMc6W226"
      }
    },
    {
      "cell_type": "markdown",
      "source": [
        "#### ❓**Exercise: Find Sport with maximum and minimum variance of: athlete height, weight, age**"
      ],
      "metadata": {
        "id": "2qEamFrmX2yv"
      }
    },
    {
      "cell_type": "code",
      "source": [],
      "metadata": {
        "id": "FDqjK2UiIS-8"
      },
      "execution_count": null,
      "outputs": []
    },
    {
      "cell_type": "markdown",
      "source": [
        "[Data visualization fundamentals colab](https://colab.research.google.com/drive/1FUWZu9Q7Eplgiww6H0G7WhBQ-AWqbxec?usp=sharing)"
      ],
      "metadata": {
        "id": "rBLwzr9T1Qe_"
      }
    },
    {
      "cell_type": "markdown",
      "source": [
        "# Relations / corelations"
      ],
      "metadata": {
        "id": "8w7ESOPzxwM1"
      }
    },
    {
      "cell_type": "markdown",
      "source": [
        "### Scatter plot"
      ],
      "metadata": {
        "id": "es1C2Wckx5eb"
      }
    },
    {
      "cell_type": "code",
      "source": [
        "# relation between height / weight\n",
        "sns.scatterplot(athletes, x='weight', y='height')"
      ],
      "metadata": {
        "id": "cV6zO2BlxyzZ"
      },
      "execution_count": null,
      "outputs": []
    },
    {
      "cell_type": "code",
      "source": [
        "sns.set(rc={'figure.figsize':(15,7)})"
      ],
      "metadata": {
        "id": "U0ENXArJKVCQ"
      },
      "execution_count": null,
      "outputs": []
    },
    {
      "cell_type": "markdown",
      "source": [
        "In Seaborn, hue is used to color different categories within the same plot. It allows you to distinguish groups based on a categorical variable.\n",
        "\n"
      ],
      "metadata": {
        "id": "GwpIskFRTsW9"
      }
    },
    {
      "cell_type": "code",
      "source": [
        "sns.scatterplot(athletes, x='weight', y='height', hue='sport')"
      ],
      "metadata": {
        "id": "jIr28zNw0hmQ"
      },
      "execution_count": null,
      "outputs": []
    },
    {
      "cell_type": "code",
      "source": [
        "sns.scatterplot(athletes[athletes['sport'].str.startswith('B')], x='weight', y='height', hue='sport')"
      ],
      "metadata": {
        "id": "YZQfntL8KMqg"
      },
      "execution_count": null,
      "outputs": []
    },
    {
      "cell_type": "code",
      "source": [
        "sns.scatterplot(athletes[athletes['sport'].isin(['Basketball', 'Boxing'])], x='weight', y='height', hue='sport')"
      ],
      "metadata": {
        "id": "G3-BYhGiKjHc"
      },
      "execution_count": null,
      "outputs": []
    },
    {
      "cell_type": "code",
      "source": [],
      "metadata": {
        "id": "4jGjH9_EK8_E"
      },
      "execution_count": null,
      "outputs": []
    },
    {
      "cell_type": "markdown",
      "source": [
        "#### ❓**Exercise**\n",
        "\n",
        "\n",
        "*   Use scatterplot to see whether there is a correlation between age and height in all the athletes dataset\n",
        "*   Use scatterplot to see whether there is a correlation between age and weight in all the athletes dataset\n",
        "\n",
        "Answer the same questions for Hockey athletes\n",
        "\n"
      ],
      "metadata": {
        "id": "aksKwnT6LIqu"
      }
    },
    {
      "cell_type": "code",
      "source": [],
      "metadata": {
        "id": "Jq7_P_KpMNPo"
      },
      "execution_count": null,
      "outputs": []
    },
    {
      "cell_type": "markdown",
      "source": [
        "#### ❓**Exercise**\n",
        "\n",
        "\n",
        "Lets see how athletes physical attributes changed over time.\n",
        "\n",
        "Plot figures to show whether athletes median age / weight / height changed overtime, **per sport**.\n",
        "\n"
      ],
      "metadata": {
        "id": "APeRs2uHMbYB"
      }
    },
    {
      "cell_type": "code",
      "source": [],
      "metadata": {
        "id": "zp9vlRfBNAGh"
      },
      "execution_count": null,
      "outputs": []
    },
    {
      "cell_type": "markdown",
      "source": [
        "### Using FacetGrids for multiple scatterplots"
      ],
      "metadata": {
        "id": "XWyg2ed2RzfL"
      }
    },
    {
      "cell_type": "code",
      "source": [
        "g = sns.FacetGrid(athletes, col='sport')\n",
        "\n",
        "# Plot a scatter plot for each category\n",
        "g.map(sns.scatterplot, 'age', 'weight')"
      ],
      "metadata": {
        "id": "MjqWq9Z_R3kv"
      },
      "execution_count": null,
      "outputs": []
    },
    {
      "cell_type": "markdown",
      "source": [
        "### Using bins for categorizing numerical data"
      ],
      "metadata": {
        "id": "fHx8vP51SF_x"
      }
    },
    {
      "cell_type": "code",
      "source": [
        "pd.cut(athletes['age'], bins=3)"
      ],
      "metadata": {
        "id": "AueJZrBD0Skv"
      },
      "execution_count": null,
      "outputs": []
    },
    {
      "cell_type": "code",
      "source": [
        "athletes['age_bin'] = pd.cut(athletes['age'], bins=[0, 15, 20, 30, 40, 50, 97])"
      ],
      "metadata": {
        "id": "Lz0W7caI099s"
      },
      "execution_count": null,
      "outputs": []
    },
    {
      "cell_type": "code",
      "source": [
        "g = sns.FacetGrid(athletes, col='sport', hue='age_bin')\n",
        "\n",
        "# Plot a scatter plot for each category\n",
        "g.map(sns.scatterplot, 'age', 'weight' )"
      ],
      "metadata": {
        "id": "leuL0AcISlst"
      },
      "execution_count": null,
      "outputs": []
    },
    {
      "cell_type": "code",
      "source": [
        "sns.scatterplot(athletes[athletes['sport'] == 'Judo'], x=\"weight\", y=\"height\", hue='age_bin')\n"
      ],
      "metadata": {
        "id": "r7LVAWrQT0u2"
      },
      "execution_count": null,
      "outputs": []
    },
    {
      "cell_type": "markdown",
      "source": [
        "## Correlations"
      ],
      "metadata": {
        "id": "-TdD8-AiNL6r"
      }
    },
    {
      "cell_type": "markdown",
      "source": [
        "### Spearman vs. Pearson Correlation\n",
        "\n",
        "**Spearman correlation** and **Pearson correlation** are both statistical measures used to quantify the strength and direction of the linear relationship between two variables. However, they differ in their assumptions and applicability.\n",
        "\n",
        "### Pearson Correlation\n",
        "* **Assumptions:**\n",
        "  * Both variables are normally distributed.\n",
        "  * The relationship between the variables is linear.\n",
        "* **Calculation:** Measures the covariance between the standardized variables.\n",
        "* **Interpretation:** A value of 1 indicates a perfect positive correlation, -1 indicates a perfect negative correlation, and 0 indicates no correlation.\n",
        "\n",
        "### Spearman Correlation\n",
        "* **Assumptions:**\n",
        "  * The variables are ordinal or continuous.\n",
        "  * The relationship between the variables is monotonic (either increasing or decreasing).\n",
        "* **Calculation:** Measures the correlation between the ranks of the variables.\n",
        "* **Interpretation:** Similar to Pearson correlation, with values ranging from -1 to 1.\n",
        "\n",
        "**When to Use Which:**\n",
        "\n",
        "* **Pearson correlation:** Use when both variables are normally distributed and the relationship is linear.\n",
        "* **Spearman correlation:** Use when the variables are ordinal or continuous, or when the relationship is non-linear but monotonic.\n",
        "\n",
        "**Key Differences:**\n",
        "\n",
        "| Feature | Pearson Correlation | Spearman Correlation |\n",
        "|---|---|---|\n",
        "| Assumptions | Normality, linearity | Ordinal or continuous, monotonic |\n",
        "| Calculation | Covariance of standardized variables | Correlation of ranks |\n",
        "| Sensitivity to outliers | Sensitive to outliers | Less sensitive to outliers |\n",
        "\n",
        "In summary, Pearson correlation is suitable for linear relationships between normally distributed variables, while Spearman correlation is more robust to outliers and can handle non-linear monotonic relationships.\n"
      ],
      "metadata": {
        "id": "f29nqi43_XhX"
      }
    },
    {
      "cell_type": "code",
      "source": [
        "athletes[['weight', 'height', 'age']].corr()"
      ],
      "metadata": {
        "id": "BKKw6uY5NNK-"
      },
      "execution_count": null,
      "outputs": []
    },
    {
      "cell_type": "code",
      "source": [
        "athletes[['weight', 'height', 'age']].corr('spearman')"
      ],
      "metadata": {
        "id": "WO6MAwMzUlz5"
      },
      "execution_count": null,
      "outputs": []
    },
    {
      "cell_type": "code",
      "source": [
        "correlation_matrix = athletes.select_dtypes(include=['number', 'bool']).corr()\n",
        "correlation_matrix"
      ],
      "metadata": {
        "id": "oQ4PZeeKU4Ja"
      },
      "execution_count": null,
      "outputs": []
    },
    {
      "cell_type": "code",
      "source": [
        "# viridis: A perceptually uniform sequential colormap that ranges from dark blue to yellow.\n",
        "# inferno: A perceptually uniform sequential colormap that ranges from dark red to yellow.\n",
        "# magma: A perceptually uniform sequential colormap that ranges from dark gray to yellow.\n",
        "# plasma: A perceptually uniform sequential colormap that ranges from dark purple to yellow.\n",
        "# cividis: A perceptually uniform sequential colormap that ranges from dark blue to yellow.\n",
        "sns.heatmap(correlation_matrix, annot=True, cmap='plasma')\n",
        "plt.title('Correlation Matrix')\n",
        "plt.show()"
      ],
      "metadata": {
        "id": "aXjOpcdPVQJ8"
      },
      "execution_count": null,
      "outputs": []
    },
    {
      "cell_type": "markdown",
      "source": [
        "#### Contingency table - for categorical variables"
      ],
      "metadata": {
        "id": "5ZrJJ3FEBSGD"
      }
    },
    {
      "cell_type": "code",
      "source": [
        "# Create contingency table\n",
        "pd.crosstab(athletes['male'], athletes['summer'])"
      ],
      "metadata": {
        "id": "__3QTcskA29q"
      },
      "execution_count": null,
      "outputs": []
    },
    {
      "cell_type": "code",
      "source": [
        "pd.crosstab(athletes['male'], athletes['summer'], normalize=True)"
      ],
      "metadata": {
        "id": "9UjVYLL6d3xH"
      },
      "execution_count": null,
      "outputs": []
    },
    {
      "cell_type": "code",
      "source": [
        "pd.crosstab(athletes['male'], athletes['age_bin'], normalize=True)"
      ],
      "metadata": {
        "id": "2nQkArxbWSeB"
      },
      "execution_count": null,
      "outputs": []
    },
    {
      "cell_type": "markdown",
      "source": [
        "# Smart Data imputation"
      ],
      "metadata": {
        "id": "Tj4Xy5DVN2OV"
      }
    },
    {
      "cell_type": "code",
      "source": [
        "athletes['height'].isna().sum()"
      ],
      "metadata": {
        "id": "Yarjse_IN4GA"
      },
      "execution_count": null,
      "outputs": []
    },
    {
      "cell_type": "code",
      "source": [
        "athletes['height'].plot(kind='hist', bins=50)"
      ],
      "metadata": {
        "id": "eoIpdBkmWfvR"
      },
      "execution_count": null,
      "outputs": []
    },
    {
      "cell_type": "code",
      "source": [
        "# not so good solution\n",
        "athletes['height'].fillna(athletes['height'].median()).plot(kind='hist', bins=50)"
      ],
      "metadata": {
        "id": "EJVfsN0BWpCF"
      },
      "execution_count": null,
      "outputs": []
    },
    {
      "cell_type": "code",
      "source": [
        "athletes.groupby(['event', 'male', 'age_bin'])['height'].transform(lambda x: x.fillna(x.median())).plot(kind='hist', bins=50)"
      ],
      "metadata": {
        "id": "O5pAv2GqX6Vn"
      },
      "execution_count": null,
      "outputs": []
    },
    {
      "cell_type": "markdown",
      "source": [
        "# Analysing other aspects\n",
        "\n",
        "\n",
        "\n",
        "*   physical attributes vs medals\n",
        "*   physical attributes vs countries\n",
        "* amount of athletes vs year / location\n",
        "* amount of events / sports per year\n",
        "* amount of medals / athletes per country financial indicators\n",
        "\n"
      ],
      "metadata": {
        "id": "LwerDBXoVY9Z"
      }
    },
    {
      "cell_type": "code",
      "source": [],
      "metadata": {
        "id": "exdFpvCpVygn"
      },
      "execution_count": null,
      "outputs": []
    }
  ]
}
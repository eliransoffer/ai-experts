{
  "nbformat": 4,
  "nbformat_minor": 0,
  "metadata": {
    "colab": {
      "provenance": [],
      "toc_visible": true,
      "authorship_tag": "ABX9TyONfpyJRCYrdJGIo5r9sjty",
      "include_colab_link": true
    },
    "kernelspec": {
      "name": "python3",
      "display_name": "Python 3"
    },
    "language_info": {
      "name": "python"
    }
  },
  "cells": [
    {
      "cell_type": "markdown",
      "metadata": {
        "id": "view-in-github",
        "colab_type": "text"
      },
      "source": [
        "<a href=\"https://colab.research.google.com/github/valeria-edulabs/ai-experts/blob/main/meeting13/Data_visualization.ipynb\" target=\"_parent\"><img src=\"https://colab.research.google.com/assets/colab-badge.svg\" alt=\"Open In Colab\"/></a>"
      ]
    },
    {
      "cell_type": "markdown",
      "source": [
        "# Data visualization"
      ],
      "metadata": {
        "id": "RYGcfkdKla4q"
      }
    },
    {
      "cell_type": "code",
      "source": [
        "import numpy as np\n",
        "import pandas as pd\n",
        "import matplotlib.pyplot as plt\n",
        "import seaborn as sns"
      ],
      "metadata": {
        "id": "BM6VEKTy1gEN"
      },
      "execution_count": null,
      "outputs": []
    },
    {
      "cell_type": "markdown",
      "source": [
        "## Plotting with matplotlib - fundamentals"
      ],
      "metadata": {
        "id": "Eig72UDHu01g"
      }
    },
    {
      "cell_type": "markdown",
      "source": [
        "### 1. Single plot"
      ],
      "metadata": {
        "id": "13GBtwXOVrpb"
      }
    },
    {
      "cell_type": "code",
      "source": [
        "# Sample data\n",
        "x = np.linspace(0, 10, 100)  # 100 evenly spaced numbers from 0 to 10\n",
        "y = np.sin(x)\n",
        "\n",
        "# Create the plot\n",
        "plt.plot(x, y, label=\"sin(x)\", color=\"g\", marker=\"_\")\n",
        "\n",
        "# Add labels and title\n",
        "plt.xlabel('x')\n",
        "plt.ylabel('y')\n",
        "plt.title('Sine Function')\n",
        "plt.legend()\n",
        "\n",
        "# Show the plot\n",
        "plt.show()"
      ],
      "metadata": {
        "id": "SNSfRbkNVtJG"
      },
      "execution_count": null,
      "outputs": []
    },
    {
      "cell_type": "code",
      "source": [
        "# saving figure as img\n",
        "plt.savefig(\"test.png\")"
      ],
      "metadata": {
        "id": "fx3pZrIRr_a6"
      },
      "execution_count": null,
      "outputs": []
    },
    {
      "cell_type": "markdown",
      "source": [
        "### Exercise:\n",
        "\n",
        "Plot the following function: y = 3x+6"
      ],
      "metadata": {
        "id": "7rLzCe4nQtOW"
      }
    },
    {
      "cell_type": "markdown",
      "source": [
        "### 2. Multiple Plots on Same Axes"
      ],
      "metadata": {
        "id": "JfYUixaFVybh"
      }
    },
    {
      "cell_type": "code",
      "source": [
        "# Sample data\n",
        "x = np.linspace(0, 10, 100)\n",
        "y1 = np.sin(x)\n",
        "y2 = np.cos(x)\n",
        "\n",
        "# Create the plot with multiple lines\n",
        "plt.plot(x, y1, label='sin(x)')\n",
        "plt.plot(x, y2, label='cos(x)')\n",
        "\n",
        "# Add labels and title\n",
        "plt.xlabel('x')\n",
        "plt.ylabel('y')\n",
        "plt.title('Sine and Cosine Functions')\n",
        "plt.legend()\n",
        "\n",
        "# Show the plot\n",
        "plt.show()"
      ],
      "metadata": {
        "id": "R5amHrWJV54l"
      },
      "execution_count": null,
      "outputs": []
    },
    {
      "cell_type": "markdown",
      "source": [
        "### 3. Subplots\n",
        "\n",
        "Here we have to work with axes / figure object"
      ],
      "metadata": {
        "id": "Z2tfueO0WCHE"
      }
    },
    {
      "cell_type": "code",
      "source": [
        "# Sample data\n",
        "x = np.linspace(0, 10, 100)\n",
        "y1 = np.sin(x)\n",
        "y2 = np.cos(x)\n",
        "\n",
        "# Create subplots\n",
        "fig, axs = plt.subplots(2, 1, figsize=(5,3))  # 2 rows, 1 column\n",
        "\n",
        "fig.suptitle(\"COS and SIN Figure\", fontsize=14, ha='center', va='center')\n",
        "\n",
        "# Plot on the first subplot\n",
        "axs[0].plot(x, y1)\n",
        "axs[0].set_title('Sine Function')\n",
        "\n",
        "# Plot on the second subplot\n",
        "axs[1].plot(x, y2, color='purple', linewidth=2.5, linestyle='-', marker='x', markersize=10)\n",
        "axs[1].set_title('Cosine Function')\n",
        "\n",
        "# Adjust spacing between subplots\n",
        "plt.tight_layout()\n",
        "\n",
        "# Show the plot\n",
        "plt.show()"
      ],
      "metadata": {
        "id": "7YP-m3jqWK2z"
      },
      "execution_count": null,
      "outputs": []
    },
    {
      "cell_type": "markdown",
      "source": [
        "### Styling\n",
        "```color='purple', linewidth=2.5, linestyle='-', marker='x', markersize=10, ...```"
      ],
      "metadata": {
        "id": "JilxhEb-W3zy"
      }
    },
    {
      "cell_type": "code",
      "metadata": {
        "id": "iPu3OKhI6NKI"
      },
      "source": [],
      "execution_count": null,
      "outputs": []
    },
    {
      "cell_type": "markdown",
      "source": [
        "### Plot types"
      ],
      "metadata": {
        "id": "liXXdl5EYBIE"
      }
    },
    {
      "cell_type": "markdown",
      "source": [
        "#### **1. Scatter Plot**"
      ],
      "metadata": {
        "id": "SOuNJBHBYXva"
      }
    },
    {
      "cell_type": "code",
      "source": [
        "# Sample data\n",
        "x = np.random.rand(100)\n",
        "y = np.random.rand(100)\n",
        "\n",
        "# Create the scatter plot\n",
        "plt.scatter(x, y, color='blue', marker='o')\n",
        "\n",
        "plt.xlabel('x')\n",
        "plt.ylabel('y')\n",
        "plt.title('Scatter Plot Example')\n",
        "plt.show()"
      ],
      "metadata": {
        "id": "TTerC902YPCG"
      },
      "execution_count": null,
      "outputs": []
    },
    {
      "cell_type": "markdown",
      "source": [
        "#### **2. Bar Plot**"
      ],
      "metadata": {
        "id": "Ei0uUVVyYPbo"
      }
    },
    {
      "cell_type": "code",
      "source": [
        "# Sample data\n",
        "categories = ['A', 'B', 'C', 'D']\n",
        "values = [15, 25, 30, 20]\n",
        "\n",
        "# Create the bar plot\n",
        "plt.bar(categories, values, color='skyblue')\n",
        "\n",
        "plt.xlabel('Category')\n",
        "plt.ylabel('Value')\n",
        "plt.title('Bar Plot Example')\n",
        "plt.show()"
      ],
      "metadata": {
        "id": "kP79Cb2wYfaQ"
      },
      "execution_count": null,
      "outputs": []
    },
    {
      "cell_type": "markdown",
      "source": [
        "#### **3. Histogram**"
      ],
      "metadata": {
        "id": "vr3rYbRPYfuE"
      }
    },
    {
      "cell_type": "code",
      "source": [
        "# Sample data\n",
        "data = np.random.randn(1000)  # Normally distributed data\n",
        "\n",
        "# Create the histogram\n",
        "plt.hist(data, bins=20, color='lightgreen', alpha=0.7)\n",
        "\n",
        "plt.xlabel('Value')\n",
        "plt.ylabel('Frequency')\n",
        "plt.title('Histogram Example')\n",
        "plt.show()"
      ],
      "metadata": {
        "id": "8BJXS_yAYnCS"
      },
      "execution_count": null,
      "outputs": []
    },
    {
      "cell_type": "markdown",
      "source": [
        "####**4. Pie Chart**"
      ],
      "metadata": {
        "id": "rAvjgr6EYng1"
      }
    },
    {
      "cell_type": "code",
      "source": [
        "# Sample data\n",
        "labels = ['Cats', 'Dogs', 'Birds', 'Fish']\n",
        "sizes = [15, 30, 45, 10]\n",
        "\n",
        "# Create the pie chart\n",
        "plt.pie(sizes, labels=labels, autopct='%1.1f%%', startangle=140)\n",
        "plt.axis('equal')  # Equal aspect ratio ensures that pie is drawn as a circle.\n",
        "\n",
        "plt.title('Pie Chart Example')\n",
        "plt.show()"
      ],
      "metadata": {
        "id": "RrxzJnexYsbr"
      },
      "execution_count": null,
      "outputs": []
    },
    {
      "cell_type": "markdown",
      "source": [
        "## Plotting with seaborn"
      ],
      "metadata": {
        "id": "ICV7EQgLu8gl"
      }
    },
    {
      "cell_type": "markdown",
      "source": [
        "### Line and scatter plots"
      ],
      "metadata": {
        "id": "JFyFqKnqiJEq"
      }
    },
    {
      "cell_type": "code",
      "source": [],
      "metadata": {
        "id": "lWqTrVRHa4N4"
      },
      "execution_count": null,
      "outputs": []
    },
    {
      "cell_type": "markdown",
      "source": [
        "### Histograms and density plots"
      ],
      "metadata": {
        "id": "EAEPyV0EjDPp"
      }
    },
    {
      "cell_type": "code",
      "source": [],
      "metadata": {
        "id": "EpLo9tJDICwX"
      },
      "execution_count": null,
      "outputs": []
    },
    {
      "cell_type": "code",
      "source": [],
      "metadata": {
        "id": "VK7539H6IztN"
      },
      "execution_count": null,
      "outputs": []
    },
    {
      "cell_type": "markdown",
      "source": [
        "### Boxplot"
      ],
      "metadata": {
        "id": "65T59nJFY9an"
      }
    },
    {
      "cell_type": "code",
      "source": [],
      "metadata": {
        "id": "liWXe0IUY-7W"
      },
      "execution_count": null,
      "outputs": []
    },
    {
      "cell_type": "markdown",
      "source": [
        "### Heatmaps"
      ],
      "metadata": {
        "id": "4nOwM67AfgKN"
      }
    },
    {
      "cell_type": "code",
      "source": [
        "# https://seaborn.pydata.org/generated/seaborn.heatmap.html\n",
        "# https://matplotlib.org/stable/users/explain/colors/colormaps.html#sequential\n"
      ],
      "metadata": {
        "id": "Ivd93GqzbFjb"
      },
      "execution_count": null,
      "outputs": []
    },
    {
      "cell_type": "markdown",
      "source": [
        "## Plotting with Pandas"
      ],
      "metadata": {
        "id": "ayzYUKVR0dWR"
      }
    },
    {
      "cell_type": "code",
      "source": [
        "df = sns.load_dataset('diamonds')"
      ],
      "metadata": {
        "id": "sugRPm3-e9ka"
      },
      "execution_count": null,
      "outputs": []
    },
    {
      "cell_type": "code",
      "source": [
        "df"
      ],
      "metadata": {
        "id": "SxwMBYWGIwmx"
      },
      "execution_count": null,
      "outputs": []
    },
    {
      "cell_type": "code",
      "source": [
        "df['price'].plot(kind='hist', bins=100)"
      ],
      "metadata": {
        "id": "yH7GY9TqIyL-"
      },
      "execution_count": null,
      "outputs": []
    },
    {
      "cell_type": "code",
      "source": [
        "df.plot(x='carat', y='price', kind='scatter')"
      ],
      "metadata": {
        "id": "_ZtJrsEKJFfq"
      },
      "execution_count": null,
      "outputs": []
    },
    {
      "cell_type": "markdown",
      "source": [
        "## Using `hue`"
      ],
      "metadata": {
        "id": "hzzert0aKBuc"
      }
    },
    {
      "cell_type": "code",
      "source": [],
      "metadata": {
        "id": "ghlKW0-CKEHO"
      },
      "execution_count": null,
      "outputs": []
    },
    {
      "cell_type": "markdown",
      "source": [
        "## More details on plt, figure, axes"
      ],
      "metadata": {
        "id": "cQxt2mtPHyS2"
      }
    },
    {
      "cell_type": "markdown",
      "source": [
        "In **Matplotlib**, `plt`, `Figure`, and `Axes` are key components of the plotting framework. Understanding their roles helps you create complex visualizations.  \n",
        "\n",
        "---\n",
        "\n",
        "**1️⃣ `plt` (Pyplot)**\n",
        "- `plt` is **Matplotlib's Pyplot module**:  \n",
        "  - A high-level **wrapper** that makes plotting simpler.\n",
        "  - You can use `plt.plot()` and other functions without manually handling Figures and Axes.  \n",
        "  - But for complex plots, managing Figures and Axes directly is better.\n",
        "\n",
        "\n",
        "---\n",
        "\n",
        "**2️⃣ Figure (`fig`)**\n",
        "- **The overall container** for the entire figure.\n",
        "- It holds **one or more Axes (subplots)**.\n",
        "- You create it explicitly with `plt.figure()` or implicitly using `plt.subplots()`.\n",
        "\n",
        "\n",
        "---\n",
        "\n",
        "**3️⃣ Axes (`ax`)**\n",
        "- **The actual plotting area where data is drawn**.\n",
        "- A Figure can contain **multiple Axes** (subplots).\n",
        "- Created using `fig.add_subplot()` or `plt.subplots()`.\n",
        "\n",
        "\n",
        "---\n",
        "\n",
        "**How They Work Together?**\n",
        "\n",
        "✅ **Figure = The whole canvas**  \n",
        "✅ **Axes = The specific plot areas inside the Figure**  \n",
        "✅ **Multiple Axes allow for multiple subplots**  \n",
        "\n"
      ],
      "metadata": {
        "id": "YiGigKXiH1zX"
      }
    },
    {
      "cell_type": "code",
      "source": [],
      "metadata": {
        "id": "S_KmVZ9UH1Mg"
      },
      "execution_count": null,
      "outputs": []
    }
  ]
}
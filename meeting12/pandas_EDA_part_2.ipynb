{
  "nbformat": 4,
  "nbformat_minor": 0,
  "metadata": {
    "colab": {
      "provenance": [],
      "collapsed_sections": [
        "_Yi4ZNJPvQ9N"
      ],
      "toc_visible": true,
      "include_colab_link": true
    },
    "kernelspec": {
      "name": "python3",
      "display_name": "Python 3"
    },
    "language_info": {
      "name": "python"
    }
  },
  "cells": [
    {
      "cell_type": "markdown",
      "metadata": {
        "id": "view-in-github",
        "colab_type": "text"
      },
      "source": [
        "<a href=\"https://colab.research.google.com/github/valeria-edulabs/ai-experts/blob/main/meeting12/pandas_EDA_part_2.ipynb\" target=\"_parent\"><img src=\"https://colab.research.google.com/assets/colab-badge.svg\" alt=\"Open In Colab\"/></a>"
      ]
    },
    {
      "cell_type": "markdown",
      "source": [
        "## Imports"
      ],
      "metadata": {
        "id": "t-8_qM0B29iI"
      }
    },
    {
      "cell_type": "code",
      "execution_count": null,
      "metadata": {
        "id": "5MPi8gfG_WYc"
      },
      "outputs": [],
      "source": [
        "import pandas as pd\n",
        "import numpy as np\n",
        "import matplotlib.pyplot as plt\n",
        "import seaborn as sns"
      ]
    },
    {
      "cell_type": "code",
      "source": [
        "import seaborn as sns\n",
        "\n",
        "sns.set(rc={'figure.figsize':(11.7,8.27)})"
      ],
      "metadata": {
        "id": "qX9r8HQUPobv"
      },
      "execution_count": null,
      "outputs": []
    },
    {
      "cell_type": "code",
      "source": [
        "from matplotlib import rcParams\n",
        "\n",
        "# figure size in inches\n",
        "rcParams['figure.figsize'] = 11.7,8.27"
      ],
      "metadata": {
        "id": "Mdvm61tCPo85"
      },
      "execution_count": null,
      "outputs": []
    },
    {
      "cell_type": "markdown",
      "metadata": {
        "id": "pnk9gccloBvE"
      },
      "source": [
        "## Loading data + Basic Pandas types\n",
        "120 years of Olympic history: athletes and results\n",
        "basic bio data on athletes and medal results from Athens 1896 to Rio 2016\n",
        "https://www.kaggle.com/heesoo37/120-years-of-olympic-history-athletes-and-results"
      ]
    },
    {
      "cell_type": "code",
      "metadata": {
        "id": "Ufx-7YWLoS1f"
      },
      "source": [
        "df = pd.read_csv('https://storage.googleapis.com/edulabs-public-datasets/athlete_events.zip')"
      ],
      "execution_count": null,
      "outputs": []
    },
    {
      "cell_type": "markdown",
      "source": [
        "## Other options to create series / dataframe"
      ],
      "metadata": {
        "id": "po0M5vDarBg8"
      }
    },
    {
      "cell_type": "code",
      "source": [
        "data = {\n",
        "    'name': ['Sivan', 'Moshe', 'Dina'],\n",
        "    'math': [76, 98, 99],\n",
        "    'english': [89, 79, 100]\n",
        "}"
      ],
      "metadata": {
        "id": "ErACyrzsorJ5"
      },
      "execution_count": null,
      "outputs": []
    },
    {
      "cell_type": "code",
      "source": [
        "test_df = pd.DataFrame(data)"
      ],
      "metadata": {
        "id": "mzp1MZCboi77"
      },
      "execution_count": null,
      "outputs": []
    },
    {
      "cell_type": "code",
      "source": [
        "test_df"
      ],
      "metadata": {
        "id": "uohz2-zREXW6"
      },
      "execution_count": null,
      "outputs": []
    },
    {
      "cell_type": "code",
      "source": [
        "series = pd.Series([1, 13, 14, 23], dtype=int, name='grades')"
      ],
      "metadata": {
        "id": "fss93GFdnCsd"
      },
      "execution_count": null,
      "outputs": []
    },
    {
      "cell_type": "code",
      "source": [
        "test_df['new_grades'] = series"
      ],
      "metadata": {
        "id": "X7uYQO7vEUCV"
      },
      "execution_count": null,
      "outputs": []
    },
    {
      "cell_type": "markdown",
      "source": [
        "## Working with data types"
      ],
      "metadata": {
        "id": "EHI_nwrt3VtL"
      }
    },
    {
      "cell_type": "code",
      "source": [
        "df.info()"
      ],
      "metadata": {
        "id": "ODGFPu773jVO"
      },
      "execution_count": null,
      "outputs": []
    },
    {
      "cell_type": "markdown",
      "source": [
        "### Numerical datatypes"
      ],
      "metadata": {
        "id": "adTDAkb23yPG"
      }
    },
    {
      "cell_type": "code",
      "source": [
        "df['Age'].astype(np.int8)"
      ],
      "metadata": {
        "id": "U9-TWirw3vta"
      },
      "execution_count": null,
      "outputs": []
    },
    {
      "cell_type": "code",
      "source": [
        "df[['Age']].info()"
      ],
      "metadata": {
        "id": "s6BXsmOm5Rq-"
      },
      "execution_count": null,
      "outputs": []
    },
    {
      "cell_type": "code",
      "source": [],
      "metadata": {
        "id": "hT6ADPHG5c0f"
      },
      "execution_count": null,
      "outputs": []
    },
    {
      "cell_type": "markdown",
      "source": [
        "### Pandas Nullable integer type"
      ],
      "metadata": {
        "id": "yc6qvPWI5dOi"
      }
    },
    {
      "cell_type": "code",
      "source": [
        "df[['Age']].astype('Int8').info()"
      ],
      "metadata": {
        "id": "G_8hQa-45Oqk"
      },
      "execution_count": null,
      "outputs": []
    },
    {
      "cell_type": "markdown",
      "source": [
        "### Load data with predefined datatypes"
      ],
      "metadata": {
        "id": "yvZ-0EpK4H28"
      }
    },
    {
      "cell_type": "code",
      "source": [
        "dtypes = {}"
      ],
      "metadata": {
        "id": "XgtWQRHH5gDq"
      },
      "execution_count": null,
      "outputs": []
    },
    {
      "cell_type": "markdown",
      "source": [
        "## Categories"
      ],
      "metadata": {
        "id": "zI7gsY9L5pX7"
      }
    },
    {
      "cell_type": "code",
      "source": [
        "df['Games'].unique()"
      ],
      "metadata": {
        "id": "lz3Yvogs5rEv"
      },
      "execution_count": null,
      "outputs": []
    },
    {
      "cell_type": "code",
      "source": [
        "df['Season'].unique()"
      ],
      "metadata": {
        "id": "QXhIrlFK5yyN"
      },
      "execution_count": null,
      "outputs": []
    },
    {
      "cell_type": "code",
      "source": [
        "df['Season'].astype('category')"
      ],
      "metadata": {
        "id": "m8Kpo3WY52SG"
      },
      "execution_count": null,
      "outputs": []
    },
    {
      "cell_type": "markdown",
      "source": [
        "## Rename Columns and Indices"
      ],
      "metadata": {
        "id": "mbjDOvLir0GA"
      }
    },
    {
      "cell_type": "code",
      "source": [
        "# df.rename(columns={'City':'city'})\n",
        "# df.rename({0: '000'})"
      ],
      "metadata": {
        "id": "TWRreLU9r27M"
      },
      "execution_count": null,
      "outputs": []
    },
    {
      "cell_type": "code",
      "source": [
        "df.columns"
      ],
      "metadata": {
        "id": "RyNIN-5wdywq"
      },
      "execution_count": null,
      "outputs": []
    },
    {
      "cell_type": "code",
      "source": [
        "{col: col.lower() for col in df.columns}"
      ],
      "metadata": {
        "id": "24lGjfODeOam"
      },
      "execution_count": null,
      "outputs": []
    },
    {
      "cell_type": "code",
      "source": [
        "df.rename(columns={col: col.lower() for col in df.columns})"
      ],
      "metadata": {
        "id": "bP_fRI79d4Kf"
      },
      "execution_count": null,
      "outputs": []
    },
    {
      "cell_type": "code",
      "source": [
        "df.rename({0: '000', 1:'111'})"
      ],
      "metadata": {
        "id": "kydQBKCtefUb"
      },
      "execution_count": null,
      "outputs": []
    },
    {
      "cell_type": "markdown",
      "source": [
        "## Aggregations\n",
        "\n",
        "count\n",
        "\n",
        "sum\n",
        "\n",
        "unique\n",
        "\n",
        "nunique\n",
        "\n",
        "value_counts(normalize)"
      ],
      "metadata": {
        "id": "W72ZiICmsCYx"
      }
    },
    {
      "cell_type": "code",
      "source": [
        "df['Age'].mean()"
      ],
      "metadata": {
        "id": "iJZ1kUulXFqh"
      },
      "execution_count": null,
      "outputs": []
    },
    {
      "cell_type": "code",
      "source": [
        "df[['Height', 'Weight']].agg(['min', 'max']).transpose()"
      ],
      "metadata": {
        "id": "c6_389PZyEZG"
      },
      "execution_count": null,
      "outputs": []
    },
    {
      "cell_type": "code",
      "source": [
        "df[['Height', 'Weight']].mean()"
      ],
      "metadata": {
        "id": "_LrVp77sXpZx"
      },
      "execution_count": null,
      "outputs": []
    },
    {
      "cell_type": "code",
      "source": [
        "df[(df['Age'] < 16) & (df['NOC'] == 'USA')].count()"
      ],
      "metadata": {
        "id": "dbg6KgM3NQvR"
      },
      "execution_count": null,
      "outputs": []
    },
    {
      "cell_type": "code",
      "source": [
        "df[(df['Age'] < 16) & (df['NOC'] == 'USA')]['ID'].count()"
      ],
      "metadata": {
        "id": "gbZmW2HdOOBg"
      },
      "execution_count": null,
      "outputs": []
    },
    {
      "cell_type": "code",
      "source": [
        "athlets_ids = df[(df['Age'] < 16) & (df['NOC'] == 'USA')]['ID'].unique()"
      ],
      "metadata": {
        "id": "52LEu8dFYTLe"
      },
      "execution_count": null,
      "outputs": []
    },
    {
      "cell_type": "code",
      "source": [
        "athlets_ids"
      ],
      "metadata": {
        "id": "F8phdDPldWwg"
      },
      "execution_count": null,
      "outputs": []
    },
    {
      "cell_type": "code",
      "source": [
        "len(athlets_ids)"
      ],
      "metadata": {
        "id": "bSwP7klede7v"
      },
      "execution_count": null,
      "outputs": []
    },
    {
      "cell_type": "code",
      "source": [
        "athlets_ids.describe()"
      ],
      "metadata": {
        "id": "7M3KWm9wdpAt"
      },
      "execution_count": null,
      "outputs": []
    },
    {
      "cell_type": "code",
      "source": [
        "pd.Series(athlets_ids).describe()"
      ],
      "metadata": {
        "id": "wyqVW3AqYpgA"
      },
      "execution_count": null,
      "outputs": []
    },
    {
      "cell_type": "code",
      "source": [
        "df[(df['Age'] < 16) & (df['NOC'] == 'USA')]['ID'].nunique()"
      ],
      "metadata": {
        "id": "D7-qHFcPYdbj"
      },
      "execution_count": null,
      "outputs": []
    },
    {
      "cell_type": "code",
      "source": [
        "df[(df['Age'] < 16) & (df['NOC'] == 'USA')]['City'].unique()"
      ],
      "metadata": {
        "id": "m3lHVP8iOWh5"
      },
      "execution_count": null,
      "outputs": []
    },
    {
      "cell_type": "code",
      "source": [
        "df[df['City'] == 'Lake Placid']"
      ],
      "metadata": {
        "id": "koK8zHg-eE04"
      },
      "execution_count": null,
      "outputs": []
    },
    {
      "cell_type": "code",
      "source": [
        "df[(df['Age'] < 16) & (df['NOC'] == 'USA')]['City'].nunique()"
      ],
      "metadata": {
        "id": "H6VGA2-EOk88"
      },
      "execution_count": null,
      "outputs": []
    },
    {
      "cell_type": "code",
      "source": [
        "df[(df['Age'] < 16) & (df['NOC'] == 'USA')].nunique()"
      ],
      "metadata": {
        "id": "NxoM5xYSOqeB"
      },
      "execution_count": null,
      "outputs": []
    },
    {
      "cell_type": "code",
      "source": [
        "df.City.value_counts()"
      ],
      "metadata": {
        "id": "YWbgZtQAZwXg"
      },
      "execution_count": null,
      "outputs": []
    },
    {
      "cell_type": "code",
      "source": [
        "df.City.value_counts(normalize=True)"
      ],
      "metadata": {
        "id": "KkbqEan0euF-"
      },
      "execution_count": null,
      "outputs": []
    },
    {
      "cell_type": "code",
      "source": [
        "df['ID'].value_counts()"
      ],
      "metadata": {
        "id": "NGUkjduGexjb"
      },
      "execution_count": null,
      "outputs": []
    },
    {
      "cell_type": "code",
      "source": [
        "df['ID'].value_counts(normalize=True)"
      ],
      "metadata": {
        "id": "UeftywuDfSi5"
      },
      "execution_count": null,
      "outputs": []
    },
    {
      "cell_type": "code",
      "source": [
        "df['City'].value_counts(normalize=True)"
      ],
      "metadata": {
        "id": "kkUFtOGBfZuH"
      },
      "execution_count": null,
      "outputs": []
    },
    {
      "cell_type": "code",
      "source": [
        "df['Sex'].value_counts(normalize=True)"
      ],
      "metadata": {
        "id": "BzFBtSO-fgU6"
      },
      "execution_count": null,
      "outputs": []
    },
    {
      "cell_type": "code",
      "source": [
        "df[df['ID'] == 106296]"
      ],
      "metadata": {
        "id": "F23fnVcdfA4G"
      },
      "execution_count": null,
      "outputs": []
    },
    {
      "cell_type": "markdown",
      "metadata": {
        "id": "D5gvEEU0Pqsa"
      },
      "source": [
        "## query() method"
      ]
    },
    {
      "cell_type": "code",
      "metadata": {
        "id": "GCy-O170PuHx"
      },
      "source": [
        "# df[(df['Age'] > 30) & (df['Weight']<80)]\n",
        "#df.query('Age > 30 and Weight < 80')\n",
        "\n",
        "# col name with space - use backticks\n",
        "df1 = df.rename(columns={'Weight': 'Athlete weight'})\n",
        "df1\n",
        "df1.query('`Athlete weight` > 90')\n",
        "\n",
        "# variables - use @\n",
        "weight = 90\n",
        "df1.query('`Athlete weight` > @weight')"
      ],
      "execution_count": null,
      "outputs": []
    },
    {
      "cell_type": "markdown",
      "metadata": {
        "id": "cCV-FqZPd262"
      },
      "source": [
        "## apply()"
      ]
    },
    {
      "cell_type": "code",
      "metadata": {
        "id": "rxWuizmnd5tm"
      },
      "source": [
        "df1 = df[:10][['Name', 'Event', 'Medal']]"
      ],
      "execution_count": null,
      "outputs": []
    },
    {
      "cell_type": "code",
      "source": [
        "df1"
      ],
      "metadata": {
        "id": "jdIHMMaoKT8Y"
      },
      "execution_count": null,
      "outputs": []
    },
    {
      "cell_type": "code",
      "source": [
        "df['Age'].apply(lambda x: 'child' if x<=16 else 'old')"
      ],
      "metadata": {
        "id": "rLkptfCw64OA"
      },
      "execution_count": null,
      "outputs": []
    },
    {
      "cell_type": "code",
      "source": [
        "df1.apply(lambda col: col.str.lower()) #default axis = 0, a.k.a working on columns"
      ],
      "metadata": {
        "id": "vea_jA6-mIzE"
      },
      "execution_count": null,
      "outputs": []
    },
    {
      "cell_type": "code",
      "source": [
        "df1.apply(lambda col: col.name + \": \" + col.str.lower()) #default axis = 0, a.k.a working on columns"
      ],
      "metadata": {
        "id": "QMR-GmJvmVHN"
      },
      "execution_count": null,
      "outputs": []
    },
    {
      "cell_type": "code",
      "source": [
        "name = \"Valeria\"\n",
        "medal = \"Gold\"\n",
        "name + \" won a \" +medal +\" medal\""
      ],
      "metadata": {
        "id": "xGkCV4UbiqGg"
      },
      "execution_count": null,
      "outputs": []
    },
    {
      "cell_type": "code",
      "source": [
        "f\"{name} won a {medal} medal {medal =='Gold'}\""
      ],
      "metadata": {
        "id": "e88TrLYPi9Zk"
      },
      "execution_count": null,
      "outputs": []
    },
    {
      "cell_type": "code",
      "source": [
        "df1['new_col'] = df1.apply(\n",
        "    lambda row: f\"Athlete {row['Name']} won {row['Medal']}\" if row['Medal'] != 'No medal' else f\"Athlete {row['Name']} didn't win any medal\",\n",
        "    axis=1) # working on rows"
      ],
      "metadata": {
        "id": "fto_16q5mHmp"
      },
      "execution_count": null,
      "outputs": []
    },
    {
      "cell_type": "code",
      "source": [
        "df1"
      ],
      "metadata": {
        "id": "Y41Nqfc1KpIR"
      },
      "execution_count": null,
      "outputs": []
    },
    {
      "cell_type": "code",
      "source": [
        "def cut_by_age(age):\n",
        "  if age <=16:\n",
        "    return 'child'\n",
        "  elif age <= 25:\n",
        "    return 'adult'\n",
        "  else:\n",
        "    return 'old'"
      ],
      "metadata": {
        "id": "lKwdo8Gn1VPt"
      },
      "execution_count": null,
      "outputs": []
    },
    {
      "cell_type": "code",
      "source": [
        "df[['Age']].applymap(cut_by_age)"
      ],
      "metadata": {
        "id": "rd4cqdvU1kl1"
      },
      "execution_count": null,
      "outputs": []
    },
    {
      "cell_type": "code",
      "source": [
        "df[['Age']].applymap(lambda age: 'child' if age <=16 else 'old')"
      ],
      "metadata": {
        "id": "TBOzPCcvxqWl"
      },
      "execution_count": null,
      "outputs": []
    },
    {
      "cell_type": "code",
      "source": [
        "df1.loc[0]['Medal']"
      ],
      "metadata": {
        "id": "2R5KNfBynQWh"
      },
      "execution_count": null,
      "outputs": []
    },
    {
      "cell_type": "code",
      "metadata": {
        "id": "Nwupx0jqs6hH"
      },
      "source": [
        "# df = athlete_events[:10]\n",
        "# df\n",
        "# df.apply(lambda row: row.str.lower()) # will raise an error\n",
        "# fix here\n",
        "df.apply(lambda col: col.str.lower() if col.dtype == 'O' else col)"
      ],
      "execution_count": null,
      "outputs": []
    },
    {
      "cell_type": "markdown",
      "source": [
        "## Cut"
      ],
      "metadata": {
        "id": "688dy7nc0TzN"
      }
    },
    {
      "cell_type": "code",
      "source": [
        "pd.cut(df['Age'], bins=3)"
      ],
      "metadata": {
        "id": "AueJZrBD0Skv"
      },
      "execution_count": null,
      "outputs": []
    },
    {
      "cell_type": "code",
      "source": [
        "pd.cut(df['Age'], bins=[0, 16, 25, 50, 97])"
      ],
      "metadata": {
        "id": "Lz0W7caI099s"
      },
      "execution_count": null,
      "outputs": []
    },
    {
      "cell_type": "markdown",
      "source": [
        "## Sort"
      ],
      "metadata": {
        "id": "YDumo4nVvnzd"
      }
    },
    {
      "cell_type": "code",
      "source": [
        "# sort_values vs sort_index\n",
        "# df.sort_values(ascending=False)\n",
        "# df.sort_values(['City', 'Sport'])"
      ],
      "metadata": {
        "id": "01ozJNZEvpvV"
      },
      "execution_count": null,
      "outputs": []
    },
    {
      "cell_type": "code",
      "source": [
        "df.sort_values(['Age', 'Sex'])"
      ],
      "metadata": {
        "id": "JFQGfD3112O4"
      },
      "execution_count": null,
      "outputs": []
    },
    {
      "cell_type": "code",
      "source": [
        "df.sort_values('Age', ascending=False)"
      ],
      "metadata": {
        "id": "ARfN2AcA2CNd"
      },
      "execution_count": null,
      "outputs": []
    },
    {
      "cell_type": "code",
      "source": [
        "df.dropna(subset=['Height']).sort_values(['Age', 'Height'], ascending=False)"
      ],
      "metadata": {
        "id": "2Tk8knDP2Hme"
      },
      "execution_count": null,
      "outputs": []
    },
    {
      "cell_type": "code",
      "source": [
        "df.set_index('Name').sort_index()"
      ],
      "metadata": {
        "id": "hj75-MZ82XJw"
      },
      "execution_count": null,
      "outputs": []
    },
    {
      "cell_type": "markdown",
      "source": [
        "## Handling nans"
      ],
      "metadata": {
        "id": "Mg08ZenltHPC"
      }
    },
    {
      "cell_type": "code",
      "source": [
        "df.info()"
      ],
      "metadata": {
        "id": "x-So8i1gTEpn"
      },
      "execution_count": null,
      "outputs": []
    },
    {
      "cell_type": "code",
      "source": [
        "df['Age'].isna()"
      ],
      "metadata": {
        "id": "Cz8Uxb3B1ipf"
      },
      "execution_count": null,
      "outputs": []
    },
    {
      "cell_type": "code",
      "source": [
        "df['Age'].isna().any()"
      ],
      "metadata": {
        "id": "lU3UEk_Dbwbo"
      },
      "execution_count": null,
      "outputs": []
    },
    {
      "cell_type": "code",
      "source": [
        "df['Age'].isna().all()"
      ],
      "metadata": {
        "id": "9I1cL3TIj9A4"
      },
      "execution_count": null,
      "outputs": []
    },
    {
      "cell_type": "code",
      "source": [
        "grades = [100, 45, 34, 79]"
      ],
      "metadata": {
        "id": "bLYML8s3kGHz"
      },
      "execution_count": null,
      "outputs": []
    },
    {
      "cell_type": "code",
      "source": [
        "all([g<55 for g in grades])"
      ],
      "metadata": {
        "id": "GxTTKtj9klfZ"
      },
      "execution_count": null,
      "outputs": []
    },
    {
      "cell_type": "code",
      "source": [
        "map(lambda g: g<55, grades)"
      ],
      "metadata": {
        "id": "XcgcZcQulU5m"
      },
      "execution_count": null,
      "outputs": []
    },
    {
      "cell_type": "code",
      "source": [
        "all(map(lambda g: g<55, grades))"
      ],
      "metadata": {
        "id": "1PTsMtYCk9hn"
      },
      "execution_count": null,
      "outputs": []
    },
    {
      "cell_type": "code",
      "source": [
        "df['Age'].isna()"
      ],
      "metadata": {
        "id": "zn2E3a4smjIP"
      },
      "execution_count": null,
      "outputs": []
    },
    {
      "cell_type": "code",
      "source": [
        "df['Age'].isna().sum()"
      ],
      "metadata": {
        "id": "6TWLzE6b13Wt"
      },
      "execution_count": null,
      "outputs": []
    },
    {
      "cell_type": "code",
      "source": [
        "df.isna()"
      ],
      "metadata": {
        "id": "6_dJBKcuTw7Y"
      },
      "execution_count": null,
      "outputs": []
    },
    {
      "cell_type": "code",
      "source": [
        "len(df.dropna(subset=['Weight', 'Height', 'Age']))"
      ],
      "metadata": {
        "id": "bk10tC9Ym04n"
      },
      "execution_count": null,
      "outputs": []
    },
    {
      "cell_type": "code",
      "source": [
        "df.fillna({'Medal': 'No medal', 'Weight': df['Weight'].mean()})"
      ],
      "metadata": {
        "id": "gAu_KnY0UGkF"
      },
      "execution_count": null,
      "outputs": []
    },
    {
      "cell_type": "code",
      "source": [
        "df"
      ],
      "metadata": {
        "id": "KjPga5AxcAsK"
      },
      "execution_count": null,
      "outputs": []
    },
    {
      "cell_type": "markdown",
      "source": [
        "### Aggregation calculations don't take nans in account"
      ],
      "metadata": {
        "id": "iZfZX1th7Q4Y"
      }
    },
    {
      "cell_type": "code",
      "source": [
        "df['Height'].mean()"
      ],
      "metadata": {
        "id": "BbiQVtfNUyNX"
      },
      "execution_count": null,
      "outputs": []
    },
    {
      "cell_type": "markdown",
      "source": [
        "### Filling Nans"
      ],
      "metadata": {
        "id": "uUHEtEfm7Yj5"
      }
    },
    {
      "cell_type": "code",
      "source": [
        "df.fillna({'Height': df['Height'].mean(), 'Weight': df['Weight'].mean()}, inplace=True)"
      ],
      "metadata": {
        "id": "oGUFMfWeUtSh"
      },
      "execution_count": null,
      "outputs": []
    },
    {
      "cell_type": "code",
      "source": [
        "df['Height'] = df['Height'].fillna(df['Height'].mean())"
      ],
      "metadata": {
        "id": "MhQX_lJJVAfl"
      },
      "execution_count": null,
      "outputs": []
    },
    {
      "cell_type": "markdown",
      "source": [
        "### Dropping Nans"
      ],
      "metadata": {
        "id": "s1aWE_aJ7hjY"
      }
    },
    {
      "cell_type": "code",
      "source": [
        "len(df)"
      ],
      "metadata": {
        "id": "VbC9LVeXVxfF"
      },
      "execution_count": null,
      "outputs": []
    },
    {
      "cell_type": "code",
      "source": [
        "df.isna()"
      ],
      "metadata": {
        "id": "MLal_D-t6gzi"
      },
      "execution_count": null,
      "outputs": []
    },
    {
      "cell_type": "code",
      "source": [
        "len(df.dropna())"
      ],
      "metadata": {
        "id": "Nl-mNy2RVoxX"
      },
      "execution_count": null,
      "outputs": []
    },
    {
      "cell_type": "code",
      "source": [
        "len(df.dropna(subset=['Age']))"
      ],
      "metadata": {
        "id": "me1zuh_y3rA4"
      },
      "execution_count": null,
      "outputs": []
    },
    {
      "cell_type": "code",
      "source": [
        "df.isna().any()"
      ],
      "metadata": {
        "id": "RgUiKi_cWOF3"
      },
      "execution_count": null,
      "outputs": []
    },
    {
      "cell_type": "code",
      "source": [
        "df.isna().sum()"
      ],
      "metadata": {
        "id": "YUMgQNo9YrpY"
      },
      "execution_count": null,
      "outputs": []
    },
    {
      "cell_type": "markdown",
      "source": [
        "Example: dropping Nans only in columns with more than 50000 nans"
      ],
      "metadata": {
        "id": "9kMUjK5j73In"
      }
    },
    {
      "cell_type": "code",
      "source": [
        "df1.isna().sum()"
      ],
      "metadata": {
        "id": "KmVrQTBac3BZ"
      },
      "execution_count": null,
      "outputs": []
    },
    {
      "cell_type": "code",
      "source": [
        "df1.isna().sum()[df1.isna().sum() > 50000].index"
      ],
      "metadata": {
        "id": "-OIQosTNdJJy"
      },
      "execution_count": null,
      "outputs": []
    },
    {
      "cell_type": "code",
      "source": [
        "df['Name'].unique()"
      ],
      "metadata": {
        "id": "oG48mtQfdVQd"
      },
      "execution_count": null,
      "outputs": []
    },
    {
      "cell_type": "code",
      "source": [
        "cols_with_nans = df1.isna().sum()[df1.isna().sum() > 50000].index"
      ],
      "metadata": {
        "id": "KdNo9l6iXwBc"
      },
      "execution_count": null,
      "outputs": []
    },
    {
      "cell_type": "code",
      "source": [
        "df1.dropna(subset=cols_with_nans)"
      ],
      "metadata": {
        "id": "WNJnv1pfXMAM"
      },
      "execution_count": null,
      "outputs": []
    },
    {
      "cell_type": "markdown",
      "source": [
        "## Handling duplicates"
      ],
      "metadata": {
        "id": "yqOrRViwt06B"
      }
    },
    {
      "cell_type": "code",
      "source": [
        "df.duplicated()"
      ],
      "metadata": {
        "id": "O-dcEM2LZqUF"
      },
      "execution_count": null,
      "outputs": []
    },
    {
      "cell_type": "code",
      "source": [
        "df[df.duplicated(keep=False)]"
      ],
      "metadata": {
        "id": "AxLyGjwtaG32"
      },
      "execution_count": null,
      "outputs": []
    },
    {
      "cell_type": "code",
      "source": [
        "df.drop_duplicates()"
      ],
      "metadata": {
        "id": "y7-IuChKbz7k"
      },
      "execution_count": null,
      "outputs": []
    },
    {
      "cell_type": "code",
      "source": [],
      "metadata": {
        "id": "CfKoCAYpuuOj"
      },
      "execution_count": null,
      "outputs": []
    },
    {
      "cell_type": "code",
      "source": [
        "mask = df.duplicated(subset=['Year', 'Season', 'Event'], keep=False)"
      ],
      "metadata": {
        "id": "9pJCr9TrcO3E"
      },
      "execution_count": null,
      "outputs": []
    },
    {
      "cell_type": "code",
      "source": [
        "df[mask]"
      ],
      "metadata": {
        "id": "WideWzEdfN8D"
      },
      "execution_count": null,
      "outputs": []
    },
    {
      "cell_type": "code",
      "source": [
        "df[df.duplicated(subset=['ID', 'Year', 'Season', 'Event'], keep=False)]"
      ],
      "metadata": {
        "id": "XoUo-fnGcxQL"
      },
      "execution_count": null,
      "outputs": []
    },
    {
      "cell_type": "code",
      "source": [
        "# df.duplicated()\n",
        "# df[df.duplicated()]\n",
        "# df.duplicated().sum()\n",
        "# print(f\"before drop: {len(athlete_events)}\")\n",
        "# df_new = df.drop_duplicates()\n",
        "# df.duplicated(subset=['ID']).any()\n",
        "# df.duplicated(subset=['ID']).sum()\n",
        "# df[df.duplicated(subset=['ID', 'Sport'])]\n",
        "# df[df.duplicated(subset=['Name', 'ID', 'Event', 'Year'])]\n"
      ],
      "metadata": {
        "id": "e_8_4LQvt2k4"
      },
      "execution_count": null,
      "outputs": []
    },
    {
      "cell_type": "markdown",
      "source": [
        "## Group by"
      ],
      "metadata": {
        "id": "gM01YvsxjvNs"
      }
    },
    {
      "cell_type": "code",
      "source": [
        "# group by single column\n",
        "grouped =df[['ID', 'Medal']].groupby('Medal')\n",
        "print(f\"Type: {type(grouped)}\\nObj: {grouped}\")"
      ],
      "metadata": {
        "id": "8WDbtawy4yrD"
      },
      "execution_count": null,
      "outputs": []
    },
    {
      "cell_type": "code",
      "source": [
        "grouped.count()"
      ],
      "metadata": {
        "id": "mxxOoe1I5O0b"
      },
      "execution_count": null,
      "outputs": []
    },
    {
      "cell_type": "code",
      "source": [
        "df[['ID', 'Medal']].groupby('Medal').count()"
      ],
      "metadata": {
        "id": "IasGPb8D5zkb"
      },
      "execution_count": null,
      "outputs": []
    },
    {
      "cell_type": "code",
      "source": [
        "df.groupby('Medal').count()"
      ],
      "metadata": {
        "id": "bLZcu27a4UIe"
      },
      "execution_count": null,
      "outputs": []
    },
    {
      "cell_type": "code",
      "source": [
        "a = df[['Sex','Height', 'Weight', 'Age']].groupby('Sex').mean()"
      ],
      "metadata": {
        "id": "FtQvWzs3539Q"
      },
      "execution_count": null,
      "outputs": []
    },
    {
      "cell_type": "code",
      "source": [
        "a"
      ],
      "metadata": {
        "id": "WZOo_3sM5LrQ"
      },
      "execution_count": null,
      "outputs": []
    },
    {
      "cell_type": "code",
      "source": [
        "a.loc['F', 'Weight']"
      ],
      "metadata": {
        "id": "YkvVQubT5GH-"
      },
      "execution_count": null,
      "outputs": []
    },
    {
      "cell_type": "code",
      "source": [
        "df[['Sex', 'Height', 'Weight', 'Age']].groupby('Sex').min()"
      ],
      "metadata": {
        "id": "Qd8Il1qT6URo"
      },
      "execution_count": null,
      "outputs": []
    },
    {
      "cell_type": "markdown",
      "source": [
        "Question: what will this display?"
      ],
      "metadata": {
        "id": "3FZzQLG39JgP"
      }
    },
    {
      "cell_type": "code",
      "source": [
        "df.groupby(['Year']).Sport.nunique()"
      ],
      "metadata": {
        "id": "ABWqs6-z9CCQ"
      },
      "execution_count": null,
      "outputs": []
    },
    {
      "cell_type": "code",
      "source": [
        "df.groupby(['Year']).nunique()[['Sport']]"
      ],
      "metadata": {
        "id": "d23QeZlQ5isK"
      },
      "execution_count": null,
      "outputs": []
    },
    {
      "cell_type": "code",
      "source": [
        "df[['Year', 'Sport']].groupby(['Year']).nunique()"
      ],
      "metadata": {
        "id": "u_iJREAj52fN"
      },
      "execution_count": null,
      "outputs": []
    },
    {
      "cell_type": "markdown",
      "metadata": {
        "id": "Vf7ZrBhfxooU"
      },
      "source": [
        "### Applying multiple functions at once"
      ]
    },
    {
      "cell_type": "code",
      "source": [
        "def my_func(x):\n",
        "    print(type(x))\n",
        "    return x.nunique()"
      ],
      "metadata": {
        "id": "nnnpoXmViIMJ"
      },
      "execution_count": null,
      "outputs": []
    },
    {
      "cell_type": "code",
      "source": [
        "temp = df[['Sex', 'Height', 'Weight', 'Age']].groupby('Sex').agg([np.mean, 'max'])\n",
        "temp"
      ],
      "metadata": {
        "id": "j9E_uZl66tDV"
      },
      "execution_count": null,
      "outputs": []
    },
    {
      "cell_type": "code",
      "source": [
        "temp['Height']['mean']"
      ],
      "metadata": {
        "id": "Pf0mL8wzixhT"
      },
      "execution_count": null,
      "outputs": []
    },
    {
      "cell_type": "code",
      "metadata": {
        "id": "h3YxBr7axszS"
      },
      "source": [
        "df.groupby(['Year'])['Weight'].agg([np.sum, np.mean, np.std, np.min, np.max, 'max'])\n"
      ],
      "execution_count": null,
      "outputs": []
    },
    {
      "cell_type": "code",
      "source": [
        "df.groupby(['Year'])['Name'].agg(['min', lambda x: len(x.unique()), 'count'])"
      ],
      "metadata": {
        "id": "3JNpBh2-w-zE"
      },
      "execution_count": null,
      "outputs": []
    },
    {
      "cell_type": "markdown",
      "metadata": {
        "id": "poALZHXwx4dt"
      },
      "source": [
        "### Group by: Applying different functions to DataFrame columns"
      ]
    },
    {
      "cell_type": "code",
      "source": [
        "df.reset_index(inplace=True)"
      ],
      "metadata": {
        "id": "YHALhXNi8DAZ"
      },
      "execution_count": null,
      "outputs": []
    },
    {
      "cell_type": "code",
      "metadata": {
        "id": "_MiWqz-hx79e"
      },
      "source": [
        "grouped = df[['Sex', 'Name', 'Weight', 'Age']].groupby('Sex')\n",
        "grouped.agg({\"Age\": np.mean, 'Name': pd.Series.nunique, 'Weight': np.max})"
      ],
      "execution_count": null,
      "outputs": []
    },
    {
      "cell_type": "markdown",
      "source": [
        "## Merge and concat"
      ],
      "metadata": {
        "id": "HFsg3YR3cBxK"
      }
    },
    {
      "cell_type": "code",
      "source": [
        "fruits = pd.read_csv(\"https://storage.googleapis.com/intel-ai/fruits.csv\")\n",
        "vegetables = pd.read_csv(\"https://storage.googleapis.com/intel-ai/vegetables.csv\")"
      ],
      "metadata": {
        "id": "LlzMSP_iiLZJ"
      },
      "execution_count": null,
      "outputs": []
    },
    {
      "cell_type": "code",
      "source": [
        "fruits"
      ],
      "metadata": {
        "id": "wmUmfXWWbYT_"
      },
      "execution_count": null,
      "outputs": []
    },
    {
      "cell_type": "code",
      "source": [
        "vegetables"
      ],
      "metadata": {
        "id": "kkRFGFLSbdvU"
      },
      "execution_count": null,
      "outputs": []
    },
    {
      "cell_type": "markdown",
      "source": [
        "### Concat\n",
        "Concatenate pandas objects along a particular axis.\n",
        "\n",
        "E.g: Create one huge dataframe holding data from all the sensors"
      ],
      "metadata": {
        "id": "-IViS0YscJ9c"
      }
    },
    {
      "cell_type": "code",
      "source": [
        "pd.concat([fruits, vegetables], axis=0)"
      ],
      "metadata": {
        "id": "Dm-Mf0imcE2M"
      },
      "execution_count": null,
      "outputs": []
    },
    {
      "cell_type": "code",
      "source": [
        "pd.concat([fruits, vegetables], axis=1)"
      ],
      "metadata": {
        "id": "I_WEyBlhdWbi"
      },
      "execution_count": null,
      "outputs": []
    },
    {
      "cell_type": "markdown",
      "source": [
        "### Merge\n",
        "(Merge DataFrame or named Series objects with a database-style join)\n",
        "\n",
        "Merge dataframes w.r.t columns(s)"
      ],
      "metadata": {
        "id": "blccDyDncStn"
      }
    },
    {
      "cell_type": "code",
      "source": [
        "# Sample data with null values\n",
        "movies = pd.DataFrame({\n",
        "    'title': ['The Shawshank Redemption', 'Pulp Fiction', 'The Dark Knight', 'Forrest Gump', 'Inception'],\n",
        "    'year': [1994, 1994, 2008, 1994, 2010]\n",
        "})\n",
        "\n",
        "actors = pd.DataFrame({\n",
        "    'actor_name': ['Tim Robbins', 'Morgan Freeman', 'John Travolta', 'Christian Bale', np.nan],  # Null actor\n",
        "    'title': ['The Shawshank Redemption', 'The Shawshank Redemption', 'Pulp Fiction', 'The Dark Knight', 'The Godfather']  # Movie not in `movies`\n",
        "})"
      ],
      "metadata": {
        "id": "lmkP1Xd6b9xV"
      },
      "execution_count": null,
      "outputs": []
    },
    {
      "cell_type": "code",
      "source": [
        "movies"
      ],
      "metadata": {
        "id": "-1sLhBj0b-yK"
      },
      "execution_count": null,
      "outputs": []
    },
    {
      "cell_type": "code",
      "source": [
        "actors"
      ],
      "metadata": {
        "id": "VQ4uzx8QcATz"
      },
      "execution_count": null,
      "outputs": []
    },
    {
      "cell_type": "code",
      "source": [
        "# Example\n",
        "\n",
        "\n",
        "\n",
        "\n",
        "# Various types of joins\n",
        "inner_join = pd.merge(movies, actors, on='title', how='inner')\n",
        "left_join = pd.merge(movies, actors, on='title', how='left')\n",
        "right_join = pd.merge(movies, actors, on='title', how='right')\n",
        "outer_join = pd.merge(movies, actors, on='title', how='outer')\n",
        "\n",
        "print(\"Inner Join:\")\n",
        "print(inner_join)\n",
        "\n",
        "print(\"\\nLeft Join:\")\n",
        "print(left_join)\n",
        "\n",
        "print(\"\\nRight Join:\")\n",
        "print(right_join)\n",
        "\n",
        "print(\"\\nOuter Join:\")\n",
        "print(outer_join)\n"
      ],
      "metadata": {
        "id": "eTXFoMNQjsFc"
      },
      "execution_count": null,
      "outputs": []
    },
    {
      "cell_type": "markdown",
      "source": [
        "## Working with texts"
      ],
      "metadata": {
        "id": "_Yi4ZNJPvQ9N"
      }
    },
    {
      "cell_type": "code",
      "source": [
        "df['Name']"
      ],
      "metadata": {
        "id": "4nf6UUPn8ZxP"
      },
      "execution_count": null,
      "outputs": []
    },
    {
      "cell_type": "code",
      "source": [
        "# df['Name'].lower() - will not work"
      ],
      "metadata": {
        "id": "XwRmHT_592Or"
      },
      "execution_count": null,
      "outputs": []
    },
    {
      "cell_type": "code",
      "source": [
        "df['Name'].str"
      ],
      "metadata": {
        "id": "slN83tk3wnVZ"
      },
      "execution_count": null,
      "outputs": []
    },
    {
      "cell_type": "code",
      "source": [
        "df['Name'].str.lower()"
      ],
      "metadata": {
        "id": "9JGx1MaswnVa"
      },
      "execution_count": null,
      "outputs": []
    },
    {
      "cell_type": "code",
      "source": [
        "df[['Name', 'Event']].apply(lambda col: col.str.lower(), axis=1)"
      ],
      "metadata": {
        "id": "pKhOmmeo7s7G"
      },
      "execution_count": null,
      "outputs": []
    },
    {
      "cell_type": "code",
      "source": [
        "df['Name'].str.contains('r')"
      ],
      "metadata": {
        "id": "E7iuMyUEwnVa"
      },
      "execution_count": null,
      "outputs": []
    },
    {
      "cell_type": "code",
      "source": [
        "df['Name'].str.split(\" \")"
      ],
      "metadata": {
        "id": "T-mvOYlf964a"
      },
      "execution_count": null,
      "outputs": []
    },
    {
      "cell_type": "code",
      "source": [
        "df['Name'].str.split(\" \").str.get(0).str.lower()"
      ],
      "metadata": {
        "id": "cIAF13cd9BSc"
      },
      "execution_count": null,
      "outputs": []
    },
    {
      "cell_type": "code",
      "metadata": {
        "id": "IXu_OKUOwnVa"
      },
      "source": [
        "df['Name'].str.split(\" \").str.get(1).str.lower()"
      ],
      "execution_count": null,
      "outputs": []
    },
    {
      "cell_type": "markdown",
      "source": [
        "## Working with dates"
      ],
      "metadata": {
        "id": "A2cNauxmvIR3"
      }
    },
    {
      "cell_type": "code",
      "source": [
        "aapl = pd.read_csv(\"https://storage.googleapis.com/edulabs-public-datasets/aapl.csv\")"
      ],
      "metadata": {
        "id": "b6ykgCmp8HRH"
      },
      "execution_count": null,
      "outputs": []
    },
    {
      "cell_type": "code",
      "source": [
        "aapl"
      ],
      "metadata": {
        "id": "_PUuGjL18lZE"
      },
      "execution_count": null,
      "outputs": []
    },
    {
      "cell_type": "code",
      "source": [
        "aapl.info()"
      ],
      "metadata": {
        "id": "pCnKs8WR8MEs"
      },
      "execution_count": null,
      "outputs": []
    },
    {
      "cell_type": "code",
      "source": [
        "pd.to_datetime(aapl['Date'], dayfirst=False)"
      ],
      "metadata": {
        "id": "wyQRySSF8tuo"
      },
      "execution_count": null,
      "outputs": []
    },
    {
      "cell_type": "code",
      "source": [
        "aapl['Date'] = pd.to_datetime(aapl['Date'], dayfirst=False)"
      ],
      "metadata": {
        "id": "JL30L85e_jUS"
      },
      "execution_count": null,
      "outputs": []
    },
    {
      "cell_type": "code",
      "source": [
        "aapl[aapl['Date'] > '2025-01-02']"
      ],
      "metadata": {
        "id": "jVEkG1rE8z5G"
      },
      "execution_count": null,
      "outputs": []
    },
    {
      "cell_type": "code",
      "source": [
        "aapl['Date'].dt.day_name()"
      ],
      "metadata": {
        "id": "YfigfExR8_p7"
      },
      "execution_count": null,
      "outputs": []
    },
    {
      "cell_type": "code",
      "source": [
        "aapl = pd.read_csv(aapl, index_col='Date', parse_dates=['Date'], dayfirst=False)"
      ],
      "metadata": {
        "id": "zv51DiEKAMAw"
      },
      "execution_count": null,
      "outputs": []
    },
    {
      "cell_type": "code",
      "source": [
        "aapl.index"
      ],
      "metadata": {
        "id": "rjsqJX7yAl07"
      },
      "execution_count": null,
      "outputs": []
    },
    {
      "cell_type": "code",
      "source": [
        "aapl.loc['2020-03':'2020-5']"
      ],
      "metadata": {
        "id": "YRvceNkwAt7_"
      },
      "execution_count": null,
      "outputs": []
    },
    {
      "cell_type": "markdown",
      "source": [
        "### dt propery"
      ],
      "metadata": {
        "id": "wMe7TVsb-KKF"
      }
    },
    {
      "cell_type": "code",
      "source": [
        "aapl[aapl['Date'].dt.day_name() == 'Friday']"
      ],
      "metadata": {
        "id": "7TZbBZVd86vl"
      },
      "execution_count": null,
      "outputs": []
    },
    {
      "cell_type": "code",
      "source": [
        "aapl.reset_index()['Date'].dt.weekday"
      ],
      "metadata": {
        "id": "8xnIOaPBBJ1i"
      },
      "execution_count": null,
      "outputs": []
    }
  ]
}
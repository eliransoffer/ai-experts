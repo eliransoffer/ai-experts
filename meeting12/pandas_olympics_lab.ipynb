{
  "nbformat": 4,
  "nbformat_minor": 0,
  "metadata": {
    "colab": {
      "provenance": [],
      "include_colab_link": true
    },
    "kernelspec": {
      "name": "python3",
      "display_name": "Python 3"
    },
    "language_info": {
      "name": "python"
    }
  },
  "cells": [
    {
      "cell_type": "markdown",
      "metadata": {
        "id": "view-in-github",
        "colab_type": "text"
      },
      "source": [
        "<a href=\"https://colab.research.google.com/github/valeria-edulabs/ai-experts/blob/main/meeting12/pandas_olympics_lab.ipynb\" target=\"_parent\"><img src=\"https://colab.research.google.com/assets/colab-badge.svg\" alt=\"Open In Colab\"/></a>"
      ]
    },
    {
      "cell_type": "code",
      "metadata": {
        "id": "SYQbn3Y4P3jd"
      },
      "source": [
        "import numpy as np\n",
        "import pandas as pd\n",
        "import seaborn as sns"
      ],
      "execution_count": null,
      "outputs": []
    },
    {
      "cell_type": "markdown",
      "metadata": {
        "id": "4KUyF4_QPavN"
      },
      "source": [
        "Load Olympic history dataset (don't forget to upload athlete_events.csv to Colab first)\n",
        "The file can be downloaded from Kaggle:\n",
        "https://www.kaggle.com/heesoo37/120-years-of-olympic-history-athletes-and-results\n",
        "\n",
        "or from the url provided"
      ]
    },
    {
      "cell_type": "code",
      "metadata": {
        "id": "6zraKtI7PSyp"
      },
      "source": [
        "url = 'https://storage.googleapis.com/edulabs-public-datasets/athlete_events.zip'"
      ],
      "execution_count": null,
      "outputs": []
    },
    {
      "cell_type": "markdown",
      "metadata": {
        "id": "D8ECAqKkRUu2"
      },
      "source": [
        "**--- 1 ---**\n",
        "\n",
        "Load the dataset using optional argument dtypes and try reducing the amount of memory your dataset consumes in the memory as much as possible\n",
        "\n",
        "Hint:\n",
        "- use smalles numeric types possible\n",
        "- use categorical types\n",
        "- remove redundant columns\n"
      ]
    },
    {
      "cell_type": "code",
      "metadata": {
        "id": "5xd4MVPCRSGG"
      },
      "source": [],
      "execution_count": null,
      "outputs": []
    },
    {
      "cell_type": "markdown",
      "metadata": {
        "id": "PfWyvZdvyoPE"
      },
      "source": [
        "**--- 2 ---**\n",
        "\n",
        "Update original dataframe - add boolean \"Is_summer\" column based on \"season\" column and set the values accordingly"
      ]
    },
    {
      "cell_type": "code",
      "metadata": {
        "id": "WLjiHibRyofY"
      },
      "source": [],
      "execution_count": null,
      "outputs": []
    },
    {
      "cell_type": "markdown",
      "metadata": {
        "id": "YV0mSrQ9SBKQ"
      },
      "source": [
        "--- 3 ---\n",
        "\n",
        "How many NaN and no-NaN values in Height column?\n",
        "\n"
      ]
    },
    {
      "cell_type": "code",
      "metadata": {
        "id": "vbbxfS2eSMGz"
      },
      "source": [],
      "execution_count": null,
      "outputs": []
    },
    {
      "cell_type": "markdown",
      "metadata": {
        "id": "PXfK3m35e9M9"
      },
      "source": [
        "--- 7 ---\n",
        "\n",
        "Create a dataframe that displays max and min values for the following columns: weight, height, age"
      ]
    },
    {
      "cell_type": "code",
      "metadata": {
        "id": "Gz4VnlxKfLtj"
      },
      "source": [],
      "execution_count": null,
      "outputs": []
    },
    {
      "cell_type": "markdown",
      "metadata": {
        "id": "ShysoziOfMBw"
      },
      "source": [
        "**--- 8 ---**\n",
        "\n",
        "Filter athlete_events dataframe - display rows of women that participated Winter Olympic games between 1996 and 2002.\n",
        "How many rows are there?"
      ]
    },
    {
      "cell_type": "code",
      "metadata": {
        "id": "4u6tFLxXxifS"
      },
      "source": [],
      "execution_count": null,
      "outputs": []
    },
    {
      "cell_type": "markdown",
      "metadata": {
        "id": "mhvsrSv4T1m1"
      },
      "source": [
        "**--- 9 ---**\n",
        "\n",
        "Display data for Israeli teams only.\n",
        "How many rows are there?"
      ]
    },
    {
      "cell_type": "code",
      "metadata": {
        "id": "hhXujf2qUO2_"
      },
      "source": [],
      "execution_count": null,
      "outputs": []
    },
    {
      "cell_type": "markdown",
      "source": [
        "**--- 10 ---**\n",
        "\n",
        "How many Israeli athletes participated ever in Olympic games?\n",
        "\n",
        "Does the number you received differ from the previous one? Why?"
      ],
      "metadata": {
        "id": "V4LfpED4dzA9"
      }
    },
    {
      "cell_type": "code",
      "source": [],
      "metadata": {
        "id": "rMz7UJ95enQ5"
      },
      "execution_count": null,
      "outputs": []
    },
    {
      "cell_type": "markdown",
      "source": [
        "--- 11 ---\n",
        "\n",
        "Create a dataframe with data about  how many Israeli athlets participated in Olympic games per year per season."
      ],
      "metadata": {
        "id": "b-bf0A2Eeq6e"
      }
    },
    {
      "cell_type": "code",
      "source": [],
      "metadata": {
        "id": "1qtkQun9mKic"
      },
      "execution_count": null,
      "outputs": []
    },
    {
      "cell_type": "markdown",
      "source": [
        "--- 12 ---\n",
        "\n",
        "Display names of israeli athlets and amount of Olympic games they participated in descending (from athlets that participated in most games to less games)\n",
        "\n",
        "Display a name of Israeli athlete that participated in most olympic games"
      ],
      "metadata": {
        "id": "i8UhJeQhjejo"
      }
    },
    {
      "cell_type": "code",
      "source": [],
      "metadata": {
        "id": "xWxXcGDSmM5u"
      },
      "execution_count": null,
      "outputs": []
    },
    {
      "cell_type": "markdown",
      "source": [
        "--- 13 ---\n",
        "\n",
        "Create a dataframe that displays how many athlets participated per olympic games per country"
      ],
      "metadata": {
        "id": "CTIkifyKnADu"
      }
    },
    {
      "cell_type": "code",
      "source": [],
      "metadata": {
        "id": "5sMPZ6In0Xzf"
      },
      "execution_count": null,
      "outputs": []
    },
    {
      "cell_type": "markdown",
      "source": [
        "--- 14 ---\n",
        "\n",
        "Create a dataframe that presents how many medals each country earned per Games per medal type"
      ],
      "metadata": {
        "id": "0sfWt_15npcZ"
      }
    },
    {
      "cell_type": "code",
      "source": [],
      "metadata": {
        "id": "21EEkJbY0Yb2"
      },
      "execution_count": null,
      "outputs": []
    },
    {
      "cell_type": "markdown",
      "source": [
        "--- 15 ---\n",
        "\n",
        "Using the dataframe you created, find out which country won most Gold medals in 2016 Olympic games"
      ],
      "metadata": {
        "id": "Jg6qzeN_vP17"
      }
    },
    {
      "cell_type": "code",
      "source": [],
      "metadata": {
        "id": "PkRFyR8M0Y98"
      },
      "execution_count": null,
      "outputs": []
    },
    {
      "cell_type": "markdown",
      "source": [
        "--- 16 ---\n",
        "\n",
        "Create a dataframe that presents how many medals per medal type every country earned during all the Olympic games in history"
      ],
      "metadata": {
        "id": "TGh-aaxNxo7g"
      }
    },
    {
      "cell_type": "code",
      "source": [],
      "metadata": {
        "id": "idi0bAny0Zh4"
      },
      "execution_count": null,
      "outputs": []
    }
  ]
}
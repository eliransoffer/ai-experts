{
  "nbformat": 4,
  "nbformat_minor": 0,
  "metadata": {
    "colab": {
      "provenance": []
    },
    "kernelspec": {
      "name": "python3",
      "display_name": "Python 3"
    },
    "language_info": {
      "name": "python"
    }
  },
  "cells": [
    {
      "cell_type": "code",
      "source": [
        "import numpy as np"
      ],
      "metadata": {
        "id": "FlZp3XKWBanw"
      },
      "execution_count": null,
      "outputs": []
    },
    {
      "cell_type": "code",
      "execution_count": null,
      "metadata": {
        "colab": {
          "base_uri": "https://localhost:8080/"
        },
        "id": "atPwpfSEAj5l",
        "outputId": "027d6b39-cefd-4030-82db-5e0fb9558e9a"
      },
      "outputs": [
        {
          "output_type": "execute_result",
          "data": {
            "text/plain": [
              "{0: -19864.0,\n",
              " 1: -15744.0,\n",
              " 2: -11624.0,\n",
              " 3: -7504.0,\n",
              " 4: -3384.0,\n",
              " 5: 736.0,\n",
              " 6: 4856.0,\n",
              " 7: 8976.0,\n",
              " 8: 13096.0,\n",
              " 9: 17216.0}"
            ]
          },
          "metadata": {},
          "execution_count": 6
        }
      ],
      "source": [
        "\n",
        "\n",
        "# Data points\n",
        "x = np.array([20, 30, 40, 50, 70])\n",
        "y = np.array([98, 170, 205, 240, 320])\n",
        "\n",
        "# Function to calculate the gradient for a given w\n",
        "def calculate_gradient(w, x, y):\n",
        "    n = len(x)\n",
        "    y_pred = w * x\n",
        "    gradient = (2 / n) * np.sum((y_pred - y) * x)\n",
        "    return gradient\n",
        "\n",
        "# Values of w\n",
        "w_values = range(10)\n",
        "# w_values = np.linspace(0, 10, 50)\n",
        "gradients = {w: calculate_gradient(w, x, y) for w in w_values}\n",
        "gradients\n"
      ]
    },
    {
      "cell_type": "code",
      "source": [],
      "metadata": {
        "id": "rO_rCFxgAttQ"
      },
      "execution_count": null,
      "outputs": []
    }
  ]
}
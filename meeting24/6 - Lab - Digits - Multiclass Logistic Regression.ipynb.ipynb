{
 "cells": [
  {
   "cell_type": "markdown",
   "id": "0cff788b",
   "metadata": {},
   "source": [
    "# Multi-Class Logistic Regression: Tasks + Solutions\n",
    "\n",
    "In this notebook, you will explore different strategies to train and evaluate multi-class logistic regression models:\n",
    "- Single model approach (softmax)\n",
    "- One-vs-All (OvA)\n",
    "- One-vs-One (OvO)\n",
    "- Top-k accuracy evaluation\n",
    "\n",
    "We will use the `digits` dataset from `sklearn.datasets` which contains 10 classes.\n",
    "\n",
    "---\n",
    "\n",
    "## 🔧 Setup\n",
    "\n",
    "**Task:** Import all required libraries for data loading, model training, and evaluation."
   ]
  },
  {
   "cell_type": "code",
   "id": "9ed50d4e",
   "metadata": {
    "ExecuteTime": {
     "end_time": "2025-03-24T17:02:17.919617Z",
     "start_time": "2025-03-24T17:02:17.676818Z"
    }
   },
   "source": [
    "# Solution\n",
    "import numpy as np\n",
    "import pandas as pd\n",
    "import matplotlib.pyplot as plt\n",
    "from sklearn.datasets import load_wine, load_iris, load_digits\n",
    "from sklearn.model_selection import train_test_split\n",
    "from sklearn.linear_model import LogisticRegression\n",
    "from sklearn.multiclass import OneVsRestClassifier, OneVsOneClassifier\n",
    "from sklearn.metrics import accuracy_score, top_k_accuracy_score, classification_report\n",
    "from sklearn.pipeline import make_pipeline\n",
    "from sklearn.preprocessing import StandardScaler\n",
    "import plotly.graph_objects as go\n",
    "import plotly.subplots as sp\n"
   ],
   "outputs": [],
   "execution_count": 1
  },
  {
   "cell_type": "markdown",
   "id": "2ff9f161",
   "metadata": {},
   "source": [
    "---\n",
    "\n",
    "## 📊 Load and Explore Data\n",
    "\n",
    "**Task:** Load the wine dataset and print the feature and class information."
   ]
  },
  {
   "cell_type": "code",
   "id": "4ba6a597",
   "metadata": {
    "ExecuteTime": {
     "end_time": "2025-03-24T17:02:17.938599Z",
     "start_time": "2025-03-24T17:02:17.927184Z"
    }
   },
   "source": [
    "# Solution\n",
    "digits = load_digits()\n",
    "X = digits.data\n",
    "y = digits.target\n",
    "images = digits.images\n",
    "\n",
    "print(digits.keys())\n",
    "print(digits['DESCR'])\n",
    "print(\"Features:\", digits.feature_names)\n",
    "print(\"Target classes:\", digits.target_names)\n",
    "print(\"Shape of data:\", X.shape)"
   ],
   "outputs": [
    {
     "name": "stdout",
     "output_type": "stream",
     "text": [
      "dict_keys(['data', 'target', 'frame', 'feature_names', 'target_names', 'images', 'DESCR'])\n",
      ".. _digits_dataset:\n",
      "\n",
      "Optical recognition of handwritten digits dataset\n",
      "--------------------------------------------------\n",
      "\n",
      "**Data Set Characteristics:**\n",
      "\n",
      ":Number of Instances: 1797\n",
      ":Number of Attributes: 64\n",
      ":Attribute Information: 8x8 image of integer pixels in the range 0..16.\n",
      ":Missing Attribute Values: None\n",
      ":Creator: E. Alpaydin (alpaydin '@' boun.edu.tr)\n",
      ":Date: July; 1998\n",
      "\n",
      "This is a copy of the test set of the UCI ML hand-written digits datasets\n",
      "https://archive.ics.uci.edu/ml/datasets/Optical+Recognition+of+Handwritten+Digits\n",
      "\n",
      "The data set contains images of hand-written digits: 10 classes where\n",
      "each class refers to a digit.\n",
      "\n",
      "Preprocessing programs made available by NIST were used to extract\n",
      "normalized bitmaps of handwritten digits from a preprinted form. From a\n",
      "total of 43 people, 30 contributed to the training set and different 13\n",
      "to the test set. 32x32 bitmaps are divided into nonoverlapping blocks of\n",
      "4x4 and the number of on pixels are counted in each block. This generates\n",
      "an input matrix of 8x8 where each element is an integer in the range\n",
      "0..16. This reduces dimensionality and gives invariance to small\n",
      "distortions.\n",
      "\n",
      "For info on NIST preprocessing routines, see M. D. Garris, J. L. Blue, G.\n",
      "T. Candela, D. L. Dimmick, J. Geist, P. J. Grother, S. A. Janet, and C.\n",
      "L. Wilson, NIST Form-Based Handprint Recognition System, NISTIR 5469,\n",
      "1994.\n",
      "\n",
      ".. dropdown:: References\n",
      "\n",
      "  - C. Kaynak (1995) Methods of Combining Multiple Classifiers and Their\n",
      "    Applications to Handwritten Digit Recognition, MSc Thesis, Institute of\n",
      "    Graduate Studies in Science and Engineering, Bogazici University.\n",
      "  - E. Alpaydin, C. Kaynak (1998) Cascading Classifiers, Kybernetika.\n",
      "  - Ken Tang and Ponnuthurai N. Suganthan and Xi Yao and A. Kai Qin.\n",
      "    Linear dimensionalityreduction using relevance weighted LDA. School of\n",
      "    Electrical and Electronic Engineering Nanyang Technological University.\n",
      "    2005.\n",
      "  - Claudio Gentile. A New Approximate Maximal Margin Classification\n",
      "    Algorithm. NIPS. 2000.\n",
      "\n",
      "Features: ['pixel_0_0', 'pixel_0_1', 'pixel_0_2', 'pixel_0_3', 'pixel_0_4', 'pixel_0_5', 'pixel_0_6', 'pixel_0_7', 'pixel_1_0', 'pixel_1_1', 'pixel_1_2', 'pixel_1_3', 'pixel_1_4', 'pixel_1_5', 'pixel_1_6', 'pixel_1_7', 'pixel_2_0', 'pixel_2_1', 'pixel_2_2', 'pixel_2_3', 'pixel_2_4', 'pixel_2_5', 'pixel_2_6', 'pixel_2_7', 'pixel_3_0', 'pixel_3_1', 'pixel_3_2', 'pixel_3_3', 'pixel_3_4', 'pixel_3_5', 'pixel_3_6', 'pixel_3_7', 'pixel_4_0', 'pixel_4_1', 'pixel_4_2', 'pixel_4_3', 'pixel_4_4', 'pixel_4_5', 'pixel_4_6', 'pixel_4_7', 'pixel_5_0', 'pixel_5_1', 'pixel_5_2', 'pixel_5_3', 'pixel_5_4', 'pixel_5_5', 'pixel_5_6', 'pixel_5_7', 'pixel_6_0', 'pixel_6_1', 'pixel_6_2', 'pixel_6_3', 'pixel_6_4', 'pixel_6_5', 'pixel_6_6', 'pixel_6_7', 'pixel_7_0', 'pixel_7_1', 'pixel_7_2', 'pixel_7_3', 'pixel_7_4', 'pixel_7_5', 'pixel_7_6', 'pixel_7_7']\n",
      "Target classes: [0 1 2 3 4 5 6 7 8 9]\n",
      "Shape of data: (1797, 64)\n"
     ]
    }
   ],
   "execution_count": 2
  },
  {
   "metadata": {},
   "cell_type": "code",
   "source": "image_data = digits.images[0]",
   "id": "87dd8fa15b25dfff",
   "outputs": [],
   "execution_count": null
  },
  {
   "metadata": {},
   "cell_type": "code",
   "source": "image_data.shape",
   "id": "6d1d7bbb44d6943a",
   "outputs": [],
   "execution_count": null
  },
  {
   "metadata": {},
   "cell_type": "code",
   "source": [
    "# Create a Plotly figure to display the image\n",
    "fig = go.Figure()\n",
    "\n",
    "fig.add_trace(go.Heatmap(\n",
    "    z=image_data,\n",
    "    colorscale='gray',\n",
    "    showscale=False\n",
    "))\n",
    "\n",
    "fig.update_layout(\n",
    "    title=f'Digit Label: {digits.target[0]}',\n",
    "    xaxis=dict(showticklabels=False),\n",
    "    yaxis=dict(showticklabels=False),\n",
    "    width=300,\n",
    "    height=300\n",
    ")\n",
    "\n",
    "fig.show()"
   ],
   "id": "9825dd6a4b906a46",
   "outputs": [],
   "execution_count": null
  },
  {
   "cell_type": "markdown",
   "id": "9499df6f",
   "metadata": {},
   "source": [
    "---\n",
    "\n",
    "## 🔀 Train/Test Split\n",
    "\n",
    "**Task:** Split the dataset into training and test sets (80/20 split)."
   ]
  },
  {
   "cell_type": "code",
   "id": "715f2099",
   "metadata": {},
   "source": "",
   "outputs": [],
   "execution_count": null
  },
  {
   "cell_type": "markdown",
   "id": "68a7a1e0",
   "metadata": {},
   "source": [
    "---\n",
    "\n",
    "## 🧠 1. Single Model (Softmax Multinomial Logistic Regression)\n",
    "\n",
    "**Task:** Train a multinomial logistic regression model using the softmax approach. Report training and test accuracy, and display a classification report."
   ]
  },
  {
   "cell_type": "code",
   "id": "2b882bb0",
   "metadata": {},
   "source": "",
   "outputs": [],
   "execution_count": null
  },
  {
   "cell_type": "markdown",
   "id": "d2e49d3a",
   "metadata": {},
   "source": [
    "---\n",
    "\n",
    "## ⚔️ 2. One-vs-All (OvA)\n",
    "\n",
    "**Task:** Train a One-vs-All classifier using logistic regression. Report training and test accuracy, and display a classification report."
   ]
  },
  {
   "cell_type": "code",
   "id": "4b244c5d",
   "metadata": {},
   "source": "",
   "outputs": [],
   "execution_count": null
  },
  {
   "cell_type": "markdown",
   "id": "82ec9eb7",
   "metadata": {},
   "source": [
    "---\n",
    "\n",
    "## ⚔️ 3. One-vs-One (OvO)\n",
    "\n",
    "**Task:** Train a One-vs-One classifier using logistic regression. Report training and test accuracy, and display a classification report."
   ]
  },
  {
   "cell_type": "code",
   "id": "de33d4c9",
   "metadata": {},
   "source": "",
   "outputs": [],
   "execution_count": null
  },
  {
   "cell_type": "markdown",
   "id": "5586fc55",
   "metadata": {},
   "source": [
    "---\n",
    "\n",
    "## 🎯 4. Top-k Accuracy\n",
    "\n",
    "**Task:** Compute top-k accuracy (for k=1,2,3) using the softmax model probabilities."
   ]
  },
  {
   "cell_type": "code",
   "id": "cfd2c4d4",
   "metadata": {},
   "source": "",
   "outputs": [],
   "execution_count": null
  },
  {
   "cell_type": "markdown",
   "id": "30adbc54",
   "metadata": {},
   "source": [
    "---\n",
    "\n",
    "## 📋 5. Compare Models\n",
    "\n",
    "**Task:** Create a DataFrame comparing training accuracy, test accuracy, and top-1 accuracy of all three models."
   ]
  },
  {
   "cell_type": "code",
   "id": "84e26025",
   "metadata": {},
   "source": "",
   "outputs": [],
   "execution_count": null
  },
  {
   "metadata": {},
   "cell_type": "code",
   "source": "",
   "id": "4e4f9060e2c6cd15",
   "outputs": [],
   "execution_count": null
  },
  {
   "metadata": {},
   "cell_type": "markdown",
   "source": "## 📊 6. Display digits that not predicted correctly (display image + actual label + predicted label)",
   "id": "cdd4a2afb89ea013"
  },
  {
   "metadata": {},
   "cell_type": "code",
   "source": "",
   "id": "987122b5ee60b7af",
   "outputs": [],
   "execution_count": null
  },
  {
   "metadata": {},
   "cell_type": "markdown",
   "source": [
    "---\n",
    "\n",
    "## 🏆 7. Select the Best Model\n",
    "\n",
    "**Task:** Based on the training/test accuracy and classification reports, select the best performing model. Justify your selection."
   ],
   "id": "f56ce329"
  },
  {
   "metadata": {},
   "cell_type": "code",
   "source": "",
   "id": "fcc344ab",
   "outputs": [],
   "execution_count": null
  },
  {
   "metadata": {},
   "cell_type": "code",
   "source": "",
   "id": "10a226fb9bdce0a4",
   "outputs": [],
   "execution_count": null
  }
 ],
 "metadata": {
  "kernelspec": {
   "name": "python3",
   "language": "python",
   "display_name": "Python 3 (ipykernel)"
  }
 },
 "nbformat": 4,
 "nbformat_minor": 5
}

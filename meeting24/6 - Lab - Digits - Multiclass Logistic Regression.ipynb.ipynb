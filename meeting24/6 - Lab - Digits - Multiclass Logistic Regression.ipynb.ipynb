{
 "cells": [
  {
   "cell_type": "markdown",
   "id": "0cff788b",
   "metadata": {},
   "source": [
    "# Multi-Class Logistic Regression: Tasks + Solutions\n",
    "\n",
    "In this notebook, you will explore different strategies to train and evaluate multi-class logistic regression models:\n",
    "- Single model approach (softmax)\n",
    "- One-vs-All (OvA)\n",
    "- One-vs-One (OvO)\n",
    "- Top-k accuracy evaluation\n",
    "\n",
    "We will use the `digits` dataset from `sklearn.datasets` which contains 10 classes.\n",
    "\n",
    "---\n",
    "\n",
    "## 🔧 Setup\n",
    "\n",
    "**Task:** Import all required libraries for data loading, model training, and evaluation."
   ]
  },
  {
   "cell_type": "code",
   "id": "9ed50d4e",
   "metadata": {},
   "source": [
    "# Solution\n",
    "import numpy as np\n",
    "import pandas as pd\n",
    "import matplotlib.pyplot as plt\n",
    "from sklearn.datasets import load_wine, load_iris, load_digits\n",
    "from sklearn.model_selection import train_test_split\n",
    "from sklearn.linear_model import LogisticRegression\n",
    "from sklearn.multiclass import OneVsRestClassifier, OneVsOneClassifier\n",
    "from sklearn.metrics import accuracy_score, top_k_accuracy_score, classification_report\n",
    "from sklearn.pipeline import make_pipeline\n",
    "from sklearn.preprocessing import StandardScaler\n",
    "import plotly.graph_objects as go\n",
    "import plotly.subplots as sp\n"
   ],
   "outputs": [],
   "execution_count": null
  },
  {
   "cell_type": "markdown",
   "id": "2ff9f161",
   "metadata": {},
   "source": [
    "---\n",
    "\n",
    "## 📊 Load and Explore Data\n",
    "\n",
    "**Task:** Load the wine dataset and print the feature and class information."
   ]
  },
  {
   "cell_type": "code",
   "id": "4ba6a597",
   "metadata": {},
   "source": [
    "# Solution\n",
    "digits = load_digits()\n",
    "X = digits.data\n",
    "y = digits.target\n",
    "images = digits.images\n",
    "\n",
    "print(digits.keys())\n",
    "print(digits['DESCR'])\n",
    "print(\"Features:\", digits.feature_names)\n",
    "print(\"Target classes:\", digits.target_names)\n",
    "print(\"Shape of data:\", X.shape)"
   ],
   "outputs": [],
   "execution_count": null
  },
  {
   "metadata": {},
   "cell_type": "code",
   "source": "image_data = digits.images[0]",
   "id": "87dd8fa15b25dfff",
   "outputs": [],
   "execution_count": null
  },
  {
   "metadata": {},
   "cell_type": "code",
   "source": "image_data.shape",
   "id": "6d1d7bbb44d6943a",
   "outputs": [],
   "execution_count": null
  },
  {
   "metadata": {},
   "cell_type": "code",
   "source": [
    "# Create a Plotly figure to display the image\n",
    "fig = go.Figure()\n",
    "\n",
    "fig.add_trace(go.Heatmap(\n",
    "    z=image_data,\n",
    "    colorscale='gray',\n",
    "    showscale=False\n",
    "))\n",
    "\n",
    "fig.update_layout(\n",
    "    title=f'Digit Label: {digits.target[0]}',\n",
    "    xaxis=dict(showticklabels=False),\n",
    "    yaxis=dict(showticklabels=False),\n",
    "    width=300,\n",
    "    height=300\n",
    ")\n",
    "\n",
    "fig.show()"
   ],
   "id": "9825dd6a4b906a46",
   "outputs": [],
   "execution_count": null
  },
  {
   "cell_type": "markdown",
   "id": "9499df6f",
   "metadata": {},
   "source": [
    "---\n",
    "\n",
    "## 🔀 Train/Test Split\n",
    "\n",
    "**Task:** Split the dataset into training and test sets (80/20 split)."
   ]
  },
  {
   "cell_type": "code",
   "id": "715f2099",
   "metadata": {},
   "source": "",
   "outputs": [],
   "execution_count": null
  },
  {
   "cell_type": "markdown",
   "id": "68a7a1e0",
   "metadata": {},
   "source": [
    "---\n",
    "\n",
    "## 🧠 1. Single Model (Softmax Multinomial Logistic Regression)\n",
    "\n",
    "**Task:** Train a multinomial logistic regression model using the softmax approach. Report training and test accuracy, and display a classification report."
   ]
  },
  {
   "cell_type": "code",
   "id": "2b882bb0",
   "metadata": {},
   "source": "",
   "outputs": [],
   "execution_count": null
  },
  {
   "cell_type": "markdown",
   "id": "d2e49d3a",
   "metadata": {},
   "source": [
    "---\n",
    "\n",
    "## ⚔️ 2. One-vs-All (OvA)\n",
    "\n",
    "**Task:** Train a One-vs-All classifier using logistic regression. Report training and test accuracy, and display a classification report."
   ]
  },
  {
   "cell_type": "code",
   "id": "4b244c5d",
   "metadata": {},
   "source": "",
   "outputs": [],
   "execution_count": null
  },
  {
   "cell_type": "markdown",
   "id": "82ec9eb7",
   "metadata": {},
   "source": [
    "---\n",
    "\n",
    "## ⚔️ 3. One-vs-One (OvO)\n",
    "\n",
    "**Task:** Train a One-vs-One classifier using logistic regression. Report training and test accuracy, and display a classification report."
   ]
  },
  {
   "cell_type": "code",
   "id": "de33d4c9",
   "metadata": {},
   "source": "",
   "outputs": [],
   "execution_count": null
  },
  {
   "cell_type": "markdown",
   "id": "5586fc55",
   "metadata": {},
   "source": [
    "---\n",
    "\n",
    "## 🎯 4. Top-k Accuracy\n",
    "\n",
    "**Task:** Compute top-k accuracy (for k=1,2,3) using the softmax model probabilities."
   ]
  },
  {
   "cell_type": "code",
   "id": "cfd2c4d4",
   "metadata": {},
   "source": "",
   "outputs": [],
   "execution_count": null
  },
  {
   "cell_type": "markdown",
   "id": "30adbc54",
   "metadata": {},
   "source": [
    "---\n",
    "\n",
    "## 📋 5. Compare Models\n",
    "\n",
    "**Task:** Create a DataFrame comparing training accuracy, test accuracy, and top-1 accuracy of all three models."
   ]
  },
  {
   "cell_type": "code",
   "id": "84e26025",
   "metadata": {},
   "source": "",
   "outputs": [],
   "execution_count": null
  },
  {
   "metadata": {},
   "cell_type": "code",
   "source": "",
   "id": "4e4f9060e2c6cd15",
   "outputs": [],
   "execution_count": null
  },
  {
   "metadata": {},
   "cell_type": "markdown",
   "source": "## 📊 6. Display digits that not predicted correctly (display image + actual label + predicted label)",
   "id": "cdd4a2afb89ea013"
  },
  {
   "metadata": {},
   "cell_type": "code",
   "source": "",
   "id": "987122b5ee60b7af",
   "outputs": [],
   "execution_count": null
  },
  {
   "metadata": {},
   "cell_type": "markdown",
   "source": [
    "---\n",
    "\n",
    "## 🏆 7. Select the Best Model\n",
    "\n",
    "**Task:** Based on the training/test accuracy and classification reports, select the best performing model. Justify your selection."
   ],
   "id": "f56ce329"
  },
  {
   "metadata": {},
   "cell_type": "code",
   "source": "",
   "id": "fcc344ab",
   "outputs": [],
   "execution_count": null
  },
  {
   "metadata": {},
   "cell_type": "code",
   "source": "",
   "id": "10a226fb9bdce0a4",
   "outputs": [],
   "execution_count": null
  }
 ],
 "metadata": {
  "kernelspec": {
   "name": "python3",
   "language": "python",
   "display_name": "Python 3 (ipykernel)"
  }
 },
 "nbformat": 4,
 "nbformat_minor": 5
}

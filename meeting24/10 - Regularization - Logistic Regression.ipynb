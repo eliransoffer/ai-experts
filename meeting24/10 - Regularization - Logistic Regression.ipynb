{
 "cells": [
  {
   "cell_type": "code",
   "id": "initial_id",
   "metadata": {
    "collapsed": true,
    "ExecuteTime": {
     "end_time": "2025-03-24T10:54:08.675039Z",
     "start_time": "2025-03-24T10:54:08.402723Z"
    }
   },
   "source": [
    "import pandas as pd\n",
    "import seaborn as sns\n",
    "from sklearn.model_selection import train_test_split\n",
    "from sklearn.linear_model import LogisticRegression\n",
    "from sklearn.metrics import accuracy_score, classification_report\n",
    "\n",
    "# Load Titanic dataset\n",
    "df = sns.load_dataset('titanic')\n",
    "\n",
    "# Basic preprocessing\n",
    "df = df[['survived', 'pclass', 'sex', 'age', 'fare']].dropna()\n",
    "df['sex'] = df['sex'].map({'male': 0, 'female': 1})\n",
    "\n",
    "X = df.drop('survived', axis=1)\n",
    "y = df['survived']\n",
    "\n",
    "# Train-test split\n",
    "X_train, X_test, y_train, y_test = train_test_split(X, y, test_size=0.2, random_state=42, stratify=y)\n",
    "\n",
    "# Helper function to train and evaluate\n",
    "def train_and_evaluate(model, name):\n",
    "    model.fit(X_train, y_train)\n",
    "    y_pred = model.predict(X_test)\n",
    "    acc = accuracy_score(y_test, y_pred)\n",
    "    acc_train = accuracy_score(y_train, model.predict(X_train))\n",
    "    print(f\"\\n🔍 {name} Accuracy: Test: {acc:.2f} Train: {acc_train:.2f}\")\n",
    "    print(classification_report(y_test, y_pred))\n",
    "\n",
    "# 1. Logistic Regression without regularization (C very large)\n",
    "model_none = LogisticRegression(C=1e10, penalty='l2', solver='lbfgs', max_iter=1000)\n",
    "train_and_evaluate(model_none, \"No Regularization\")\n",
    "\n",
    "# 2. Logistic Regression with L1 regularization\n",
    "model_l1 = LogisticRegression(C=1.0, penalty='l1', solver='liblinear', max_iter=1000)\n",
    "train_and_evaluate(model_l1, \"L1 Regularization\")\n",
    "\n",
    "# 3. Logistic Regression with L2 regularization\n",
    "model_l2 = LogisticRegression(C=1.0, penalty='l2', solver='lbfgs', max_iter=1000)\n",
    "train_and_evaluate(model_l2, \"L2 Regularization\")\n",
    "\n",
    "# 3. Logistic Regression with stronger L2 regularization\n",
    "model_l2 = LogisticRegression(C=0.5, penalty='l2', solver='lbfgs', max_iter=1000)\n",
    "train_and_evaluate(model_l2, \"Stronger L2 Regularization: C=0.5\")\n"
   ],
   "outputs": [
    {
     "name": "stdout",
     "output_type": "stream",
     "text": [
      "\n",
      "🔍 No Regularization Accuracy: Test: 0.80 Train: 0.79\n",
      "              precision    recall  f1-score   support\n",
      "\n",
      "           0       0.83      0.84      0.83        85\n",
      "           1       0.75      0.74      0.75        58\n",
      "\n",
      "    accuracy                           0.80       143\n",
      "   macro avg       0.79      0.79      0.79       143\n",
      "weighted avg       0.80      0.80      0.80       143\n",
      "\n",
      "\n",
      "🔍 L1 Regularization Accuracy: Test: 0.79 Train: 0.79\n",
      "              precision    recall  f1-score   support\n",
      "\n",
      "           0       0.82      0.82      0.82        85\n",
      "           1       0.74      0.74      0.74        58\n",
      "\n",
      "    accuracy                           0.79       143\n",
      "   macro avg       0.78      0.78      0.78       143\n",
      "weighted avg       0.79      0.79      0.79       143\n",
      "\n",
      "\n",
      "🔍 L2 Regularization Accuracy: Test: 0.80 Train: 0.80\n",
      "              precision    recall  f1-score   support\n",
      "\n",
      "           0       0.84      0.84      0.84        85\n",
      "           1       0.76      0.76      0.76        58\n",
      "\n",
      "    accuracy                           0.80       143\n",
      "   macro avg       0.80      0.80      0.80       143\n",
      "weighted avg       0.80      0.80      0.80       143\n",
      "\n",
      "\n",
      "🔍 Stronger L2 Regularization: C=0.5 Accuracy: Test: 0.81 Train: 0.80\n",
      "              precision    recall  f1-score   support\n",
      "\n",
      "           0       0.85      0.84      0.84        85\n",
      "           1       0.76      0.78      0.77        58\n",
      "\n",
      "    accuracy                           0.81       143\n",
      "   macro avg       0.80      0.81      0.80       143\n",
      "weighted avg       0.81      0.81      0.81       143\n",
      "\n"
     ]
    }
   ],
   "execution_count": 7
  },
  {
   "metadata": {},
   "cell_type": "code",
   "outputs": [],
   "execution_count": null,
   "source": "",
   "id": "8ee89fe961d841a5"
  }
 ],
 "metadata": {
  "kernelspec": {
   "display_name": "Python 3",
   "language": "python",
   "name": "python3"
  },
  "language_info": {
   "codemirror_mode": {
    "name": "ipython",
    "version": 2
   },
   "file_extension": ".py",
   "mimetype": "text/x-python",
   "name": "python",
   "nbconvert_exporter": "python",
   "pygments_lexer": "ipython2",
   "version": "2.7.6"
  }
 },
 "nbformat": 4,
 "nbformat_minor": 5
}

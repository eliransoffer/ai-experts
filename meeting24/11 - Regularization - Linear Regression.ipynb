{
 "cells": [
  {
   "cell_type": "code",
   "id": "initial_id",
   "metadata": {
    "collapsed": true,
    "ExecuteTime": {
     "end_time": "2025-03-24T13:43:48.510218Z",
     "start_time": "2025-03-24T13:43:48.332659Z"
    }
   },
   "source": [
    "import seaborn as sns\n",
    "import pandas as pd\n",
    "from sklearn.model_selection import train_test_split\n",
    "from sklearn.linear_model import LinearRegression, Lasso, Ridge, ElasticNet\n",
    "from sklearn.metrics import mean_squared_error, r2_score, mean_absolute_error, mean_absolute_percentage_error\n",
    "\n",
    "# Load dataset\n",
    "df = sns.load_dataset('diamonds')\n",
    "\n",
    "# Select numerical features only for simplicity\n",
    "features = ['carat', 'depth', 'table', 'x', 'y', 'z']\n",
    "target = 'price'\n",
    "\n",
    "# Drop missing values just in case\n",
    "df = df.dropna()\n",
    "\n",
    "X = df[features]\n",
    "y = df[target]\n",
    "\n",
    "# Train-test split\n",
    "X_train, X_test, y_train, y_test = train_test_split(X, y, test_size=0.2, random_state=42)\n",
    "\n",
    "# Helper function\n",
    "def train_and_evaluate(model, name):\n",
    "    model.fit(X_train, y_train)\n",
    "    y_pred = model.predict(X_test)\n",
    "    mae = mean_absolute_error(y_test, y_pred)\n",
    "    mae_train = mean_absolute_error(y_train, model.predict(X_train))\n",
    "    r2 = r2_score(y_test, y_pred)\n",
    "    print(f\"\\n🔍 {name}\")\n",
    "    print(f\"MAE: Test: {mae:,.2f} | Train: {mae_train:,.2f}\")\n",
    "    print(f\"R² Score: {r2:.4f}\")\n",
    "\n",
    "# 1. No Regularization (OLS)\n",
    "model_ols = LinearRegression()\n",
    "train_and_evaluate(model_ols, \"Linear Regression (No Regularization)\")\n",
    "\n",
    "# 2. L1 Regularization (Lasso)\n",
    "model_l1 = Lasso(alpha=1000)\n",
    "train_and_evaluate(model_l1, \"L1 Regularization (Lasso)\")\n",
    "\n",
    "# 3. L2 Regularization (Ridge)\n",
    "model_l2 = Ridge(alpha=1000)\n",
    "train_and_evaluate(model_l2, \"L2 Regularization (Ridge)\")\n"
   ],
   "outputs": [
    {
     "name": "stdout",
     "output_type": "stream",
     "text": [
      "\n",
      "🔍 Linear Regression (No Regularization)\n",
      "MAE: Test: 888.48 | Train: 891.81\n",
      "R² Score: 0.8590\n",
      "\n",
      "🔍 L1 Regularization (Lasso)\n",
      "MAE: Test: 1,321.51 | Train: 1,334.37\n",
      "R² Score: 0.7355\n",
      "\n",
      "🔍 L2 Regularization (Ridge)\n",
      "MAE: Test: 1,160.88 | Train: 1,162.17\n",
      "R² Score: 0.8272\n"
     ]
    }
   ],
   "execution_count": 6
  },
  {
   "metadata": {
    "ExecuteTime": {
     "end_time": "2025-03-24T13:45:53.218716Z",
     "start_time": "2025-03-24T13:45:53.185742Z"
    }
   },
   "cell_type": "code",
   "source": [
    "model_l2 = Ridge(alpha=10)\n",
    "train_and_evaluate(model_l2, \"L2 Regularization (Ridge)\")"
   ],
   "id": "658731391836ce49",
   "outputs": [
    {
     "name": "stdout",
     "output_type": "stream",
     "text": [
      "\n",
      "🔍 L2 Regularization (Ridge)\n",
      "MAE: Test: 894.29 | Train: 897.67\n",
      "R² Score: 0.8589\n"
     ]
    }
   ],
   "execution_count": 14
  },
  {
   "metadata": {
    "ExecuteTime": {
     "end_time": "2025-03-24T13:48:02.513496Z",
     "start_time": "2025-03-24T13:48:02.457390Z"
    }
   },
   "cell_type": "code",
   "source": [
    "# 4. ElasticNet\n",
    "# l1_ratio: Mix of L1 vs L2:\n",
    "# - 0 = pure L2 (Ridge)\n",
    "# - 1 = pure L1 (Lasso)\n",
    "# - 0.5 = 50% L1, 50% L2\n",
    "model_en = ElasticNet(alpha=10, l1_ratio=0.5)\n",
    "train_and_evaluate(model_en, \"ElasticNet\")"
   ],
   "id": "4d22650fb8d97983",
   "outputs": [
    {
     "name": "stdout",
     "output_type": "stream",
     "text": [
      "\n",
      "🔍 ElasticNet\n",
      "MAE: Test: 2,008.60 | Train: 2,025.29\n",
      "R² Score: 0.4980\n"
     ]
    }
   ],
   "execution_count": 18
  },
  {
   "metadata": {},
   "cell_type": "code",
   "outputs": [],
   "execution_count": null,
   "source": "",
   "id": "bcde398f26976e20"
  }
 ],
 "metadata": {
  "kernelspec": {
   "display_name": "Python 3",
   "language": "python",
   "name": "python3"
  },
  "language_info": {
   "codemirror_mode": {
    "name": "ipython",
    "version": 2
   },
   "file_extension": ".py",
   "mimetype": "text/x-python",
   "name": "python",
   "nbconvert_exporter": "python",
   "pygments_lexer": "ipython2",
   "version": "2.7.6"
  }
 },
 "nbformat": 4,
 "nbformat_minor": 5
}

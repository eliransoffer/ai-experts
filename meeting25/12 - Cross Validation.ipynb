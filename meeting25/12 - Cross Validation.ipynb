{
 "cells": [
  {
   "metadata": {},
   "cell_type": "markdown",
   "source": "# Imports",
   "id": "bcb8f98b7320cf3c"
  },
  {
   "cell_type": "code",
   "id": "initial_id",
   "metadata": {
    "collapsed": true
   },
   "source": [
    "# Cross-Validation with Scikit-learn\n",
    "\n",
    "import numpy as np\n",
    "import pandas as pd\n",
    "import sklearn as sk\n",
    "from sklearn.datasets import fetch_california_housing\n",
    "from sklearn.model_selection import cross_val_score, cross_val_predict, cross_validate\n",
    "from sklearn.model_selection import train_test_split, KFold, StratifiedKFold, GridSearchCV\n",
    "from sklearn.linear_model import LinearRegression, Ridge, Lasso\n",
    "from sklearn.ensemble import RandomForestClassifier\n",
    "from sklearn.metrics import accuracy_score\n",
    "from sklearn.preprocessing import LabelEncoder\n",
    "from sklearn.impute import SimpleImputer"
   ],
   "outputs": [],
   "execution_count": null
  },
  {
   "metadata": {},
   "cell_type": "markdown",
   "source": "# Load data for regression",
   "id": "744d52e3203ce970"
  },
  {
   "metadata": {},
   "cell_type": "code",
   "source": [
    "# Load regression dataset\n",
    "housing = fetch_california_housing()\n",
    "X, y = housing.data, housing.target"
   ],
   "id": "fabc93ab830cd0b1",
   "outputs": [],
   "execution_count": null
  },
  {
   "metadata": {},
   "cell_type": "code",
   "source": "print(housing['DESCR'])",
   "id": "32dbaf065d9dc64e",
   "outputs": [],
   "execution_count": null
  },
  {
   "metadata": {},
   "cell_type": "markdown",
   "source": "# Score model with cross-validation (regression example)",
   "id": "86d1158c511e950"
  },
  {
   "metadata": {},
   "cell_type": "code",
   "source": "model = LinearRegression()",
   "id": "e627637ba8c994b0",
   "outputs": [],
   "execution_count": null
  },
  {
   "metadata": {},
   "cell_type": "code",
   "source": [
    "scores = cross_val_score(model, X, y, cv=5, scoring='r2')\n",
    "print(\"Cross-Validation Scores (R2):\", scores)\n",
    "print(\"Mean CV R2:\", scores.mean())"
   ],
   "id": "b2d49723f0cb5b4e",
   "outputs": [],
   "execution_count": null
  },
  {
   "metadata": {},
   "cell_type": "code",
   "source": "sk.metrics.get_scorer_names()",
   "id": "66876720b69f8f2e",
   "outputs": [],
   "execution_count": null
  },
  {
   "metadata": {},
   "cell_type": "code",
   "source": [
    "# if multiple metrics are desired\n",
    "scores = cross_validate(model, X, y, cv=5, scoring=['r2', 'neg_mean_absolute_percentage_error'])\n",
    "print(scores)"
   ],
   "id": "8bd6929289f03e5a",
   "outputs": [],
   "execution_count": null
  },
  {
   "metadata": {},
   "cell_type": "code",
   "source": [
    "print(\"R2\\n\", scores['test_r2'])\n",
    "print(\"% error\\n\", scores['test_neg_mean_absolute_percentage_error'])"
   ],
   "id": "7fa83684d66b85fe",
   "outputs": [],
   "execution_count": null
  },
  {
   "metadata": {},
   "cell_type": "markdown",
   "source": "# Select regression model using cross-validation",
   "id": "69a3212065f48499"
  },
  {
   "metadata": {},
   "cell_type": "code",
   "source": [
    "regression_models = {\n",
    "    \"LinearRegression\": LinearRegression(),\n",
    "    \"Ridge\": Ridge(),\n",
    "    \"Lasso\": Lasso()\n",
    "}\n",
    "\n",
    "model_scores = {}\n",
    "for name, reg in regression_models.items():\n",
    "    score = cross_val_score(reg, X, y, cv=5, scoring='neg_mean_absolute_percentage_error').mean()\n",
    "    model_scores[name] = score\n",
    "\n",
    "print(\"\\n2. Regression Model Selection:\")\n",
    "for name, score in model_scores.items():\n",
    "    print(f\"{name}: {score:.4f}\")"
   ],
   "id": "31724a228941f10a",
   "outputs": [],
   "execution_count": null
  },
  {
   "metadata": {},
   "cell_type": "code",
   "source": "",
   "id": "157d25bbaf207aad",
   "outputs": [],
   "execution_count": null
  },
  {
   "metadata": {},
   "cell_type": "markdown",
   "source": "# Select hyperparameters using cross-validation (Grid Search)",
   "id": "23308d24e5dd5c1e"
  },
  {
   "metadata": {},
   "cell_type": "code",
   "source": [
    "# 3. Select hyperparameters using cross-validation (Grid Search)\n",
    "ridge_params = {\n",
    "    'alpha': [0.01, 0.1, 1, 10, 100]\n",
    "}\n",
    "\n",
    "grid = GridSearchCV(Ridge(), ridge_params, cv=5, scoring='neg_mean_absolute_percentage_error')\n",
    "grid.fit(X, y)\n",
    "print(\"\\n3. Best hyperparameters:\", grid.best_params_)\n",
    "print(\"Best cross-val score (Negative MAPE):\", grid.best_score_)"
   ],
   "id": "cb6687bc2d2ced3a",
   "outputs": [],
   "execution_count": null
  },
  {
   "metadata": {},
   "cell_type": "code",
   "source": "grid.cv_results_",
   "id": "1be8203da499d2cf",
   "outputs": [],
   "execution_count": null
  },
  {
   "metadata": {},
   "cell_type": "code",
   "source": "",
   "id": "a44664358da0c469",
   "outputs": [],
   "execution_count": null
  },
  {
   "metadata": {},
   "cell_type": "markdown",
   "source": "# Select model and hyperparameters using cross-validation",
   "id": "42fa6cb390042f36"
  },
  {
   "metadata": {},
   "cell_type": "code",
   "source": [
    "# 4. Select model and hyperparameters using cross-validation\n",
    "model_param_grid = {\n",
    "    'Ridge': {\n",
    "        'model': Ridge(),\n",
    "        'params': {\n",
    "            'alpha': [0.01, 0.1, 1, 10, 100]\n",
    "        }\n",
    "    },\n",
    "    'Lasso': {\n",
    "        'model': Lasso(),\n",
    "        'params': {\n",
    "            'alpha': [0.01, 0.1, 1, 10, 100]\n",
    "        }\n",
    "    }\n",
    "}\n",
    "\n",
    "best_model = None\n",
    "best_score = float('-inf')\n",
    "best_params = {}\n",
    "\n",
    "print(\"\\n4. Regression Model and Hyperparameter Selection:\")\n",
    "for name, mp in model_param_grid.items():\n",
    "    gs = GridSearchCV(mp['model'], mp['params'], cv=5, scoring='r2')\n",
    "    gs.fit(X, y)\n",
    "    print(f\"{name} best R2 score: {gs.best_score_:.4f} with params {gs.best_params_}\")\n",
    "    if gs.best_score_ > best_score:\n",
    "        best_score = gs.best_score_\n",
    "        best_model = name\n",
    "        best_params = gs.best_params_\n",
    "\n",
    "print(f\"\\nBest regression model: {best_model} with R2 score {best_score:.4f} and params {best_params}\")"
   ],
   "id": "996a10c1e46953b9",
   "outputs": [],
   "execution_count": null
  },
  {
   "metadata": {},
   "cell_type": "markdown",
   "source": "# Stratified Cross-Validation with Titanic Dataset",
   "id": "63e8319325a642bd"
  },
  {
   "metadata": {},
   "cell_type": "code",
   "source": [
    "\n",
    "print(\"\\n5. Stratified Cross-Validation with Titanic Dataset\")\n",
    "titanic_url = 'https://raw.githubusercontent.com/datasciencedojo/datasets/master/titanic.csv'\n",
    "titanic = pd.read_csv(titanic_url)\n",
    "\n",
    "# Preprocessing\n",
    "features = ['Pclass', 'Sex', 'Age', 'Fare']\n",
    "titanic = titanic[features + ['Survived']]\n",
    "\n",
    "# Handle missing values\n",
    "imputer = SimpleImputer(strategy='mean')\n",
    "titanic['Age'] = imputer.fit_transform(titanic[['Age']])\n",
    "\n",
    "# Encode categorical variable\n",
    "titanic['Sex'] = LabelEncoder().fit_transform(titanic['Sex'])\n",
    "\n",
    "X_titanic = titanic[features]\n",
    "y_titanic = titanic['Survived']\n",
    "\n",
    "# Use StratifiedKFold\n",
    "skf = StratifiedKFold(n_splits=5, shuffle=True, random_state=42)\n",
    "model = RandomForestClassifier()\n",
    "scores = cross_val_score(model, X_titanic, y_titanic, cv=skf)\n",
    "\n",
    "print(\"Stratified CV Accuracy Scores:\", scores)\n",
    "print(\"Mean Stratified CV Accuracy:\", scores.mean())"
   ],
   "id": "fd7be3b07dfd0564",
   "outputs": [],
   "execution_count": null
  },
  {
   "metadata": {},
   "cell_type": "markdown",
   "source": "",
   "id": "181b45634c8d6ecd"
  }
 ],
 "metadata": {
  "kernelspec": {
   "display_name": "Python 3",
   "language": "python",
   "name": "python3"
  },
  "language_info": {
   "codemirror_mode": {
    "name": "ipython",
    "version": 2
   },
   "file_extension": ".py",
   "mimetype": "text/x-python",
   "name": "python",
   "nbconvert_exporter": "python",
   "pygments_lexer": "ipython2",
   "version": "2.7.6"
  }
 },
 "nbformat": 4,
 "nbformat_minor": 5
}

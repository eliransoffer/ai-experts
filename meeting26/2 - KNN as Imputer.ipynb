{
 "cells": [
  {
   "cell_type": "code",
   "id": "initial_id",
   "metadata": {
    "collapsed": true,
    "ExecuteTime": {
     "end_time": "2025-03-31T08:22:15.327577Z",
     "start_time": "2025-03-31T08:22:15.237065Z"
    }
   },
   "source": [
    "import pandas as pd\n",
    "import numpy as np\n",
    "from sklearn.model_selection import train_test_split, GridSearchCV\n",
    "from sklearn.neighbors import KNeighborsClassifier\n",
    "from sklearn.preprocessing import StandardScaler\n",
    "from sklearn import metrics\n",
    "import plotly.graph_objects as go\n",
    "import plotly.express as px\n",
    "import plotly.figure_factory as ff\n",
    "from sklearn.impute import KNNImputer"
   ],
   "outputs": [],
   "execution_count": 6
  },
  {
   "metadata": {},
   "cell_type": "markdown",
   "source": "# Numeric Imputer",
   "id": "ba46c98eef9b2e9d"
  },
  {
   "metadata": {
    "ExecuteTime": {
     "end_time": "2025-03-31T08:26:55.133321Z",
     "start_time": "2025-03-31T08:26:55.000453Z"
    }
   },
   "cell_type": "code",
   "source": [
    "data_url = \"https://storage.googleapis.com/ai-experts/diabetes.csv\"\n",
    "\n",
    "# Load data\n",
    "df = pd.read_csv(data_url)"
   ],
   "id": "9c8c33337bb5c66",
   "outputs": [],
   "execution_count": 17
  },
  {
   "metadata": {
    "ExecuteTime": {
     "end_time": "2025-03-31T08:26:56.738234Z",
     "start_time": "2025-03-31T08:26:56.735065Z"
    }
   },
   "cell_type": "code",
   "source": [
    "# Columns where 0 indicates missing data\n",
    "cols_with_missing = ['BMI', 'Insulin', 'SkinThickness']"
   ],
   "id": "ceb0a075f4dbbca",
   "outputs": [],
   "execution_count": 18
  },
  {
   "metadata": {
    "ExecuteTime": {
     "end_time": "2025-03-31T08:26:57.797067Z",
     "start_time": "2025-03-31T08:26:57.785740Z"
    }
   },
   "cell_type": "code",
   "source": [
    "# Replace zeros with np.nan in the specified columns\n",
    "df[cols_with_missing] = df[cols_with_missing].replace(0, np.nan)\n",
    "\n",
    "# check how many missing values per column\n",
    "print(\"Missing values before imputation:\")\n",
    "print(df[cols_with_missing].isna().sum())"
   ],
   "id": "da90ecb8f473d121",
   "outputs": [
    {
     "name": "stdout",
     "output_type": "stream",
     "text": [
      "Missing values before imputation:\n",
      "BMI               11\n",
      "Insulin          374\n",
      "SkinThickness    227\n",
      "dtype: int64\n"
     ]
    }
   ],
   "execution_count": 19
  },
  {
   "metadata": {
    "ExecuteTime": {
     "end_time": "2025-03-31T08:26:58.911412Z",
     "start_time": "2025-03-31T08:26:58.837275Z"
    }
   },
   "cell_type": "code",
   "source": "df['Insulin'].plot(kind='hist', bins=50)",
   "id": "1abcdd82e981755b",
   "outputs": [
    {
     "data": {
      "text/plain": [
       "<Axes: ylabel='Frequency'>"
      ]
     },
     "execution_count": 20,
     "metadata": {},
     "output_type": "execute_result"
    },
    {
     "data": {
      "text/plain": [
       "<Figure size 640x480 with 1 Axes>"
      ],
      "image/png": "[encoded data removed]"
     },
     "metadata": {},
     "output_type": "display_data"
    }
   ],
   "execution_count": 20
  },
  {
   "metadata": {
    "ExecuteTime": {
     "end_time": "2025-03-31T08:21:49.738276Z",
     "start_time": "2025-03-31T08:21:49.711697Z"
    }
   },
   "cell_type": "code",
   "source": [
    "# Normalize features before KNN (important!)\n",
    "scaler = StandardScaler()\n",
    "X_scaled = scaler.fit_transform(df.drop('Outcome', axis=1))"
   ],
   "id": "b46684250eded09e",
   "outputs": [],
   "execution_count": 5
  },
  {
   "metadata": {
    "ExecuteTime": {
     "end_time": "2025-03-31T08:22:33.138079Z",
     "start_time": "2025-03-31T08:22:33.080926Z"
    }
   },
   "cell_type": "code",
   "source": [
    "# Impute using KNN\n",
    "imputer = KNNImputer(n_neighbors=5)\n",
    "X_imputed = imputer.fit_transform(X_scaled)\n",
    "\n"
   ],
   "id": "6d1b9836b31fb2ca",
   "outputs": [],
   "execution_count": 7
  },
  {
   "metadata": {
    "ExecuteTime": {
     "end_time": "2025-03-31T08:22:34.663644Z",
     "start_time": "2025-03-31T08:22:34.656737Z"
    }
   },
   "cell_type": "code",
   "source": [
    "# Replace imputed values back into a DataFrame\n",
    "X_imputed_df = pd.DataFrame(X_imputed, columns=df.columns.drop('Outcome'))"
   ],
   "id": "88965f9503708d47",
   "outputs": [],
   "execution_count": 8
  },
  {
   "metadata": {
    "ExecuteTime": {
     "end_time": "2025-03-31T08:22:48.355030Z",
     "start_time": "2025-03-31T08:22:48.308564Z"
    }
   },
   "cell_type": "code",
   "source": [
    "# Re-attach target column\n",
    "df_imputed = X_imputed_df.copy()\n",
    "df_imputed['Outcome'] = df['Outcome'].values\n",
    "\n",
    "# Check if missing values remain\n",
    "print(\"\\nMissing values after imputation:\")\n",
    "print(df_imputed.isna().sum())"
   ],
   "id": "19b9c1030e68e367",
   "outputs": [
    {
     "name": "stdout",
     "output_type": "stream",
     "text": [
      "\n",
      "Missing values after imputation:\n",
      "Pregnancies                 0\n",
      "Glucose                     0\n",
      "BloodPressure               0\n",
      "SkinThickness               0\n",
      "Insulin                     0\n",
      "BMI                         0\n",
      "DiabetesPedigreeFunction    0\n",
      "Age                         0\n",
      "Outcome                     0\n",
      "dtype: int64\n"
     ]
    }
   ],
   "execution_count": 9
  },
  {
   "metadata": {
    "ExecuteTime": {
     "end_time": "2025-03-31T08:29:14.208246Z",
     "start_time": "2025-03-31T08:29:14.124851Z"
    }
   },
   "cell_type": "code",
   "source": "df_imputed['Insulin'].plot(kind='hist', bins=50)",
   "id": "242fc992c50f6d6d",
   "outputs": [
    {
     "data": {
      "text/plain": [
       "<Axes: ylabel='Frequency'>"
      ]
     },
     "execution_count": 24,
     "metadata": {},
     "output_type": "execute_result"
    },
    {
     "data": {
      "text/plain": [
       "<Figure size 640x480 with 1 Axes>"
      ],
      "image/png": "[encoded data removed]"
     },
     "metadata": {},
     "output_type": "display_data"
    }
   ],
   "execution_count": 24
  },
  {
   "metadata": {},
   "cell_type": "code",
   "outputs": [],
   "execution_count": null,
   "source": "",
   "id": "d5af0fccdcd2f667"
  },
  {
   "metadata": {},
   "cell_type": "markdown",
   "source": "# Categorical Imputer",
   "id": "f2826751677f5aea"
  },
  {
   "metadata": {},
   "cell_type": "markdown",
   "source": [
    "**Exercise**\n",
    "- Use KNNImputer to impute missing values in Titanic Dataset\n",
    "- Use KNNClassifier to run classification task on Titanic dataset\n",
    "- Try different params, you can use GridSearch\n",
    "- Detect the best performing model\n",
    "-"
   ],
   "id": "2669b9bcb0f4b54"
  },
  {
   "metadata": {},
   "cell_type": "code",
   "outputs": [],
   "execution_count": null,
   "source": [
    "train_data_path = \"https://storage.googleapis.com/edulabs-public-datasets/titanic/titanic-train.csv\"\n",
    "test_data_path = \"https://storage.googleapis.com/edulabs-public-datasets/titanic/titanic-test.csv\"\n",
    "\n",
    "# Load Titanic dataset\n",
    "df = pd.read_csv(train_data_path)\n",
    "\n",
    "df"
   ],
   "id": "839ee927268c00d1"
  }
 ],
 "metadata": {
  "kernelspec": {
   "display_name": "Python 3",
   "language": "python",
   "name": "python3"
  },
  "language_info": {
   "codemirror_mode": {
    "name": "ipython",
    "version": 2
   },
   "file_extension": ".py",
   "mimetype": "text/x-python",
   "name": "python",
   "nbconvert_exporter": "python",
   "pygments_lexer": "ipython2",
   "version": "2.7.6"
  }
 },
 "nbformat": 4,
 "nbformat_minor": 5
}

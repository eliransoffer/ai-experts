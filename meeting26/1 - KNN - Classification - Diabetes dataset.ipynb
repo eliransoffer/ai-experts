{
 "cells": [
  {
   "cell_type": "code",
   "id": "initial_id",
   "metadata": {
    "collapsed": true
   },
   "source": [
    "import pandas as pd\n",
    "import numpy as np\n",
    "from sklearn.model_selection import train_test_split, GridSearchCV\n",
    "from sklearn.neighbors import KNeighborsClassifier\n",
    "from sklearn.preprocessing import StandardScaler\n",
    "from sklearn import metrics\n",
    "import plotly.graph_objects as go\n",
    "import plotly.express as px\n",
    "import plotly.figure_factory as ff"
   ],
   "outputs": [],
   "execution_count": null
  },
  {
   "metadata": {},
   "cell_type": "code",
   "source": [
    "data_url = \"https://storage.googleapis.com/ai-experts/diabetes.csv\"\n",
    "\n",
    "# Load data\n",
    "df = pd.read_csv(data_url)"
   ],
   "id": "15d81ef08079f615",
   "outputs": [],
   "execution_count": null
  },
  {
   "metadata": {
    "ExecuteTime": {
     "end_time": "2025-03-31T08:20:26.323183Z",
     "start_time": "2025-03-31T08:20:26.053999Z"
    }
   },
   "cell_type": "code",
   "source": "df.columns",
   "id": "342c1c1883ea5bc3",
   "outputs": [
    {
     "data": {
      "text/plain": [
       "Index(['Pregnancies', 'Glucose', 'BloodPressure', 'SkinThickness', 'Insulin',\n",
       "       'BMI', 'DiabetesPedigreeFunction', 'Age', 'Outcome'],\n",
       "      dtype='object')"
      ]
     },
     "execution_count": 46,
     "metadata": {},
     "output_type": "execute_result"
    }
   ],
   "execution_count": 46
  },
  {
   "metadata": {},
   "cell_type": "code",
   "source": "df = df.drop(df[(df['BMI'] < 15) | (df['Insulin'] == 0) | (df['SkinThickness'] == 0)].index)",
   "id": "b5480bba9dfe367a",
   "outputs": [],
   "execution_count": null
  },
  {
   "metadata": {},
   "cell_type": "code",
   "source": [
    "# Features and label\n",
    "X = df.drop(\"Outcome\", axis=1)\n",
    "y = df[\"Outcome\"]"
   ],
   "id": "6bb70cd4f6d81eef",
   "outputs": [],
   "execution_count": null
  },
  {
   "metadata": {},
   "cell_type": "code",
   "source": "y.value_counts()",
   "id": "dc1beb431e87c123",
   "outputs": [],
   "execution_count": null
  },
  {
   "metadata": {},
   "cell_type": "code",
   "source": [
    "# Standardize the features\n",
    "scaler = StandardScaler()\n",
    "X_scaled = scaler.fit_transform(X)"
   ],
   "id": "ff6130ee4c60e2ba",
   "outputs": [],
   "execution_count": null
  },
  {
   "metadata": {},
   "cell_type": "code",
   "source": [
    "# Train-test split for final evaluation\n",
    "X_train, X_test, y_train, y_test = train_test_split(X_scaled, y, test_size=0.2, random_state=42, stratify=y)"
   ],
   "id": "92a5d7f4f79b2227",
   "outputs": [],
   "execution_count": null
  },
  {
   "metadata": {},
   "cell_type": "code",
   "source": "",
   "id": "d63bfd52239d63bb",
   "outputs": [],
   "execution_count": null
  },
  {
   "metadata": {},
   "cell_type": "code",
   "source": [
    "# Set up KNN and parameter grid\n",
    "knn = KNeighborsClassifier(n_neighbors=5, metric='euclidean')\n",
    "knn.fit(X_train, y_train)"
   ],
   "id": "5cde43122dc7a529",
   "outputs": [],
   "execution_count": null
  },
  {
   "metadata": {},
   "cell_type": "code",
   "source": "knn.predict(X_test)",
   "id": "3191bb6cb2e0e311",
   "outputs": [],
   "execution_count": null
  },
  {
   "metadata": {},
   "cell_type": "code",
   "source": "X_test[0]",
   "id": "2951665ca45aeadd",
   "outputs": [],
   "execution_count": null
  },
  {
   "metadata": {},
   "cell_type": "code",
   "source": "distances, indices = knn.kneighbors(X_test[:1], n_neighbors=5)",
   "id": "7a7bf5c9358aaf34",
   "outputs": [],
   "execution_count": null
  },
  {
   "metadata": {},
   "cell_type": "code",
   "source": "distances",
   "id": "49ff063d4549a890",
   "outputs": [],
   "execution_count": null
  },
  {
   "metadata": {},
   "cell_type": "code",
   "source": "indices",
   "id": "6536de54545c2b1",
   "outputs": [],
   "execution_count": null
  },
  {
   "metadata": {},
   "cell_type": "code",
   "source": "X_test[0]",
   "id": "6bf95eeafa78e42a",
   "outputs": [],
   "execution_count": null
  },
  {
   "metadata": {},
   "cell_type": "code",
   "source": "X_train[282]",
   "id": "56e434bc5aa8556c",
   "outputs": [],
   "execution_count": null
  },
  {
   "metadata": {},
   "cell_type": "code",
   "source": "scaler.inverse_transform(X_test[:1])",
   "id": "13de11642b019907",
   "outputs": [],
   "execution_count": null
  },
  {
   "metadata": {},
   "cell_type": "code",
   "source": "scaler.inverse_transform(X_train[282:283])",
   "id": "264f6f9db6a34423",
   "outputs": [],
   "execution_count": null
  },
  {
   "metadata": {},
   "cell_type": "code",
   "source": "metrics.confusion_matrix(y_test, knn.predict(X_test))",
   "id": "5fc205f2ea81b2dc",
   "outputs": [],
   "execution_count": null
  },
  {
   "metadata": {},
   "cell_type": "code",
   "source": "print(metrics.classification_report(y_test, knn.predict(X_test)))",
   "id": "f576c96b12a199ee",
   "outputs": [],
   "execution_count": null
  },
  {
   "metadata": {},
   "cell_type": "code",
   "source": [
    "knn = KNeighborsClassifier()\n",
    "\n",
    "param_grid = {\n",
    "    'n_neighbors': list(range(1, 31)),\n",
    "    'metric': ['euclidean', 'manhattan', 'minkowski', 'cosine'],\n",
    "    'algorithm': ['brute']  # Required for 'cosine'\n",
    "}\n",
    "\n",
    "# Run GridSearchCV\n",
    "grid_search = GridSearchCV(knn, param_grid, cv=5, scoring='accuracy', n_jobs=-1)\n",
    "grid_search.fit(X_train, y_train)\n",
    "\n",
    "# Get results into DataFrame\n",
    "results = pd.DataFrame(grid_search.cv_results_)\n",
    "\n",
    "# Plot results using Plotly\n",
    "fig = px.line(\n",
    "    results,\n",
    "    x='param_n_neighbors',\n",
    "    y='mean_test_score',\n",
    "    color='param_metric',\n",
    "    markers=True,\n",
    "    title='KNN: Accuracy vs. K by Distance Metric',\n",
    "    labels={'param_n_neighbors': 'K (Number of Neighbors)', 'mean_test_score': 'CV Accuracy'}\n",
    ")\n",
    "fig.update_layout(template='plotly_white')\n",
    "fig.show()\n",
    "\n",
    "# Report best parameters\n",
    "print(f\"Best Parameters: {grid_search.best_params_}\")\n",
    "print(f\"Best CV Accuracy: {grid_search.best_score_:.4f}\")\n",
    "\n",
    "# Evaluate on test set\n",
    "best_model = grid_search.best_estimator_\n",
    "y_pred = best_model.predict(X_test)\n",
    "test_acc = metrics.accuracy_score(y_test, y_pred)\n",
    "print(f\"Test Accuracy with Best Model: {test_acc:.4f}\")"
   ],
   "id": "2296b782f7f8ae5c",
   "outputs": [],
   "execution_count": null
  },
  {
   "metadata": {},
   "cell_type": "code",
   "source": [
    "best_knn = KNeighborsClassifier(n_neighbors=23, metric='euclidean')\n",
    "best_knn.fit(X_train, y_train)\n",
    "print(metrics.confusion_matrix(y_test, best_knn.predict(X_test)))\n",
    "print(metrics.classification_report(y_test, best_knn.predict(X_test)))"
   ],
   "id": "b89dedf98286e058",
   "outputs": [],
   "execution_count": null
  },
  {
   "metadata": {},
   "cell_type": "markdown",
   "source": "## Adding weights",
   "id": "b013395607c9c43e"
  },
  {
   "metadata": {},
   "cell_type": "code",
   "source": [
    "# Define KNN and parameter grid\n",
    "knn = KNeighborsClassifier()\n",
    "\n",
    "param_grid = {\n",
    "    'n_neighbors': list(range(1, 31)),\n",
    "    'metric': ['euclidean', 'manhattan', 'minkowski', 'cosine'],\n",
    "    'weights': ['uniform', 'distance'],\n",
    "    'algorithm': ['brute']  # Required for 'cosine'\n",
    "}\n",
    "\n",
    "# Grid search with cross-validation\n",
    "grid_search = GridSearchCV(knn, param_grid, cv=5, scoring='accuracy', n_jobs=-1)\n",
    "grid_search.fit(X_train, y_train)\n",
    "\n",
    "# Results as DataFrame\n",
    "results = pd.DataFrame(grid_search.cv_results_)\n",
    "\n",
    "# Plot accuracy vs K, colored by metric and line-style by weights\n",
    "fig = px.line(\n",
    "    results,\n",
    "    x='param_n_neighbors',\n",
    "    y='mean_test_score',\n",
    "    color='param_metric',\n",
    "    line_dash='param_weights',\n",
    "    markers=True,\n",
    "    title='KNN: Accuracy vs. K by Metric and Weight Type',\n",
    "    labels={\n",
    "        'param_n_neighbors': 'K (Number of Neighbors)',\n",
    "        'mean_test_score': 'Cross-Validated Accuracy',\n",
    "        'param_metric': 'Distance Metric',\n",
    "        'param_weights': 'Weight Type'\n",
    "    }\n",
    ")\n",
    "fig.update_layout(template='plotly_white')\n",
    "fig.show()\n",
    "\n",
    "# Report best model\n",
    "print(f\"Best Parameters: {grid_search.best_params_}\")\n",
    "print(f\"Best CV Accuracy: {grid_search.best_score_:.4f}\")\n",
    "\n",
    "# Final model evaluation on test set\n",
    "best_model = grid_search.best_estimator_\n",
    "y_pred = best_model.predict(X_test)\n",
    "test_acc = metrics.accuracy_score(y_test, y_pred)\n",
    "print(f\"Test Accuracy with Best Model: {test_acc:.4f}\")\n",
    "\n",
    "# Confusion matrix\n",
    "cm = metrics.confusion_matrix(y_test, y_pred)\n",
    "labels = ['No Diabetes', 'Diabetes']\n",
    "\n",
    "fig_cm = ff.create_annotated_heatmap(\n",
    "    z=cm,\n",
    "    x=labels,\n",
    "    y=labels,\n",
    "    colorscale='Blues',\n",
    "    showscale=True,\n",
    "    hoverinfo=\"z\",\n",
    "    annotation_text=cm.astype(str),\n",
    ")\n",
    "fig_cm.update_layout(\n",
    "    title='Confusion Matrix',\n",
    "    xaxis_title='Predicted',\n",
    "    yaxis_title='Actual',\n",
    "    template='plotly_white'\n",
    ")\n",
    "fig_cm.show()"
   ],
   "id": "7f5685d86865e8a9",
   "outputs": [],
   "execution_count": null
  },
  {
   "metadata": {},
   "cell_type": "code",
   "source": "",
   "id": "d01e94772875ad7",
   "outputs": [],
   "execution_count": null
  },
  {
   "metadata": {},
   "cell_type": "markdown",
   "source": [
    "**Exercise: Try performing grid search CV, but with different metric - more suitable for diabetes problem**\n",
    "\n",
    "- select more suitable metric (or try with different metrics)\n",
    "- try different **p** params as well (for Minkowsky distance)"
   ],
   "id": "d3b1794852eb711a"
  },
  {
   "metadata": {},
   "cell_type": "code",
   "source": "\n",
   "id": "268860ee61b30f44",
   "outputs": [],
   "execution_count": null
  }
 ],
 "metadata": {
  "kernelspec": {
   "display_name": "Python 3",
   "language": "python",
   "name": "python3"
  },
  "language_info": {
   "codemirror_mode": {
    "name": "ipython",
    "version": 2
   },
   "file_extension": ".py",
   "mimetype": "text/x-python",
   "name": "python",
   "nbconvert_exporter": "python",
   "pygments_lexer": "ipython2",
   "version": "2.7.6"
  }
 },
 "nbformat": 4,
 "nbformat_minor": 5
}

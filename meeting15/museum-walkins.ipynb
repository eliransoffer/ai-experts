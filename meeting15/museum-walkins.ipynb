{
  "nbformat": 4,
  "nbformat_minor": 0,
  "metadata": {
    "colab": {
      "provenance": [],
      "toc_visible": true,
      "authorship_tag": "ABX9TyOv+uTmGMvJ0cAqDtathICU",
      "include_colab_link": true
    },
    "kernelspec": {
      "name": "python3",
      "display_name": "Python 3"
    },
    "language_info": {
      "name": "python"
    }
  },
  "cells": [
    {
      "cell_type": "markdown",
      "metadata": {
        "id": "view-in-github",
        "colab_type": "text"
      },
      "source": [
        "<a href=\"https://colab.research.google.com/github/valeria-edulabs/ai-experts/blob/main/meeting15/museum-walkins.ipynb\" target=\"_parent\"><img src=\"https://colab.research.google.com/assets/colab-badge.svg\" alt=\"Open In Colab\"/></a>"
      ]
    },
    {
      "cell_type": "code",
      "execution_count": null,
      "metadata": {
        "id": "cSP_m9_cwIFr"
      },
      "outputs": [],
      "source": [
        "import pandas as pd\n",
        "\n",
        "#  (high-level, simple to use)\n",
        "import plotly.express as px\n",
        "# (low-level, highly customizable)\n",
        "import plotly.graph_objects as go\n"
      ]
    },
    {
      "cell_type": "code",
      "source": [
        "data_path = \"https://storage.googleapis.com/edulabs-public-datasets/museum-walkins.csv\""
      ],
      "metadata": {
        "id": "cATsTYSkwlHZ"
      },
      "execution_count": null,
      "outputs": []
    },
    {
      "cell_type": "code",
      "source": [
        "# Set Plotly as Pandas plotting backend\n",
        "\n",
        "pd.options.plotting.backend = \"plotly\""
      ],
      "metadata": {
        "id": "92UXtf0uzI7R"
      },
      "execution_count": null,
      "outputs": []
    },
    {
      "cell_type": "markdown",
      "source": [
        "# Loading data"
      ],
      "metadata": {
        "id": "GWhBk-ZrwrGr"
      }
    },
    {
      "cell_type": "code",
      "source": [
        "df = pd.read_csv(data_path, parse_dates=[\"date\"], dayfirst=True, header=0, usecols=[1, 3, 4, 5, 6], names=[\"date\", \"type\", \"amnt\", \"weather\", \"exhibition\"])"
      ],
      "metadata": {
        "id": "znphi6rfwpxl"
      },
      "execution_count": null,
      "outputs": []
    },
    {
      "cell_type": "code",
      "source": [
        "df"
      ],
      "metadata": {
        "id": "yA8_FhkbwxWF"
      },
      "execution_count": null,
      "outputs": []
    },
    {
      "cell_type": "code",
      "source": [
        "df['weekday'] = df['date'].dt.day_name()"
      ],
      "metadata": {
        "id": "0j82wKo_T9ex"
      },
      "execution_count": null,
      "outputs": []
    },
    {
      "cell_type": "markdown",
      "source": [
        "## General trend"
      ],
      "metadata": {
        "id": "4XGHjbHDyiM7"
      }
    },
    {
      "cell_type": "code",
      "source": [
        "visits_per_date = df[['date', 'amnt']].groupby(\"date\").sum()"
      ],
      "metadata": {
        "id": "5qo7mG32y34t"
      },
      "execution_count": null,
      "outputs": []
    },
    {
      "cell_type": "code",
      "source": [
        "visits_per_date.plot()"
      ],
      "metadata": {
        "id": "9MmDDQTZwyE4"
      },
      "execution_count": null,
      "outputs": []
    },
    {
      "cell_type": "code",
      "source": [
        "df_monthly = df[['date', 'amnt']].groupby(pd.Grouper(key=\"date\", freq=\"ME\")).sum()\n",
        "df_monthly.plot()"
      ],
      "metadata": {
        "id": "dFfgMSq-0JAB"
      },
      "execution_count": null,
      "outputs": []
    },
    {
      "cell_type": "markdown",
      "source": [
        "### Rolling window"
      ],
      "metadata": {
        "id": "EIjoxD1zU7oM"
      }
    },
    {
      "cell_type": "code",
      "source": [
        "#https://pandas.pydata.org/docs/reference/api/pandas.DataFrame.resample.html#pandas.DataFrame.resample\n",
        "df.set_index('date').resample('2ME')['amnt'].mean().plot()"
      ],
      "metadata": {
        "id": "RMOnLCB4U-Cp"
      },
      "execution_count": null,
      "outputs": []
    },
    {
      "cell_type": "markdown",
      "source": [
        "### Moving average (smoothing)\n",
        "\n",
        "Moving averages are a valuable tool in data analysis and are used for a variety of reasons, primarily to smooth out data and identify underlying trends. Here's a breakdown of why you might need a moving average:\n",
        "\n",
        "**1. Identifying Trends:**\n",
        "\n",
        "*   **Smoothing out noise:** Raw data often contains a lot of random fluctuations or \"noise\" that can obscure the underlying trend. Moving averages smooth out these fluctuations, making it easier to see the bigger picture.\n",
        "*   **Highlighting direction:** By averaging data over a specific period, moving averages help to clarify the direction in which the data is moving (upward, downward, or sideways).\n",
        "\n",
        "**2. Reducing the Impact of Outliers:**\n",
        "\n",
        "*   **Minimizing distortion:** Outliers, or extreme values, can significantly distort the perception of data. Moving averages reduce the impact of outliers by averaging them with other data points, providing a more representative view of the overall trend.\n",
        "\n",
        "**3. Forecasting and Prediction:**\n",
        "\n",
        "*   **Extrapolating trends:** In some cases, moving averages can be used to extrapolate trends and make predictions about future values. By observing the direction and slope of a moving average, analysts might infer potential future movements in the data.\n",
        "\n"
      ],
      "metadata": {
        "id": "o01zZG6OWzk7"
      }
    },
    {
      "cell_type": "code",
      "source": [
        "# play with window size to see the trends\n",
        "#https://pandas.pydata.org/docs/reference/api/pandas.DataFrame.rolling.html#pandas.DataFrame.rolling\n",
        "df.set_index('date')['amnt'].rolling(window=20).mean().plot()"
      ],
      "metadata": {
        "id": "gEqdK_YqW2J_"
      },
      "execution_count": null,
      "outputs": []
    },
    {
      "cell_type": "markdown",
      "source": [
        "## Visitors per year"
      ],
      "metadata": {
        "id": "mUd2cYgoZJTY"
      }
    },
    {
      "cell_type": "code",
      "source": [
        "df['year'] = df['date'].dt.year"
      ],
      "metadata": {
        "id": "hDB9NV3RZM_7"
      },
      "execution_count": null,
      "outputs": []
    },
    {
      "cell_type": "code",
      "source": [
        "df[['year', 'amnt']].groupby('year').mean()"
      ],
      "metadata": {
        "id": "ARQvfEseZQLI"
      },
      "execution_count": null,
      "outputs": []
    },
    {
      "cell_type": "markdown",
      "source": [
        "## How do season and weather affect visitor traffic?"
      ],
      "metadata": {
        "id": "k29BIVyn7JXd"
      }
    },
    {
      "cell_type": "code",
      "source": [
        "def get_season(month):\n",
        "    if month in [12, 1, 2]:\n",
        "        return \"Winter\"\n",
        "    elif month in [3, 4, 5]:\n",
        "        return \"Spring\"\n",
        "    elif month in [6, 7, 8]:\n",
        "        return \"Summer\"\n",
        "    else:\n",
        "        return \"Autumn\"\n",
        "df[\"season\"] = df[\"date\"].dt.month.map(get_season)"
      ],
      "metadata": {
        "id": "BWSfpF5Z7Kty"
      },
      "execution_count": null,
      "outputs": []
    },
    {
      "cell_type": "code",
      "source": [
        "visitors_per_season_weather = df[['amnt', 'season', 'weather']].groupby(['season', 'weather']).sum()"
      ],
      "metadata": {
        "id": "LmDmWiiF-JHy"
      },
      "execution_count": null,
      "outputs": []
    },
    {
      "cell_type": "code",
      "source": [
        "visitors_per_season_weather"
      ],
      "metadata": {
        "id": "RGCF7fV6-bv6"
      },
      "execution_count": null,
      "outputs": []
    },
    {
      "cell_type": "code",
      "source": [
        "# Pivot the table: make seasons the columns and weather the rows\n",
        "df_pivot = visitors_per_season_weather.pivot_table(index=\"weather\", columns=\"season\", values=\"amnt\", aggfunc=\"sum\")\n",
        "\n",
        "# Display the transformed table\n",
        "print(df_pivot)"
      ],
      "metadata": {
        "id": "aTvF14br-Q0P"
      },
      "execution_count": null,
      "outputs": []
    },
    {
      "cell_type": "code",
      "source": [
        "fig = px.imshow(df_pivot.values,\n",
        "                labels=dict(x=\"Season\", y=\"Weather\", color=\"Count\"),\n",
        "                x=df_pivot.columns,\n",
        "                y=df_pivot.index,\n",
        "                text_auto=True,  # Display values inside the heatmap\n",
        "                color_continuous_scale=\"Blues\")  # Change to Reds, Viridis, etc.\n",
        "\n",
        "fig.update_layout(title=\"Total visits by weather / season\")\n",
        "fig.show()"
      ],
      "metadata": {
        "id": "RutXScmt_8aI"
      },
      "execution_count": null,
      "outputs": []
    },
    {
      "cell_type": "markdown",
      "source": [
        "How many days we have for each season / weather?"
      ],
      "metadata": {
        "id": "J_dN3N7y-0lQ"
      }
    },
    {
      "cell_type": "code",
      "source": [
        "crosstab = pd.crosstab(df[\"season\"], df[\"weather\"]).transpose()\n",
        "print(crosstab)"
      ],
      "metadata": {
        "id": "MV3jhzui68nS"
      },
      "execution_count": null,
      "outputs": []
    },
    {
      "cell_type": "code",
      "source": [
        "fig = px.imshow(crosstab.values,\n",
        "                labels=dict(x=\"Weather\", y=\"Season\", color=\"Count\"),\n",
        "                x=crosstab.columns,\n",
        "                y=crosstab.index,\n",
        "                text_auto=True,  # Display values inside the heatmap\n",
        "                color_continuous_scale=\"Blues\")  # Change to Reds, Viridis, etc.\n",
        "\n",
        "fig.update_layout(title=\"Weather Distribution by Season\")\n",
        "fig.show()\n"
      ],
      "metadata": {
        "id": "7mcq2Ja_8LMs"
      },
      "execution_count": null,
      "outputs": []
    },
    {
      "cell_type": "markdown",
      "source": [
        "Normalize by Available Days per Weather Type"
      ],
      "metadata": {
        "id": "kODlXNuj8y27"
      }
    },
    {
      "cell_type": "code",
      "source": [
        "df[['weather', 'amnt']].groupby(['weather']).mean()"
      ],
      "metadata": {
        "id": "jTlb4o0FZkBx"
      },
      "execution_count": null,
      "outputs": []
    },
    {
      "cell_type": "code",
      "source": [],
      "metadata": {
        "id": "zaMZGOsU9jej"
      },
      "execution_count": null,
      "outputs": []
    },
    {
      "cell_type": "markdown",
      "source": [
        "Normalization 2"
      ],
      "metadata": {
        "id": "ufs3yavmDyp6"
      }
    },
    {
      "cell_type": "code",
      "source": [
        "df[['season', 'weather', 'amnt']].groupby(['season', 'weather']).agg(['mean', 'median', 'std'])"
      ],
      "metadata": {
        "id": "gOjL8GAIZyhj"
      },
      "execution_count": null,
      "outputs": []
    },
    {
      "cell_type": "code",
      "source": [
        "normalized_amnts = df[['season', 'weather', 'amnt']].groupby(['season', 'weather']).mean()"
      ],
      "metadata": {
        "id": "7I1_MwzGDzdW"
      },
      "execution_count": null,
      "outputs": []
    },
    {
      "cell_type": "code",
      "source": [
        "df_pivot_normalized = normalized_amnts.pivot_table(index=\"weather\", columns=\"season\", values=\"amnt\", aggfunc=\"sum\")\n",
        "\n",
        "# Display the transformed table\n",
        "print(df_pivot_normalized)"
      ],
      "metadata": {
        "id": "Re5d5CoNECPl"
      },
      "execution_count": null,
      "outputs": []
    },
    {
      "cell_type": "code",
      "source": [
        "fig = px.imshow(df_pivot_normalized.values,\n",
        "                labels=dict(x=\"Season\", y=\"Weather\", color=\"Count\"),\n",
        "                x=df_pivot.columns,\n",
        "                y=df_pivot.index,\n",
        "                text_auto=True,  # Display values inside the heatmap\n",
        "                color_continuous_scale=\"Blues\")  # Change to Reds, Viridis, etc.\n",
        "\n",
        "fig.update_layout(title=\"Normalized visits by weather / season\")\n",
        "fig.show()"
      ],
      "metadata": {
        "id": "mINMwd8CEeR_"
      },
      "execution_count": null,
      "outputs": []
    },
    {
      "cell_type": "markdown",
      "source": [
        "## Distributions"
      ],
      "metadata": {
        "id": "mh0A2p90KKIo"
      }
    },
    {
      "cell_type": "code",
      "source": [
        "df['season_weather'] = df['season'] + '/' + df['weather']\n",
        "fig = px.box(df, x=['season_weather'], y=\"amnt\")\n",
        "fig.update_layout(yaxis=dict(range=[0, 100]))\n",
        "fig.show()"
      ],
      "metadata": {
        "id": "hhtPqZc_aDO2"
      },
      "execution_count": null,
      "outputs": []
    },
    {
      "cell_type": "code",
      "source": [
        "fig = px.histogram(df, x=\"amnt\", nbins=550, marginal=\"box\",)\n",
        "fig.update_layout(xaxis=dict(range=[0, 80]))"
      ],
      "metadata": {
        "id": "uznNKkdDM-bi"
      },
      "execution_count": null,
      "outputs": []
    },
    {
      "cell_type": "code",
      "source": [
        "df['amnt'].agg([\"min\", \"max\", \"mean\", \"median\", \"std\"])"
      ],
      "metadata": {
        "id": "MEmdxIOLS19S"
      },
      "execution_count": null,
      "outputs": []
    },
    {
      "cell_type": "code",
      "source": [
        "df[df['weekday'] == 'Saturday']['amnt'].agg([\"min\", \"max\", \"mean\", \"median\", \"std\"])"
      ],
      "metadata": {
        "id": "Q6yHIPJeTWtF"
      },
      "execution_count": null,
      "outputs": []
    },
    {
      "cell_type": "markdown",
      "source": [
        "### Per type"
      ],
      "metadata": {
        "id": "1pnhh7eVMCZY"
      }
    },
    {
      "cell_type": "code",
      "source": [
        "fig = px.box(df, x=\"type\", y=\"amnt\", title=\"Boxplot per Type\", color='type', height=800)\n",
        "fig.update_layout(yaxis=dict(range=[0, 200]))  # Set y-axis range from 0 to 200\n",
        "fig.show()"
      ],
      "metadata": {
        "id": "9ig6b3qiKLFG"
      },
      "execution_count": null,
      "outputs": []
    },
    {
      "cell_type": "markdown",
      "source": [
        "### Per weekday"
      ],
      "metadata": {
        "id": "8noO3YztMG39"
      }
    },
    {
      "cell_type": "code",
      "source": [],
      "metadata": {
        "id": "gznv78OAK5Lf"
      },
      "execution_count": null,
      "outputs": []
    },
    {
      "cell_type": "code",
      "source": [
        "fig = px.box(df, x=\"weekday\", y=\"amnt\", title=\"Boxplot per Weekday\", color='season', height=600)\n",
        "fig.update_layout(yaxis=dict(range=[0, 120]))  # Set y-axis range from 0 to 200\n",
        "fig.show()"
      ],
      "metadata": {
        "id": "X-J91BHxMPeb"
      },
      "execution_count": null,
      "outputs": []
    },
    {
      "cell_type": "code",
      "source": [],
      "metadata": {
        "id": "as2IRp_AMbUr"
      },
      "execution_count": null,
      "outputs": []
    },
    {
      "cell_type": "code",
      "source": [],
      "metadata": {
        "id": "49MdvJpLUZmk"
      },
      "execution_count": null,
      "outputs": []
    }
  ]
}